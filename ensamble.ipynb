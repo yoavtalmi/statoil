{
 "cells": [
  {
   "cell_type": "code",
   "execution_count": 1,
   "metadata": {
    "collapsed": true
   },
   "outputs": [],
   "source": [
    "import pandas as pd\n",
    "import numpy as np"
   ]
  },
  {
   "cell_type": "code",
   "execution_count": 2,
   "metadata": {
    "collapsed": true
   },
   "outputs": [],
   "source": [
    "submissions = ['resnet', 'keras_baseline']"
   ]
  },
  {
   "cell_type": "code",
   "execution_count": 5,
   "metadata": {},
   "outputs": [
    {
     "name": "stderr",
     "output_type": "stream",
     "text": [
      "/home/user/tensorflow/lib/python2.7/site-packages/ipykernel_launcher.py:4: FutureWarning: sort(columns=....) is deprecated, use sort_values(by=.....)\n",
      "  after removing the cwd from sys.path.\n"
     ]
    }
   ],
   "source": [
    "submissions_dfs = []\n",
    "for submission in submissions:\n",
    "    submission_df = pd.read_csv(\"/mnt/extDisk/courses/data/statoil/data/\" + submission + \"/\" + submission + \".csv\")\n",
    "    submission_df = submission_df.sort('id')\n",
    "    submissions_dfs.append(submission_df)"
   ]
  },
  {
   "cell_type": "code",
   "execution_count": 2,
   "metadata": {},
   "outputs": [
    {
     "name": "stderr",
     "output_type": "stream",
     "text": [
      "/home/user/tensorflow/lib/python2.7/site-packages/ipykernel_launcher.py:6: FutureWarning: sort(columns=....) is deprecated, use sort_values(by=.....)\n",
      "  \n"
     ]
    }
   ],
   "source": [
    "submissions_dfs = []\n",
    "paths = ['data_aug/flip_full.csv', 'ensamble/ensamble_0211_full.csv','pseudo_labeling/pseudo_full.csv', 'data_aug/black_box_full.csv','data_aug/noise_box_full.csv','data_aug/noise_mix_full.csv']\n",
    "#paths = ['ensamble/stacking_0612_full.csv','data_aug/noise_mix_full.csv']\n",
    "for path in paths:\n",
    "    submission_df = pd.read_csv(\"/mnt/extDisk/courses/data/statoil/data/\" + path)\n",
    "    submission_df = submission_df.sort('id')\n",
    "    submissions_dfs.append(submission_df)"
   ]
  },
  {
   "cell_type": "code",
   "execution_count": 20,
   "metadata": {
    "collapsed": true
   },
   "outputs": [],
   "source": [
    "ensamble = submissions_dfs[0]\n",
    "ensamble['is_iceberg'] = np.mean([submissions_dfs[0].is_iceberg,submissions_dfs[1].is_iceberg],axis=0)"
   ]
  },
  {
   "cell_type": "code",
   "execution_count": 21,
   "metadata": {},
   "outputs": [
    {
     "data": {
      "text/html": [
       "<div>\n",
       "<table border=\"1\" class=\"dataframe\">\n",
       "  <thead>\n",
       "    <tr style=\"text-align: right;\">\n",
       "      <th></th>\n",
       "      <th>id</th>\n",
       "      <th>is_iceberg</th>\n",
       "    </tr>\n",
       "  </thead>\n",
       "  <tbody>\n",
       "    <tr>\n",
       "      <th>0</th>\n",
       "      <td>000c65d7</td>\n",
       "      <td>0.901355</td>\n",
       "    </tr>\n",
       "    <tr>\n",
       "      <th>1</th>\n",
       "      <td>001680af</td>\n",
       "      <td>0.097190</td>\n",
       "    </tr>\n",
       "    <tr>\n",
       "      <th>2</th>\n",
       "      <td>00193999</td>\n",
       "      <td>0.986390</td>\n",
       "    </tr>\n",
       "    <tr>\n",
       "      <th>3</th>\n",
       "      <td>00247e48</td>\n",
       "      <td>0.724458</td>\n",
       "    </tr>\n",
       "    <tr>\n",
       "      <th>4</th>\n",
       "      <td>00503faa</td>\n",
       "      <td>0.019494</td>\n",
       "    </tr>\n",
       "  </tbody>\n",
       "</table>\n",
       "</div>"
      ],
      "text/plain": [
       "         id  is_iceberg\n",
       "0  000c65d7    0.901355\n",
       "1  001680af    0.097190\n",
       "2  00193999    0.986390\n",
       "3  00247e48    0.724458\n",
       "4  00503faa    0.019494"
      ]
     },
     "execution_count": 21,
     "metadata": {},
     "output_type": "execute_result"
    }
   ],
   "source": [
    "ensamble.head()"
   ]
  },
  {
   "cell_type": "code",
   "execution_count": 24,
   "metadata": {
    "collapsed": true
   },
   "outputs": [],
   "source": [
    "ensamble.to_csv(\"/mnt/extDisk/courses/data/statoil/data/ensamble/ensamble_0612_full.csv\", index=False)"
   ]
  },
  {
   "cell_type": "code",
   "execution_count": 18,
   "metadata": {
    "collapsed": true
   },
   "outputs": [],
   "source": [
    "def mean_distance(df1,df2):\n",
    "    print np.mean(np.absolute(df1['is_iceberg'] - df2['is_iceberg']))"
   ]
  },
  {
   "cell_type": "code",
   "execution_count": 19,
   "metadata": {},
   "outputs": [
    {
     "name": "stdout",
     "output_type": "stream",
     "text": [
      "0.386040208166\n"
     ]
    }
   ],
   "source": [
    "mean_distance(submissions_dfs[0],submissions_dfs[1])"
   ]
  },
  {
   "cell_type": "code",
   "execution_count": 3,
   "metadata": {},
   "outputs": [
    {
     "data": {
      "text/html": [
       "<div>\n",
       "<table border=\"1\" class=\"dataframe\">\n",
       "  <thead>\n",
       "    <tr style=\"text-align: right;\">\n",
       "      <th></th>\n",
       "      <th>id</th>\n",
       "      <th>is_iceberg_0</th>\n",
       "      <th>is_iceberg_1</th>\n",
       "      <th>is_iceberg_2</th>\n",
       "      <th>is_iceberg_3</th>\n",
       "      <th>is_iceberg_4</th>\n",
       "      <th>is_iceberg_5</th>\n",
       "    </tr>\n",
       "  </thead>\n",
       "  <tbody>\n",
       "    <tr>\n",
       "      <th>0</th>\n",
       "      <td>000c65d7</td>\n",
       "      <td>0.883821</td>\n",
       "      <td>0.948007</td>\n",
       "      <td>0.951305</td>\n",
       "      <td>0.536584</td>\n",
       "      <td>0.883821</td>\n",
       "      <td>0.907199</td>\n",
       "    </tr>\n",
       "    <tr>\n",
       "      <th>1</th>\n",
       "      <td>001680af</td>\n",
       "      <td>0.206122</td>\n",
       "      <td>0.397580</td>\n",
       "      <td>0.087387</td>\n",
       "      <td>0.019671</td>\n",
       "      <td>0.206122</td>\n",
       "      <td>0.063468</td>\n",
       "    </tr>\n",
       "    <tr>\n",
       "      <th>2</th>\n",
       "      <td>00193999</td>\n",
       "      <td>0.969658</td>\n",
       "      <td>0.965124</td>\n",
       "      <td>0.992847</td>\n",
       "      <td>0.932687</td>\n",
       "      <td>0.969658</td>\n",
       "      <td>0.984238</td>\n",
       "    </tr>\n",
       "    <tr>\n",
       "      <th>3</th>\n",
       "      <td>00247e48</td>\n",
       "      <td>0.626862</td>\n",
       "      <td>0.974896</td>\n",
       "      <td>0.999299</td>\n",
       "      <td>0.558587</td>\n",
       "      <td>0.626862</td>\n",
       "      <td>0.734220</td>\n",
       "    </tr>\n",
       "    <tr>\n",
       "      <th>4</th>\n",
       "      <td>00503faa</td>\n",
       "      <td>0.077954</td>\n",
       "      <td>0.240479</td>\n",
       "      <td>0.019667</td>\n",
       "      <td>0.000838</td>\n",
       "      <td>0.077954</td>\n",
       "      <td>0.000007</td>\n",
       "    </tr>\n",
       "  </tbody>\n",
       "</table>\n",
       "</div>"
      ],
      "text/plain": [
       "         id  is_iceberg_0  is_iceberg_1  is_iceberg_2  is_iceberg_3  \\\n",
       "0  000c65d7      0.883821      0.948007      0.951305      0.536584   \n",
       "1  001680af      0.206122      0.397580      0.087387      0.019671   \n",
       "2  00193999      0.969658      0.965124      0.992847      0.932687   \n",
       "3  00247e48      0.626862      0.974896      0.999299      0.558587   \n",
       "4  00503faa      0.077954      0.240479      0.019667      0.000838   \n",
       "\n",
       "   is_iceberg_4  is_iceberg_5  \n",
       "0      0.883821      0.907199  \n",
       "1      0.206122      0.063468  \n",
       "2      0.969658      0.984238  \n",
       "3      0.626862      0.734220  \n",
       "4      0.077954      0.000007  "
      ]
     },
     "execution_count": 3,
     "metadata": {},
     "output_type": "execute_result"
    }
   ],
   "source": [
    "for i in range(len(submissions_dfs)):\n",
    "    submissions_dfs[i] = submissions_dfs[i].rename(columns={'is_iceberg':'is_iceberg_' +str(i)})\n",
    "\n",
    "concat_sub = submissions_dfs[0]\n",
    "\n",
    "for i in range(1,len(submissions_dfs)):\n",
    "    concat_sub = concat_sub.merge(submissions_dfs[i],on='id')\n",
    "\n",
    "#concat_sub.reset_index(inplace=True)\n",
    "concat_sub.head()"
   ]
  },
  {
   "cell_type": "code",
   "execution_count": 4,
   "metadata": {},
   "outputs": [
    {
     "data": {
      "text/html": [
       "<div>\n",
       "<table border=\"1\" class=\"dataframe\">\n",
       "  <thead>\n",
       "    <tr style=\"text-align: right;\">\n",
       "      <th></th>\n",
       "      <th>id</th>\n",
       "      <th>is_iceberg_0</th>\n",
       "      <th>is_iceberg_1</th>\n",
       "      <th>is_iceberg_2</th>\n",
       "      <th>is_iceberg_3</th>\n",
       "      <th>is_iceberg_4</th>\n",
       "      <th>is_iceberg_5</th>\n",
       "      <th>is_iceberg_max</th>\n",
       "      <th>is_iceberg_min</th>\n",
       "      <th>is_iceberg_mean</th>\n",
       "      <th>is_iceberg_median</th>\n",
       "    </tr>\n",
       "  </thead>\n",
       "  <tbody>\n",
       "    <tr>\n",
       "      <th>0</th>\n",
       "      <td>000c65d7</td>\n",
       "      <td>0.883821</td>\n",
       "      <td>0.948007</td>\n",
       "      <td>0.951305</td>\n",
       "      <td>0.536584</td>\n",
       "      <td>0.883821</td>\n",
       "      <td>0.907199</td>\n",
       "      <td>0.951305</td>\n",
       "      <td>0.536584</td>\n",
       "      <td>0.824828</td>\n",
       "      <td>0.883821</td>\n",
       "    </tr>\n",
       "    <tr>\n",
       "      <th>1</th>\n",
       "      <td>001680af</td>\n",
       "      <td>0.206122</td>\n",
       "      <td>0.397580</td>\n",
       "      <td>0.087387</td>\n",
       "      <td>0.019671</td>\n",
       "      <td>0.206122</td>\n",
       "      <td>0.063468</td>\n",
       "      <td>0.397580</td>\n",
       "      <td>0.019671</td>\n",
       "      <td>0.174700</td>\n",
       "      <td>0.174700</td>\n",
       "    </tr>\n",
       "    <tr>\n",
       "      <th>2</th>\n",
       "      <td>00193999</td>\n",
       "      <td>0.969658</td>\n",
       "      <td>0.965124</td>\n",
       "      <td>0.992847</td>\n",
       "      <td>0.932687</td>\n",
       "      <td>0.969658</td>\n",
       "      <td>0.984238</td>\n",
       "      <td>0.992847</td>\n",
       "      <td>0.932687</td>\n",
       "      <td>0.967468</td>\n",
       "      <td>0.969658</td>\n",
       "    </tr>\n",
       "    <tr>\n",
       "      <th>3</th>\n",
       "      <td>00247e48</td>\n",
       "      <td>0.626862</td>\n",
       "      <td>0.974896</td>\n",
       "      <td>0.999299</td>\n",
       "      <td>0.558587</td>\n",
       "      <td>0.626862</td>\n",
       "      <td>0.734220</td>\n",
       "      <td>0.999299</td>\n",
       "      <td>0.558587</td>\n",
       "      <td>0.759827</td>\n",
       "      <td>0.734220</td>\n",
       "    </tr>\n",
       "    <tr>\n",
       "      <th>4</th>\n",
       "      <td>00503faa</td>\n",
       "      <td>0.077954</td>\n",
       "      <td>0.240479</td>\n",
       "      <td>0.019667</td>\n",
       "      <td>0.000838</td>\n",
       "      <td>0.077954</td>\n",
       "      <td>0.000007</td>\n",
       "      <td>0.240479</td>\n",
       "      <td>0.000007</td>\n",
       "      <td>0.082173</td>\n",
       "      <td>0.077954</td>\n",
       "    </tr>\n",
       "  </tbody>\n",
       "</table>\n",
       "</div>"
      ],
      "text/plain": [
       "         id  is_iceberg_0  is_iceberg_1  is_iceberg_2  is_iceberg_3  \\\n",
       "0  000c65d7      0.883821      0.948007      0.951305      0.536584   \n",
       "1  001680af      0.206122      0.397580      0.087387      0.019671   \n",
       "2  00193999      0.969658      0.965124      0.992847      0.932687   \n",
       "3  00247e48      0.626862      0.974896      0.999299      0.558587   \n",
       "4  00503faa      0.077954      0.240479      0.019667      0.000838   \n",
       "\n",
       "   is_iceberg_4  is_iceberg_5  is_iceberg_max  is_iceberg_min  \\\n",
       "0      0.883821      0.907199        0.951305        0.536584   \n",
       "1      0.206122      0.063468        0.397580        0.019671   \n",
       "2      0.969658      0.984238        0.992847        0.932687   \n",
       "3      0.626862      0.734220        0.999299        0.558587   \n",
       "4      0.077954      0.000007        0.240479        0.000007   \n",
       "\n",
       "   is_iceberg_mean  is_iceberg_median  \n",
       "0         0.824828           0.883821  \n",
       "1         0.174700           0.174700  \n",
       "2         0.967468           0.969658  \n",
       "3         0.759827           0.734220  \n",
       "4         0.082173           0.077954  "
      ]
     },
     "execution_count": 4,
     "metadata": {},
     "output_type": "execute_result"
    }
   ],
   "source": [
    "# get the data fields ready for stacking\n",
    "concat_sub['is_iceberg_max'] = concat_sub.iloc[:, 1:].max(axis=1)\n",
    "concat_sub['is_iceberg_min'] = concat_sub.iloc[:, 1:].min(axis=1)\n",
    "concat_sub['is_iceberg_mean'] = concat_sub.iloc[:, 1:].mean(axis=1)\n",
    "concat_sub['is_iceberg_median'] = concat_sub.iloc[:, 1:].median(axis=1)\n",
    "concat_sub.head()"
   ]
  },
  {
   "cell_type": "code",
   "execution_count": 5,
   "metadata": {
    "collapsed": true
   },
   "outputs": [],
   "source": [
    "# set up cutoff threshold for lower and upper bounds, easy to twist \n",
    "cutoff_lo = 0.8\n",
    "cutoff_hi = 0.2"
   ]
  },
  {
   "cell_type": "code",
   "execution_count": 6,
   "metadata": {},
   "outputs": [
    {
     "data": {
      "text/plain": [
       "0    0.883821\n",
       "1    0.174700\n",
       "2    0.992847\n",
       "3    0.734220\n",
       "4    0.077954\n",
       "Name: is_iceberg, dtype: float64"
      ]
     },
     "execution_count": 6,
     "metadata": {},
     "output_type": "execute_result"
    }
   ],
   "source": [
    "concat_sub['is_iceberg'] = np.where(np.all(concat_sub.iloc[:,1:7] > cutoff_lo, axis=1), \n",
    "                                    concat_sub['is_iceberg_max'], \n",
    "                                    np.where(np.all(concat_sub.iloc[:,1:7] < cutoff_hi, axis=1),\n",
    "                                             concat_sub['is_iceberg_min'], \n",
    "                                             concat_sub['is_iceberg_median']))\n",
    "concat_sub['is_iceberg'].head()"
   ]
  },
  {
   "cell_type": "code",
   "execution_count": 7,
   "metadata": {},
   "outputs": [
    {
     "data": {
      "text/html": [
       "<div>\n",
       "<table border=\"1\" class=\"dataframe\">\n",
       "  <thead>\n",
       "    <tr style=\"text-align: right;\">\n",
       "      <th></th>\n",
       "      <th>id</th>\n",
       "      <th>is_iceberg</th>\n",
       "    </tr>\n",
       "  </thead>\n",
       "  <tbody>\n",
       "    <tr>\n",
       "      <th>0</th>\n",
       "      <td>000c65d7</td>\n",
       "      <td>0.883821</td>\n",
       "    </tr>\n",
       "    <tr>\n",
       "      <th>1</th>\n",
       "      <td>001680af</td>\n",
       "      <td>0.174700</td>\n",
       "    </tr>\n",
       "    <tr>\n",
       "      <th>2</th>\n",
       "      <td>00193999</td>\n",
       "      <td>0.992847</td>\n",
       "    </tr>\n",
       "    <tr>\n",
       "      <th>3</th>\n",
       "      <td>00247e48</td>\n",
       "      <td>0.734220</td>\n",
       "    </tr>\n",
       "    <tr>\n",
       "      <th>4</th>\n",
       "      <td>00503faa</td>\n",
       "      <td>0.077954</td>\n",
       "    </tr>\n",
       "  </tbody>\n",
       "</table>\n",
       "</div>"
      ],
      "text/plain": [
       "         id  is_iceberg\n",
       "0  000c65d7    0.883821\n",
       "1  001680af    0.174700\n",
       "2  00193999    0.992847\n",
       "3  00247e48    0.734220\n",
       "4  00503faa    0.077954"
      ]
     },
     "execution_count": 7,
     "metadata": {},
     "output_type": "execute_result"
    }
   ],
   "source": [
    "concat_sub[['id','is_iceberg']].head()"
   ]
  },
  {
   "cell_type": "code",
   "execution_count": 8,
   "metadata": {
    "collapsed": true
   },
   "outputs": [],
   "source": [
    "concat_sub[['id','is_iceberg']].to_csv(\"/mnt/extDisk/courses/data/statoil/data/ensamble/stacking_1212_full.csv\", index=False)"
   ]
  },
  {
   "cell_type": "code",
   "execution_count": 13,
   "metadata": {},
   "outputs": [
    {
     "data": {
      "text/html": [
       "<div>\n",
       "<table border=\"1\" class=\"dataframe\">\n",
       "  <thead>\n",
       "    <tr style=\"text-align: right;\">\n",
       "      <th></th>\n",
       "      <th>id</th>\n",
       "      <th>is_iceberg</th>\n",
       "    </tr>\n",
       "  </thead>\n",
       "  <tbody>\n",
       "    <tr>\n",
       "      <th>0</th>\n",
       "      <td>000c65d7</td>\n",
       "      <td>0.895510</td>\n",
       "    </tr>\n",
       "    <tr>\n",
       "      <th>1</th>\n",
       "      <td>001680af</td>\n",
       "      <td>0.130912</td>\n",
       "    </tr>\n",
       "    <tr>\n",
       "      <th>2</th>\n",
       "      <td>00193999</td>\n",
       "      <td>0.988543</td>\n",
       "    </tr>\n",
       "    <tr>\n",
       "      <th>3</th>\n",
       "      <td>00247e48</td>\n",
       "      <td>0.714697</td>\n",
       "    </tr>\n",
       "    <tr>\n",
       "      <th>4</th>\n",
       "      <td>00503faa</td>\n",
       "      <td>0.038981</td>\n",
       "    </tr>\n",
       "  </tbody>\n",
       "</table>\n",
       "</div>"
      ],
      "text/plain": [
       "         id  is_iceberg\n",
       "0  000c65d7    0.895510\n",
       "1  001680af    0.130912\n",
       "2  00193999    0.988543\n",
       "3  00247e48    0.714697\n",
       "4  00503faa    0.038981"
      ]
     },
     "execution_count": 13,
     "metadata": {},
     "output_type": "execute_result"
    }
   ],
   "source": [
    "submissions_dfs[0].head()"
   ]
  },
  {
   "cell_type": "code",
   "execution_count": 14,
   "metadata": {},
   "outputs": [
    {
     "data": {
      "text/html": [
       "<div>\n",
       "<table border=\"1\" class=\"dataframe\">\n",
       "  <thead>\n",
       "    <tr style=\"text-align: right;\">\n",
       "      <th></th>\n",
       "      <th>id</th>\n",
       "      <th>is_iceberg</th>\n",
       "    </tr>\n",
       "  </thead>\n",
       "  <tbody>\n",
       "    <tr>\n",
       "      <th>5442</th>\n",
       "      <td>000c65d7</td>\n",
       "      <td>0.907199</td>\n",
       "    </tr>\n",
       "    <tr>\n",
       "      <th>37</th>\n",
       "      <td>001680af</td>\n",
       "      <td>0.063468</td>\n",
       "    </tr>\n",
       "    <tr>\n",
       "      <th>697</th>\n",
       "      <td>00193999</td>\n",
       "      <td>0.984238</td>\n",
       "    </tr>\n",
       "    <tr>\n",
       "      <th>1152</th>\n",
       "      <td>00247e48</td>\n",
       "      <td>0.734220</td>\n",
       "    </tr>\n",
       "    <tr>\n",
       "      <th>3033</th>\n",
       "      <td>00503faa</td>\n",
       "      <td>0.000007</td>\n",
       "    </tr>\n",
       "  </tbody>\n",
       "</table>\n",
       "</div>"
      ],
      "text/plain": [
       "            id  is_iceberg\n",
       "5442  000c65d7    0.907199\n",
       "37    001680af    0.063468\n",
       "697   00193999    0.984238\n",
       "1152  00247e48    0.734220\n",
       "3033  00503faa    0.000007"
      ]
     },
     "execution_count": 14,
     "metadata": {},
     "output_type": "execute_result"
    }
   ],
   "source": [
    "submissions_dfs[1].head()"
   ]
  },
  {
   "cell_type": "code",
   "execution_count": 23,
   "metadata": {},
   "outputs": [
    {
     "data": {
      "text/plain": [
       "0.019494"
      ]
     },
     "execution_count": 23,
     "metadata": {},
     "output_type": "execute_result"
    }
   ],
   "source": [
    "(0.038981 +0.000007)/2"
   ]
  },
  {
   "cell_type": "code",
   "execution_count": null,
   "metadata": {
    "collapsed": true
   },
   "outputs": [],
   "source": []
  }
 ],
 "metadata": {
  "kernelspec": {
   "display_name": "Python 2",
   "language": "python",
   "name": "python2"
  },
  "language_info": {
   "codemirror_mode": {
    "name": "ipython",
    "version": 2
   },
   "file_extension": ".py",
   "mimetype": "text/x-python",
   "name": "python",
   "nbconvert_exporter": "python",
   "pygments_lexer": "ipython2",
   "version": "2.7.12"
  }
 },
 "nbformat": 4,
 "nbformat_minor": 2
}
