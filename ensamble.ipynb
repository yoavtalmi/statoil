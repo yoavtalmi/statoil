{
 "cells": [
  {
   "cell_type": "code",
   "execution_count": 1,
   "metadata": {
    "collapsed": true
   },
   "outputs": [],
   "source": [
    "import pandas as pd\n",
    "import numpy as np"
   ]
  },
  {
   "cell_type": "code",
   "execution_count": 2,
   "metadata": {
    "collapsed": true
   },
   "outputs": [],
   "source": [
    "submissions = ['resnet', 'keras_baseline']"
   ]
  },
  {
   "cell_type": "code",
   "execution_count": 19,
   "metadata": {},
   "outputs": [
    {
     "name": "stderr",
     "output_type": "stream",
     "text": [
      "/home/user/tensorflow/lib/python2.7/site-packages/ipykernel_launcher.py:4: FutureWarning: sort(columns=....) is deprecated, use sort_values(by=.....)\n",
      "  after removing the cwd from sys.path.\n"
     ]
    }
   ],
   "source": [
    "submissions_dfs = []\n",
    "for submission in submissions:\n",
    "    submission_df = pd.read_csv(\"/mnt/extDisk/courses/data/statoil/data/\" + submission + \"/\" + submission + \".csv\")\n",
    "    submission_df = submission_df.sort('id')\n",
    "    submissions_dfs.append(submission_df)"
   ]
  },
  {
   "cell_type": "code",
   "execution_count": 6,
   "metadata": {},
   "outputs": [
    {
     "name": "stderr",
     "output_type": "stream",
     "text": [
      "/home/user/tensorflow/lib/python2.7/site-packages/ipykernel_launcher.py:3: FutureWarning: sort(columns=....) is deprecated, use sort_values(by=.....)\n",
      "  This is separate from the ipykernel package so we can avoid doing imports until\n",
      "/home/user/tensorflow/lib/python2.7/site-packages/ipykernel_launcher.py:6: FutureWarning: sort(columns=....) is deprecated, use sort_values(by=.....)\n",
      "  \n"
     ]
    }
   ],
   "source": [
    "submissions_dfs = []\n",
    "submission_df = pd.read_csv(\"/mnt/extDisk/courses/data/statoil/data/\" + 'resnet' + \"/\" + 'channel1' + \".csv\")\n",
    "submission_df = submission_df.sort('id')\n",
    "submissions_dfs.append(submission_df)\n",
    "submission_df = pd.read_csv(\"/mnt/extDisk/courses/data/statoil/data/\" + 'resnet' + \"/\" + 'channel2' + \".csv\")\n",
    "submission_df = submission_df.sort('id')\n",
    "submissions_dfs.append(submission_df)"
   ]
  },
  {
   "cell_type": "code",
   "execution_count": 7,
   "metadata": {
    "collapsed": true
   },
   "outputs": [],
   "source": [
    "ensamble = submissions_dfs[0]\n",
    "ensamble['is_iceberg'] = np.mean([submission.is_iceberg for submission in submissions_dfs],axis=0)"
   ]
  },
  {
   "cell_type": "code",
   "execution_count": 8,
   "metadata": {},
   "outputs": [
    {
     "data": {
      "text/html": [
       "<div>\n",
       "<table border=\"1\" class=\"dataframe\">\n",
       "  <thead>\n",
       "    <tr style=\"text-align: right;\">\n",
       "      <th></th>\n",
       "      <th>id</th>\n",
       "      <th>is_iceberg</th>\n",
       "    </tr>\n",
       "  </thead>\n",
       "  <tbody>\n",
       "    <tr>\n",
       "      <th>5442</th>\n",
       "      <td>000c65d7</td>\n",
       "      <td>0.441796</td>\n",
       "    </tr>\n",
       "    <tr>\n",
       "      <th>37</th>\n",
       "      <td>001680af</td>\n",
       "      <td>0.992615</td>\n",
       "    </tr>\n",
       "    <tr>\n",
       "      <th>697</th>\n",
       "      <td>00193999</td>\n",
       "      <td>0.925850</td>\n",
       "    </tr>\n",
       "    <tr>\n",
       "      <th>1152</th>\n",
       "      <td>00247e48</td>\n",
       "      <td>0.980367</td>\n",
       "    </tr>\n",
       "    <tr>\n",
       "      <th>3033</th>\n",
       "      <td>00503faa</td>\n",
       "      <td>0.452174</td>\n",
       "    </tr>\n",
       "  </tbody>\n",
       "</table>\n",
       "</div>"
      ],
      "text/plain": [
       "            id  is_iceberg\n",
       "5442  000c65d7    0.441796\n",
       "37    001680af    0.992615\n",
       "697   00193999    0.925850\n",
       "1152  00247e48    0.980367\n",
       "3033  00503faa    0.452174"
      ]
     },
     "execution_count": 8,
     "metadata": {},
     "output_type": "execute_result"
    }
   ],
   "source": [
    "ensamble.head()"
   ]
  },
  {
   "cell_type": "code",
   "execution_count": 9,
   "metadata": {
    "collapsed": true
   },
   "outputs": [],
   "source": [
    "ensamble.to_csv(\"/mnt/extDisk/courses/data/statoil/data/ensamble/ensamble_resnet_channels.csv\", index=False)"
   ]
  },
  {
   "cell_type": "code",
   "execution_count": null,
   "metadata": {
    "collapsed": true
   },
   "outputs": [],
   "source": []
  }
 ],
 "metadata": {
  "kernelspec": {
   "display_name": "Python 2",
   "language": "python",
   "name": "python2"
  },
  "language_info": {
   "codemirror_mode": {
    "name": "ipython",
    "version": 2
   },
   "file_extension": ".py",
   "mimetype": "text/x-python",
   "name": "python",
   "nbconvert_exporter": "python",
   "pygments_lexer": "ipython2",
   "version": "2.7.12"
  }
 },
 "nbformat": 4,
 "nbformat_minor": 2
}
