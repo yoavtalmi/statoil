{
 "cells": [
  {
   "cell_type": "code",
   "execution_count": 2,
   "metadata": {},
   "outputs": [],
   "source": [
    "import pandas as pd\n",
    "import numpy as np"
   ]
  },
  {
   "cell_type": "code",
   "execution_count": 4,
   "metadata": {
    "collapsed": true
   },
   "outputs": [],
   "source": [
    "submissions = ['resnet', 'keras_baseline']"
   ]
  },
  {
   "cell_type": "code",
   "execution_count": 5,
   "metadata": {},
   "outputs": [
    {
     "name": "stderr",
     "output_type": "stream",
     "text": [
      "/home/user/tensorflow/lib/python2.7/site-packages/ipykernel_launcher.py:4: FutureWarning: sort(columns=....) is deprecated, use sort_values(by=.....)\n",
      "  after removing the cwd from sys.path.\n"
     ]
    }
   ],
   "source": [
    "submissions_dfs = []\n",
    "for submission in submissions:\n",
    "    submission_df = pd.read_csv(\"/mnt/extDisk/courses/data/statoil/data/\" + submission + \"/\" + submission + \".csv\")\n",
    "    submission_df = submission_df.sort('id')\n",
    "    submissions_dfs.append(submission_df)"
   ]
  },
  {
   "cell_type": "code",
   "execution_count": 18,
   "metadata": {},
   "outputs": [
    {
     "name": "stderr",
     "output_type": "stream",
     "text": [
      "/home/vagrant/prediction_server_env/lib/python2.7/site-packages/ipykernel/__main__.py:6: FutureWarning: sort(columns=....) is deprecated, use sort_values(by=.....)\n",
      "/home/vagrant/prediction_server_env/lib/python2.7/site-packages/ipykernel/__main__.py:9: FutureWarning: sort(columns=....) is deprecated, use sort_values(by=.....)\n"
     ]
    }
   ],
   "source": [
    "submissions_dfs = []\n",
    "#submission_df = pd.read_csv(\"/home/ubuntu/statoil/\" + 'submission' + \"/\" + 'ensamble_0211' + \".csv\")\n",
    "#submission_df = submission_df.sort('id')\n",
    "#submissions_dfs.append(submission_df)\n",
    "submission_df = pd.read_csv(\"/home/ubuntu/statoil/\" + 'submission' + \"/\" + 'pseudo_labeling_sure_resnet' + \".csv\")\n",
    "submission_df = submission_df.sort('id')\n",
    "submissions_dfs.append(submission_df)\n",
    "submission_df = pd.read_csv(\"/home/ubuntu/statoil/\" + 'submission' + \"/\" + 'data_aug_noise_mix_clean_7syn' + \".csv\")\n",
    "submission_df = submission_df.sort('id')\n",
    "submissions_dfs.append(submission_df)"
   ]
  },
  {
   "cell_type": "code",
   "execution_count": 19,
   "metadata": {},
   "outputs": [],
   "source": [
    "ensamble = submissions_dfs[0]\n",
    "ensamble['is_iceberg'] = np.mean([submission.is_iceberg for submission in submissions_dfs],axis=0)"
   ]
  },
  {
   "cell_type": "code",
   "execution_count": 20,
   "metadata": {},
   "outputs": [
    {
     "data": {
      "text/html": [
       "<div>\n",
       "<table border=\"1\" class=\"dataframe\">\n",
       "  <thead>\n",
       "    <tr style=\"text-align: right;\">\n",
       "      <th></th>\n",
       "      <th>id</th>\n",
       "      <th>is_iceberg</th>\n",
       "    </tr>\n",
       "  </thead>\n",
       "  <tbody>\n",
       "    <tr>\n",
       "      <th>5442</th>\n",
       "      <td>000c65d7</td>\n",
       "      <td>0.810540</td>\n",
       "    </tr>\n",
       "    <tr>\n",
       "      <th>37</th>\n",
       "      <td>001680af</td>\n",
       "      <td>0.437519</td>\n",
       "    </tr>\n",
       "    <tr>\n",
       "      <th>697</th>\n",
       "      <td>00193999</td>\n",
       "      <td>0.993969</td>\n",
       "    </tr>\n",
       "    <tr>\n",
       "      <th>1152</th>\n",
       "      <td>00247e48</td>\n",
       "      <td>0.988064</td>\n",
       "    </tr>\n",
       "    <tr>\n",
       "      <th>3033</th>\n",
       "      <td>00503faa</td>\n",
       "      <td>0.014610</td>\n",
       "    </tr>\n",
       "  </tbody>\n",
       "</table>\n",
       "</div>"
      ],
      "text/plain": [
       "            id  is_iceberg\n",
       "5442  000c65d7    0.810540\n",
       "37    001680af    0.437519\n",
       "697   00193999    0.993969\n",
       "1152  00247e48    0.988064\n",
       "3033  00503faa    0.014610"
      ]
     },
     "execution_count": 20,
     "metadata": {},
     "output_type": "execute_result"
    }
   ],
   "source": [
    "ensamble.head()"
   ]
  },
  {
   "cell_type": "code",
   "execution_count": 21,
   "metadata": {},
   "outputs": [],
   "source": [
    "ensamble.to_csv(\"/home/ubuntu/statoil/submission/ensamble_1511_01.csv\", index=False)"
   ]
  },
  {
   "cell_type": "code",
   "execution_count": 22,
   "metadata": {},
   "outputs": [],
   "source": [
    "def mean_distance(df1,df2):\n",
    "    print np.mean(np.absolute(df1['is_iceberg'] - df2['is_iceberg']))"
   ]
  },
  {
   "cell_type": "code",
   "execution_count": 23,
   "metadata": {},
   "outputs": [
    {
     "name": "stdout",
     "output_type": "stream",
     "text": [
      "0.0954957113467\n"
     ]
    }
   ],
   "source": [
    "mean_distance(submissions_dfs[0],submissions_dfs[1])"
   ]
  },
  {
   "cell_type": "code",
   "execution_count": null,
   "metadata": {
    "collapsed": true
   },
   "outputs": [],
   "source": []
  }
 ],
 "metadata": {
  "kernelspec": {
   "display_name": "Python 2",
   "language": "python",
   "name": "python2"
  },
  "language_info": {
   "codemirror_mode": {
    "name": "ipython",
    "version": 2
   },
   "file_extension": ".py",
   "mimetype": "text/x-python",
   "name": "python",
   "nbconvert_exporter": "python",
   "pygments_lexer": "ipython2",
   "version": "2.7.9"
  }
 },
 "nbformat": 4,
 "nbformat_minor": 2
}
