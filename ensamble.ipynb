{
 "cells": [
  {
   "cell_type": "code",
   "execution_count": 3,
   "metadata": {
    "collapsed": true
   },
   "outputs": [],
   "source": [
    "import pandas as pd\n",
    "import numpy as np"
   ]
  },
  {
   "cell_type": "code",
   "execution_count": 4,
   "metadata": {
    "collapsed": true
   },
   "outputs": [],
   "source": [
    "submissions = ['resnet', 'keras_baseline']"
   ]
  },
  {
   "cell_type": "code",
   "execution_count": 5,
   "metadata": {},
   "outputs": [
    {
     "name": "stderr",
     "output_type": "stream",
     "text": [
      "/home/user/tensorflow/lib/python2.7/site-packages/ipykernel_launcher.py:4: FutureWarning: sort(columns=....) is deprecated, use sort_values(by=.....)\n",
      "  after removing the cwd from sys.path.\n"
     ]
    }
   ],
   "source": [
    "submissions_dfs = []\n",
    "for submission in submissions:\n",
    "    submission_df = pd.read_csv(\"/mnt/extDisk/courses/data/statoil/data/\" + submission + \"/\" + submission + \".csv\")\n",
    "    submission_df = submission_df.sort('id')\n",
    "    submissions_dfs.append(submission_df)"
   ]
  },
  {
   "cell_type": "code",
   "execution_count": 10,
   "metadata": {},
   "outputs": [
    {
     "name": "stderr",
     "output_type": "stream",
     "text": [
      "/home/user/tensorflow/lib/python2.7/site-packages/ipykernel_launcher.py:3: FutureWarning: sort(columns=....) is deprecated, use sort_values(by=.....)\n",
      "  This is separate from the ipykernel package so we can avoid doing imports until\n",
      "/home/user/tensorflow/lib/python2.7/site-packages/ipykernel_launcher.py:6: FutureWarning: sort(columns=....) is deprecated, use sort_values(by=.....)\n",
      "  \n"
     ]
    }
   ],
   "source": [
    "submissions_dfs = []\n",
    "submission_df = pd.read_csv(\"/mnt/extDisk/courses/data/statoil/data/\" + 'ensamble' + \"/\" + 'ensamble_0211' + \".csv\")\n",
    "submission_df = submission_df.sort('id')\n",
    "submissions_dfs.append(submission_df)\n",
    "submission_df = pd.read_csv(\"/mnt/extDisk/courses/data/statoil/data/\" + 'pseudo_labeling' + \"/\" + 'pseudo_labeling_sure_resnet' + \".csv\")\n",
    "submission_df = submission_df.sort('id')\n",
    "submissions_dfs.append(submission_df)"
   ]
  },
  {
   "cell_type": "code",
   "execution_count": 12,
   "metadata": {
    "collapsed": true
   },
   "outputs": [],
   "source": [
    "ensamble = submissions_dfs[0]\n",
    "ensamble['is_iceberg'] = np.mean([submission.is_iceberg for submission in submissions_dfs],axis=0)"
   ]
  },
  {
   "cell_type": "code",
   "execution_count": 13,
   "metadata": {},
   "outputs": [
    {
     "data": {
      "text/html": [
       "<div>\n",
       "<table border=\"1\" class=\"dataframe\">\n",
       "  <thead>\n",
       "    <tr style=\"text-align: right;\">\n",
       "      <th></th>\n",
       "      <th>id</th>\n",
       "      <th>is_iceberg</th>\n",
       "    </tr>\n",
       "  </thead>\n",
       "  <tbody>\n",
       "    <tr>\n",
       "      <th>0</th>\n",
       "      <td>000c65d7</td>\n",
       "      <td>0.747903</td>\n",
       "    </tr>\n",
       "    <tr>\n",
       "      <th>1</th>\n",
       "      <td>001680af</td>\n",
       "      <td>0.541541</td>\n",
       "    </tr>\n",
       "    <tr>\n",
       "      <th>2</th>\n",
       "      <td>00193999</td>\n",
       "      <td>0.941407</td>\n",
       "    </tr>\n",
       "    <tr>\n",
       "      <th>3</th>\n",
       "      <td>00247e48</td>\n",
       "      <td>0.994865</td>\n",
       "    </tr>\n",
       "    <tr>\n",
       "      <th>4</th>\n",
       "      <td>00503faa</td>\n",
       "      <td>0.014434</td>\n",
       "    </tr>\n",
       "  </tbody>\n",
       "</table>\n",
       "</div>"
      ],
      "text/plain": [
       "         id  is_iceberg\n",
       "0  000c65d7    0.747903\n",
       "1  001680af    0.541541\n",
       "2  00193999    0.941407\n",
       "3  00247e48    0.994865\n",
       "4  00503faa    0.014434"
      ]
     },
     "execution_count": 13,
     "metadata": {},
     "output_type": "execute_result"
    }
   ],
   "source": [
    "ensamble.head()"
   ]
  },
  {
   "cell_type": "code",
   "execution_count": 14,
   "metadata": {
    "collapsed": true
   },
   "outputs": [],
   "source": [
    "ensamble.to_csv(\"/mnt/extDisk/courses/data/statoil/data/ensamble/ensamble_0211_resnet_pseudo.csv\", index=False)"
   ]
  },
  {
   "cell_type": "code",
   "execution_count": 8,
   "metadata": {
    "collapsed": true
   },
   "outputs": [],
   "source": [
    "def mean_distance(df1,df2):\n",
    "    print np.mean(np.absolute(df1['is_iceberg'] - df2['is_iceberg']))"
   ]
  },
  {
   "cell_type": "code",
   "execution_count": 11,
   "metadata": {},
   "outputs": [
    {
     "name": "stdout",
     "output_type": "stream",
     "text": [
      "0.397544405602\n"
     ]
    }
   ],
   "source": [
    "mean_distance(submissions_dfs[0],submissions_dfs[1])"
   ]
  },
  {
   "cell_type": "code",
   "execution_count": null,
   "metadata": {
    "collapsed": true
   },
   "outputs": [],
   "source": []
  }
 ],
 "metadata": {
  "kernelspec": {
   "display_name": "Python 2",
   "language": "python",
   "name": "python2"
  },
  "language_info": {
   "codemirror_mode": {
    "name": "ipython",
    "version": 2
   },
   "file_extension": ".py",
   "mimetype": "text/x-python",
   "name": "python",
   "nbconvert_exporter": "python",
   "pygments_lexer": "ipython2",
   "version": "2.7.12"
  }
 },
 "nbformat": 4,
 "nbformat_minor": 2
}
