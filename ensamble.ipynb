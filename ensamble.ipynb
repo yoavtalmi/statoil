{
 "cells": [
  {
   "cell_type": "code",
   "execution_count": 2,
   "metadata": {
    "collapsed": true
   },
   "outputs": [],
   "source": [
    "import pandas as pd\n",
    "import numpy as np"
   ]
  },
  {
   "cell_type": "code",
   "execution_count": 2,
   "metadata": {
    "collapsed": true
   },
   "outputs": [],
   "source": [
    "submissions = ['resnet', 'keras_baseline']"
   ]
  },
  {
   "cell_type": "code",
   "execution_count": 5,
   "metadata": {},
   "outputs": [
    {
     "name": "stderr",
     "output_type": "stream",
     "text": [
      "/home/user/tensorflow/lib/python2.7/site-packages/ipykernel_launcher.py:4: FutureWarning: sort(columns=....) is deprecated, use sort_values(by=.....)\n",
      "  after removing the cwd from sys.path.\n"
     ]
    }
   ],
   "source": [
    "submissions_dfs = []\n",
    "for submission in submissions:\n",
    "    submission_df = pd.read_csv(\"/mnt/extDisk/courses/data/statoil/data/\" + submission + \"/\" + submission + \".csv\")\n",
    "    submission_df = submission_df.sort('id')\n",
    "    submissions_dfs.append(submission_df)"
   ]
  },
  {
   "cell_type": "code",
   "execution_count": 72,
   "metadata": {},
   "outputs": [
    {
     "name": "stderr",
     "output_type": "stream",
     "text": [
      "/home/user/tensorflow/lib/python2.7/site-packages/ipykernel_launcher.py:6: FutureWarning: sort(columns=....) is deprecated, use sort_values(by=.....)\n",
      "  \n"
     ]
    }
   ],
   "source": [
    "submissions_dfs = []\n",
    "#paths = ['data_aug/fliping_3_arch.csv', 'ensamble/ensamble_0211.csv','pseudo_labeling/pseu_label_sure_resnet_regular.csv', 'data_aug/black_box_10_learning.csv','data_aug/noise_box_10_learning.csv']\n",
    "paths = ['data_aug/noise_mix_clean_learning_rate_1.csv','ensamble/stacking_0612.csv']\n",
    "for path in paths:\n",
    "    submission_df = pd.read_csv(\"/mnt/extDisk/courses/data/statoil/data/\" + path)\n",
    "    submission_df = submission_df.sort('id')\n",
    "    submissions_dfs.append(submission_df)"
   ]
  },
  {
   "cell_type": "code",
   "execution_count": 73,
   "metadata": {},
   "outputs": [],
   "source": [
    "ensamble = submissions_dfs[0]\n",
    "ensamble['is_iceberg'] = np.mean([submission.is_iceberg for submission in submissions_dfs],axis=0)"
   ]
  },
  {
   "cell_type": "code",
   "execution_count": 74,
   "metadata": {},
   "outputs": [
    {
     "data": {
      "text/html": [
       "<div>\n",
       "<table border=\"1\" class=\"dataframe\">\n",
       "  <thead>\n",
       "    <tr style=\"text-align: right;\">\n",
       "      <th></th>\n",
       "      <th>id</th>\n",
       "      <th>is_iceberg</th>\n",
       "    </tr>\n",
       "  </thead>\n",
       "  <tbody>\n",
       "    <tr>\n",
       "      <th>5442</th>\n",
       "      <td>000c65d7</td>\n",
       "      <td>0.859357</td>\n",
       "    </tr>\n",
       "    <tr>\n",
       "      <th>37</th>\n",
       "      <td>001680af</td>\n",
       "      <td>0.148927</td>\n",
       "    </tr>\n",
       "    <tr>\n",
       "      <th>697</th>\n",
       "      <td>00193999</td>\n",
       "      <td>0.986860</td>\n",
       "    </tr>\n",
       "    <tr>\n",
       "      <th>1152</th>\n",
       "      <td>00247e48</td>\n",
       "      <td>0.951438</td>\n",
       "    </tr>\n",
       "    <tr>\n",
       "      <th>3033</th>\n",
       "      <td>00503faa</td>\n",
       "      <td>0.000015</td>\n",
       "    </tr>\n",
       "  </tbody>\n",
       "</table>\n",
       "</div>"
      ],
      "text/plain": [
       "            id  is_iceberg\n",
       "5442  000c65d7    0.859357\n",
       "37    001680af    0.148927\n",
       "697   00193999    0.986860\n",
       "1152  00247e48    0.951438\n",
       "3033  00503faa    0.000015"
      ]
     },
     "execution_count": 74,
     "metadata": {},
     "output_type": "execute_result"
    }
   ],
   "source": [
    "ensamble.head()"
   ]
  },
  {
   "cell_type": "code",
   "execution_count": 75,
   "metadata": {
    "collapsed": true
   },
   "outputs": [],
   "source": [
    "ensamble.to_csv(\"/mnt/extDisk/courses/data/statoil/data/ensamble/ensamble_0612.csv\", index=False)"
   ]
  },
  {
   "cell_type": "code",
   "execution_count": 17,
   "metadata": {
    "collapsed": true
   },
   "outputs": [],
   "source": [
    "def mean_distance(df1,df2):\n",
    "    print np.mean(np.absolute(df1['is_iceberg'] - df2['is_iceberg']))"
   ]
  },
  {
   "cell_type": "code",
   "execution_count": 18,
   "metadata": {},
   "outputs": [
    {
     "name": "stdout",
     "output_type": "stream",
     "text": [
      "0.376096297832\n"
     ]
    }
   ],
   "source": [
    "mean_distance(submissions_dfs[0],submissions_dfs[1])"
   ]
  },
  {
   "cell_type": "code",
   "execution_count": 65,
   "metadata": {},
   "outputs": [
    {
     "data": {
      "text/html": [
       "<div>\n",
       "<table border=\"1\" class=\"dataframe\">\n",
       "  <thead>\n",
       "    <tr style=\"text-align: right;\">\n",
       "      <th></th>\n",
       "      <th>id</th>\n",
       "      <th>is_iceberg_0</th>\n",
       "      <th>is_iceberg_1</th>\n",
       "      <th>is_iceberg_2</th>\n",
       "      <th>is_iceberg_3</th>\n",
       "      <th>is_iceberg_4</th>\n",
       "    </tr>\n",
       "  </thead>\n",
       "  <tbody>\n",
       "    <tr>\n",
       "      <th>0</th>\n",
       "      <td>000c65d7</td>\n",
       "      <td>0.807972</td>\n",
       "      <td>0.840560</td>\n",
       "      <td>0.510584</td>\n",
       "      <td>0.692546</td>\n",
       "      <td>0.956177</td>\n",
       "    </tr>\n",
       "    <tr>\n",
       "      <th>1</th>\n",
       "      <td>001680af</td>\n",
       "      <td>0.299221</td>\n",
       "      <td>0.209411</td>\n",
       "      <td>0.165921</td>\n",
       "      <td>0.052698</td>\n",
       "      <td>0.705793</td>\n",
       "    </tr>\n",
       "    <tr>\n",
       "      <th>2</th>\n",
       "      <td>00193999</td>\n",
       "      <td>0.915564</td>\n",
       "      <td>0.883449</td>\n",
       "      <td>0.984035</td>\n",
       "      <td>0.961919</td>\n",
       "      <td>0.994329</td>\n",
       "    </tr>\n",
       "    <tr>\n",
       "      <th>3</th>\n",
       "      <td>00247e48</td>\n",
       "      <td>0.993899</td>\n",
       "      <td>0.990012</td>\n",
       "      <td>0.995281</td>\n",
       "      <td>0.611009</td>\n",
       "      <td>0.796973</td>\n",
       "    </tr>\n",
       "    <tr>\n",
       "      <th>4</th>\n",
       "      <td>00503faa</td>\n",
       "      <td>0.000010</td>\n",
       "      <td>0.000414</td>\n",
       "      <td>0.094459</td>\n",
       "      <td>0.009278</td>\n",
       "      <td>0.019158</td>\n",
       "    </tr>\n",
       "  </tbody>\n",
       "</table>\n",
       "</div>"
      ],
      "text/plain": [
       "         id  is_iceberg_0  is_iceberg_1  is_iceberg_2  is_iceberg_3  \\\n",
       "0  000c65d7      0.807972      0.840560      0.510584      0.692546   \n",
       "1  001680af      0.299221      0.209411      0.165921      0.052698   \n",
       "2  00193999      0.915564      0.883449      0.984035      0.961919   \n",
       "3  00247e48      0.993899      0.990012      0.995281      0.611009   \n",
       "4  00503faa      0.000010      0.000414      0.094459      0.009278   \n",
       "\n",
       "   is_iceberg_4  \n",
       "0      0.956177  \n",
       "1      0.705793  \n",
       "2      0.994329  \n",
       "3      0.796973  \n",
       "4      0.019158  "
      ]
     },
     "execution_count": 65,
     "metadata": {},
     "output_type": "execute_result"
    }
   ],
   "source": [
    "for i in range(len(submissions_dfs)):\n",
    "    submissions_dfs[i] = submissions_dfs[i].rename(columns={'is_iceberg':'is_iceberg_' +str(i)})\n",
    "\n",
    "concat_sub = submissions_dfs[0]\n",
    "\n",
    "for i in range(1,len(submissions_dfs)):\n",
    "    concat_sub = concat_sub.merge(submissions_dfs[i],on='id')\n",
    "\n",
    "#concat_sub.reset_index(inplace=True)\n",
    "concat_sub.head()"
   ]
  },
  {
   "cell_type": "code",
   "execution_count": 66,
   "metadata": {},
   "outputs": [
    {
     "data": {
      "text/html": [
       "<div>\n",
       "<table border=\"1\" class=\"dataframe\">\n",
       "  <thead>\n",
       "    <tr style=\"text-align: right;\">\n",
       "      <th></th>\n",
       "      <th>id</th>\n",
       "      <th>is_iceberg_0</th>\n",
       "      <th>is_iceberg_1</th>\n",
       "      <th>is_iceberg_2</th>\n",
       "      <th>is_iceberg_3</th>\n",
       "      <th>is_iceberg_4</th>\n",
       "      <th>is_iceberg_max</th>\n",
       "      <th>is_iceberg_min</th>\n",
       "      <th>is_iceberg_mean</th>\n",
       "      <th>is_iceberg_median</th>\n",
       "    </tr>\n",
       "  </thead>\n",
       "  <tbody>\n",
       "    <tr>\n",
       "      <th>0</th>\n",
       "      <td>000c65d7</td>\n",
       "      <td>0.807972</td>\n",
       "      <td>0.840560</td>\n",
       "      <td>0.510584</td>\n",
       "      <td>0.692546</td>\n",
       "      <td>0.956177</td>\n",
       "      <td>0.956177</td>\n",
       "      <td>0.510584</td>\n",
       "      <td>0.753514</td>\n",
       "      <td>0.780743</td>\n",
       "    </tr>\n",
       "    <tr>\n",
       "      <th>1</th>\n",
       "      <td>001680af</td>\n",
       "      <td>0.299221</td>\n",
       "      <td>0.209411</td>\n",
       "      <td>0.165921</td>\n",
       "      <td>0.052698</td>\n",
       "      <td>0.705793</td>\n",
       "      <td>0.705793</td>\n",
       "      <td>0.052698</td>\n",
       "      <td>0.313076</td>\n",
       "      <td>0.254316</td>\n",
       "    </tr>\n",
       "    <tr>\n",
       "      <th>2</th>\n",
       "      <td>00193999</td>\n",
       "      <td>0.915564</td>\n",
       "      <td>0.883449</td>\n",
       "      <td>0.984035</td>\n",
       "      <td>0.961919</td>\n",
       "      <td>0.994329</td>\n",
       "      <td>0.994329</td>\n",
       "      <td>0.883449</td>\n",
       "      <td>0.945296</td>\n",
       "      <td>0.953608</td>\n",
       "    </tr>\n",
       "    <tr>\n",
       "      <th>3</th>\n",
       "      <td>00247e48</td>\n",
       "      <td>0.993899</td>\n",
       "      <td>0.990012</td>\n",
       "      <td>0.995281</td>\n",
       "      <td>0.611009</td>\n",
       "      <td>0.796973</td>\n",
       "      <td>0.995281</td>\n",
       "      <td>0.611009</td>\n",
       "      <td>0.856209</td>\n",
       "      <td>0.923111</td>\n",
       "    </tr>\n",
       "    <tr>\n",
       "      <th>4</th>\n",
       "      <td>00503faa</td>\n",
       "      <td>0.000010</td>\n",
       "      <td>0.000414</td>\n",
       "      <td>0.094459</td>\n",
       "      <td>0.009278</td>\n",
       "      <td>0.019158</td>\n",
       "      <td>0.094459</td>\n",
       "      <td>0.000010</td>\n",
       "      <td>0.031113</td>\n",
       "      <td>0.014218</td>\n",
       "    </tr>\n",
       "  </tbody>\n",
       "</table>\n",
       "</div>"
      ],
      "text/plain": [
       "         id  is_iceberg_0  is_iceberg_1  is_iceberg_2  is_iceberg_3  \\\n",
       "0  000c65d7      0.807972      0.840560      0.510584      0.692546   \n",
       "1  001680af      0.299221      0.209411      0.165921      0.052698   \n",
       "2  00193999      0.915564      0.883449      0.984035      0.961919   \n",
       "3  00247e48      0.993899      0.990012      0.995281      0.611009   \n",
       "4  00503faa      0.000010      0.000414      0.094459      0.009278   \n",
       "\n",
       "   is_iceberg_4  is_iceberg_max  is_iceberg_min  is_iceberg_mean  \\\n",
       "0      0.956177        0.956177        0.510584         0.753514   \n",
       "1      0.705793        0.705793        0.052698         0.313076   \n",
       "2      0.994329        0.994329        0.883449         0.945296   \n",
       "3      0.796973        0.995281        0.611009         0.856209   \n",
       "4      0.019158        0.094459        0.000010         0.031113   \n",
       "\n",
       "   is_iceberg_median  \n",
       "0           0.780743  \n",
       "1           0.254316  \n",
       "2           0.953608  \n",
       "3           0.923111  \n",
       "4           0.014218  "
      ]
     },
     "execution_count": 66,
     "metadata": {},
     "output_type": "execute_result"
    }
   ],
   "source": [
    "# get the data fields ready for stacking\n",
    "concat_sub['is_iceberg_max'] = concat_sub.iloc[:, 1:].max(axis=1)\n",
    "concat_sub['is_iceberg_min'] = concat_sub.iloc[:, 1:].min(axis=1)\n",
    "concat_sub['is_iceberg_mean'] = concat_sub.iloc[:, 1:].mean(axis=1)\n",
    "concat_sub['is_iceberg_median'] = concat_sub.iloc[:, 1:].median(axis=1)\n",
    "concat_sub.head()"
   ]
  },
  {
   "cell_type": "code",
   "execution_count": 67,
   "metadata": {
    "collapsed": true
   },
   "outputs": [],
   "source": [
    "# set up cutoff threshold for lower and upper bounds, easy to twist \n",
    "cutoff_lo = 0.8\n",
    "cutoff_hi = 0.2"
   ]
  },
  {
   "cell_type": "code",
   "execution_count": 68,
   "metadata": {},
   "outputs": [
    {
     "data": {
      "text/plain": [
       "0    0.780743\n",
       "1    0.254316\n",
       "2    0.994329\n",
       "3    0.923111\n",
       "4    0.000010\n",
       "Name: is_iceberg, dtype: float64"
      ]
     },
     "execution_count": 68,
     "metadata": {},
     "output_type": "execute_result"
    }
   ],
   "source": [
    "concat_sub['is_iceberg'] = np.where(np.all(concat_sub.iloc[:,1:6] > cutoff_lo, axis=1), \n",
    "                                    concat_sub['is_iceberg_max'], \n",
    "                                    np.where(np.all(concat_sub.iloc[:,1:6] < cutoff_hi, axis=1),\n",
    "                                             concat_sub['is_iceberg_min'], \n",
    "                                             concat_sub['is_iceberg_median']))\n",
    "concat_sub['is_iceberg'].head()"
   ]
  },
  {
   "cell_type": "code",
   "execution_count": 69,
   "metadata": {},
   "outputs": [
    {
     "data": {
      "text/html": [
       "<div>\n",
       "<table border=\"1\" class=\"dataframe\">\n",
       "  <thead>\n",
       "    <tr style=\"text-align: right;\">\n",
       "      <th></th>\n",
       "      <th>id</th>\n",
       "      <th>is_iceberg</th>\n",
       "    </tr>\n",
       "  </thead>\n",
       "  <tbody>\n",
       "    <tr>\n",
       "      <th>0</th>\n",
       "      <td>000c65d7</td>\n",
       "      <td>0.780743</td>\n",
       "    </tr>\n",
       "    <tr>\n",
       "      <th>1</th>\n",
       "      <td>001680af</td>\n",
       "      <td>0.254316</td>\n",
       "    </tr>\n",
       "    <tr>\n",
       "      <th>2</th>\n",
       "      <td>00193999</td>\n",
       "      <td>0.994329</td>\n",
       "    </tr>\n",
       "    <tr>\n",
       "      <th>3</th>\n",
       "      <td>00247e48</td>\n",
       "      <td>0.923111</td>\n",
       "    </tr>\n",
       "    <tr>\n",
       "      <th>4</th>\n",
       "      <td>00503faa</td>\n",
       "      <td>0.000010</td>\n",
       "    </tr>\n",
       "  </tbody>\n",
       "</table>\n",
       "</div>"
      ],
      "text/plain": [
       "         id  is_iceberg\n",
       "0  000c65d7    0.780743\n",
       "1  001680af    0.254316\n",
       "2  00193999    0.994329\n",
       "3  00247e48    0.923111\n",
       "4  00503faa    0.000010"
      ]
     },
     "execution_count": 69,
     "metadata": {},
     "output_type": "execute_result"
    }
   ],
   "source": [
    "concat_sub[['id','is_iceberg']].head()"
   ]
  },
  {
   "cell_type": "code",
   "execution_count": 71,
   "metadata": {},
   "outputs": [],
   "source": [
    "concat_sub[['id','is_iceberg']].to_csv(\"/mnt/extDisk/courses/data/statoil/data/ensamble/stacking_0612.csv\", index=False)"
   ]
  },
  {
   "cell_type": "code",
   "execution_count": 41,
   "metadata": {},
   "outputs": [
    {
     "data": {
      "text/html": [
       "<div>\n",
       "<table border=\"1\" class=\"dataframe\">\n",
       "  <thead>\n",
       "    <tr style=\"text-align: right;\">\n",
       "      <th></th>\n",
       "      <th>id</th>\n",
       "      <th>is_iceberg_1</th>\n",
       "      <th>is_iceberg_2</th>\n",
       "      <th>is_iceberg_3</th>\n",
       "      <th>is_iceberg_4</th>\n",
       "      <th>is_iceberg_5</th>\n",
       "      <th>is_iceberg_max</th>\n",
       "      <th>is_iceberg_min</th>\n",
       "      <th>is_iceberg_mean</th>\n",
       "      <th>is_iceberg_median</th>\n",
       "      <th>is_iceberg</th>\n",
       "    </tr>\n",
       "  </thead>\n",
       "  <tbody>\n",
       "    <tr>\n",
       "      <th>0</th>\n",
       "      <td>5941774d</td>\n",
       "      <td>0.032017</td>\n",
       "      <td>0.84056</td>\n",
       "      <td>0.010108</td>\n",
       "      <td>0.069945</td>\n",
       "      <td>0.004346</td>\n",
       "      <td>0.84056</td>\n",
       "      <td>0.004346</td>\n",
       "      <td>0.257412</td>\n",
       "      <td>0.050981</td>\n",
       "      <td>0.050981</td>\n",
       "    </tr>\n",
       "  </tbody>\n",
       "</table>\n",
       "</div>"
      ],
      "text/plain": [
       "         id  is_iceberg_1  is_iceberg_2  is_iceberg_3  is_iceberg_4  \\\n",
       "0  5941774d      0.032017       0.84056      0.010108      0.069945   \n",
       "\n",
       "   is_iceberg_5  is_iceberg_max  is_iceberg_min  is_iceberg_mean  \\\n",
       "0      0.004346         0.84056        0.004346         0.257412   \n",
       "\n",
       "   is_iceberg_median  is_iceberg  \n",
       "0           0.050981    0.050981  "
      ]
     },
     "execution_count": 41,
     "metadata": {},
     "output_type": "execute_result"
    }
   ],
   "source": []
  },
  {
   "cell_type": "code",
   "execution_count": null,
   "metadata": {
    "collapsed": true
   },
   "outputs": [],
   "source": []
  }
 ],
 "metadata": {
  "kernelspec": {
   "display_name": "Python 2",
   "language": "python",
   "name": "python2"
  },
  "language_info": {
   "codemirror_mode": {
    "name": "ipython",
    "version": 2
   },
   "file_extension": ".py",
   "mimetype": "text/x-python",
   "name": "python",
   "nbconvert_exporter": "python",
   "pygments_lexer": "ipython2",
   "version": "2.7.12"
  }
 },
 "nbformat": 4,
 "nbformat_minor": 2
}
