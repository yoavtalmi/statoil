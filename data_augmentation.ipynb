{
 "cells": [
  {
   "cell_type": "code",
   "execution_count": 1,
   "metadata": {
    "collapsed": true
   },
   "outputs": [],
   "source": [
    "import numpy as np # linear algebra\n",
    "np.random.seed(666)\n",
    "import pandas as pd # data processing, CSV file I/O (e.g. pd.read_csv)\n",
    "from sklearn.model_selection import train_test_split\n",
    "from subprocess import check_output"
   ]
  },
  {
   "cell_type": "code",
   "execution_count": 2,
   "metadata": {},
   "outputs": [
    {
     "name": "stdout",
     "output_type": "stream",
     "text": [
      "done!\n"
     ]
    }
   ],
   "source": [
    "#Load data\n",
    "train = pd.read_json(\"/mnt/extDisk/courses/data/statoil/data/train_half/train.json\")\n",
    "valid = pd.read_json(\"/mnt/extDisk/courses/data/statoil/data/train_half/valid.json\")\n",
    "test = pd.read_json(\"/mnt/extDisk/courses/data/statoil/data/train/test.json\")\n",
    "train.inc_angle = train.inc_angle.replace('na', 0)\n",
    "train.inc_angle = train.inc_angle.astype(float).fillna(0.0)\n",
    "valid.inc_angle = valid.inc_angle.replace('na', 0)\n",
    "valid.inc_angle = valid.inc_angle.astype(float).fillna(0.0)\n",
    "print(\"done!\")"
   ]
  },
  {
   "cell_type": "code",
   "execution_count": 110,
   "metadata": {
    "collapsed": true
   },
   "outputs": [],
   "source": [
    "\n",
    "# Train data\n",
    "x_band1 = np.array([np.array(band).astype(np.float32).reshape(75, 75) for band in train[\"band_1\"]])\n",
    "x_band2 = np.array([np.array(band).astype(np.float32).reshape(75, 75) for band in train[\"band_2\"]])\n",
    "X_train = np.concatenate([x_band1[:, :, :, np.newaxis]], axis=-1)\n",
    "X_angle_train = np.array(train.inc_angle)\n",
    "y_train = np.array(train[\"is_iceberg\"])\n",
    "\n",
    "# Valid data\n",
    "x_band1 = np.array([np.array(band).astype(np.float32).reshape(75, 75) for band in valid[\"band_1\"]])\n",
    "x_band2 = np.array([np.array(band).astype(np.float32).reshape(75, 75) for band in valid[\"band_2\"]])\n",
    "X_valid = np.concatenate([x_band1[:, :, :, np.newaxis]], axis=-1)\n",
    "X_angle_valid = np.array(valid.inc_angle)\n",
    "y_valid = np.array(valid[\"is_iceberg\"])\n",
    "\n",
    "# Test data\n",
    "x_band1 = np.array([np.array(band).astype(np.float32).reshape(75, 75) for band in test[\"band_1\"]])\n",
    "x_band2 = np.array([np.array(band).astype(np.float32).reshape(75, 75) for band in test[\"band_2\"]])\n",
    "X_test = np.concatenate([x_band1[:, :, :, np.newaxis]], axis=-1)\n",
    "X_angle_test = np.array(test.inc_angle)"
   ]
  },
  {
   "cell_type": "code",
   "execution_count": 4,
   "metadata": {},
   "outputs": [
    {
     "name": "stderr",
     "output_type": "stream",
     "text": [
      "Using TensorFlow backend.\n"
     ]
    },
    {
     "name": "stdout",
     "output_type": "stream",
     "text": [
      "Couldn't import dot_parser, loading of dot files will not be possible.\n"
     ]
    },
    {
     "name": "stderr",
     "output_type": "stream",
     "text": [
      "/home/user/tensorflow/lib/python2.7/site-packages/ipykernel_launcher.py:23: UserWarning: Update your `Conv2D` call to the Keras 2 API: `Conv2D(16, (3, 3), activation=\"elu\")`\n",
      "/home/user/tensorflow/lib/python2.7/site-packages/ipykernel_launcher.py:24: UserWarning: Update your `Conv2D` call to the Keras 2 API: `Conv2D(16, (3, 3), activation=\"elu\")`\n",
      "/home/user/tensorflow/lib/python2.7/site-packages/ipykernel_launcher.py:27: UserWarning: Update your `Conv2D` call to the Keras 2 API: `Conv2D(32, (3, 3), activation=\"elu\")`\n",
      "/home/user/tensorflow/lib/python2.7/site-packages/ipykernel_launcher.py:28: UserWarning: Update your `Conv2D` call to the Keras 2 API: `Conv2D(32, (3, 3), activation=\"elu\")`\n",
      "/home/user/tensorflow/lib/python2.7/site-packages/ipykernel_launcher.py:31: UserWarning: Update your `Conv2D` call to the Keras 2 API: `Conv2D(64, (3, 3), activation=\"elu\")`\n",
      "/home/user/tensorflow/lib/python2.7/site-packages/ipykernel_launcher.py:32: UserWarning: Update your `Conv2D` call to the Keras 2 API: `Conv2D(64, (3, 3), activation=\"elu\")`\n",
      "/home/user/tensorflow/lib/python2.7/site-packages/ipykernel_launcher.py:35: UserWarning: Update your `Conv2D` call to the Keras 2 API: `Conv2D(128, (3, 3), activation=\"elu\")`\n",
      "/home/user/tensorflow/lib/python2.7/site-packages/ipykernel_launcher.py:41: UserWarning: Update your `Conv2D` call to the Keras 2 API: `Conv2D(128, (3, 3), activation=\"elu\")`\n"
     ]
    },
    {
     "name": "stdout",
     "output_type": "stream",
     "text": [
      "____________________________________________________________________________________________________\n",
      "Layer (type)                     Output Shape          Param #     Connected to                     \n",
      "====================================================================================================\n",
      "X_1 (InputLayer)                 (None, 75, 75, 1)     0                                            \n",
      "____________________________________________________________________________________________________\n",
      "conv2d_1 (Conv2D)                (None, 73, 73, 16)    160         X_1[0][0]                        \n",
      "____________________________________________________________________________________________________\n",
      "conv2d_2 (Conv2D)                (None, 71, 71, 16)    2320        conv2d_1[0][0]                   \n",
      "____________________________________________________________________________________________________\n",
      "max_pooling2d_1 (MaxPooling2D)   (None, 35, 35, 16)    0           conv2d_2[0][0]                   \n",
      "____________________________________________________________________________________________________\n",
      "dropout_1 (Dropout)              (None, 35, 35, 16)    0           max_pooling2d_1[0][0]            \n",
      "____________________________________________________________________________________________________\n",
      "conv2d_3 (Conv2D)                (None, 33, 33, 32)    4640        dropout_1[0][0]                  \n",
      "____________________________________________________________________________________________________\n",
      "conv2d_4 (Conv2D)                (None, 31, 31, 32)    9248        conv2d_3[0][0]                   \n",
      "____________________________________________________________________________________________________\n",
      "max_pooling2d_2 (MaxPooling2D)   (None, 15, 15, 32)    0           conv2d_4[0][0]                   \n",
      "____________________________________________________________________________________________________\n",
      "dropout_2 (Dropout)              (None, 15, 15, 32)    0           max_pooling2d_2[0][0]            \n",
      "____________________________________________________________________________________________________\n",
      "conv2d_5 (Conv2D)                (None, 13, 13, 64)    18496       dropout_2[0][0]                  \n",
      "____________________________________________________________________________________________________\n",
      "conv2d_6 (Conv2D)                (None, 11, 11, 64)    36928       conv2d_5[0][0]                   \n",
      "____________________________________________________________________________________________________\n",
      "max_pooling2d_3 (MaxPooling2D)   (None, 5, 5, 64)      0           conv2d_6[0][0]                   \n",
      "____________________________________________________________________________________________________\n",
      "dropout_3 (Dropout)              (None, 5, 5, 64)      0           max_pooling2d_3[0][0]            \n",
      "____________________________________________________________________________________________________\n",
      "batch_normalization_1 (BatchNorm (None, 75, 75, 1)     4           X_1[0][0]                        \n",
      "____________________________________________________________________________________________________\n",
      "conv2d_7 (Conv2D)                (None, 3, 3, 128)     73856       dropout_3[0][0]                  \n",
      "____________________________________________________________________________________________________\n",
      "conv2d_8 (Conv2D)                (None, 73, 73, 128)   1280        batch_normalization_1[0][0]      \n",
      "____________________________________________________________________________________________________\n",
      "max_pooling2d_4 (MaxPooling2D)   (None, 1, 1, 128)     0           conv2d_7[0][0]                   \n",
      "____________________________________________________________________________________________________\n",
      "max_pooling2d_5 (MaxPooling2D)   (None, 36, 36, 128)   0           conv2d_8[0][0]                   \n",
      "____________________________________________________________________________________________________\n",
      "dropout_4 (Dropout)              (None, 1, 1, 128)     0           max_pooling2d_4[0][0]            \n",
      "____________________________________________________________________________________________________\n",
      "dropout_5 (Dropout)              (None, 36, 36, 128)   0           max_pooling2d_5[0][0]            \n",
      "____________________________________________________________________________________________________\n",
      "global_max_pooling2d_1 (GlobalMa (None, 128)           0           dropout_4[0][0]                  \n",
      "____________________________________________________________________________________________________\n",
      "global_max_pooling2d_2 (GlobalMa (None, 128)           0           dropout_5[0][0]                  \n",
      "____________________________________________________________________________________________________\n",
      "concatenate_1 (Concatenate)      (None, 256)           0           global_max_pooling2d_1[0][0]     \n",
      "                                                                   global_max_pooling2d_2[0][0]     \n",
      "____________________________________________________________________________________________________\n",
      "dense_1 (Dense)                  (None, 256)           65792       concatenate_1[0][0]              \n",
      "____________________________________________________________________________________________________\n",
      "batch_normalization_2 (BatchNorm (None, 256)           1024        dense_1[0][0]                    \n",
      "____________________________________________________________________________________________________\n",
      "dropout_6 (Dropout)              (None, 256)           0           batch_normalization_2[0][0]      \n",
      "____________________________________________________________________________________________________\n",
      "dense_2 (Dense)                  (None, 64)            16448       dropout_6[0][0]                  \n",
      "____________________________________________________________________________________________________\n",
      "batch_normalization_3 (BatchNorm (None, 64)            256         dense_2[0][0]                    \n",
      "____________________________________________________________________________________________________\n",
      "dropout_7 (Dropout)              (None, 64)            0           batch_normalization_3[0][0]      \n",
      "____________________________________________________________________________________________________\n",
      "dense_3 (Dense)                  (None, 1)             65          dropout_7[0][0]                  \n",
      "====================================================================================================\n",
      "Total params: 230,517\n",
      "Trainable params: 229,875\n",
      "Non-trainable params: 642\n",
      "____________________________________________________________________________________________________\n"
     ]
    }
   ],
   "source": [
    "from matplotlib import pyplot\n",
    "from keras.preprocessing.image import ImageDataGenerator\n",
    "from keras.models import Sequential\n",
    "from keras.layers import Conv2D, MaxPooling2D, Dense, Dropout, Input, Flatten\n",
    "from keras.layers import GlobalMaxPooling2D\n",
    "from keras.layers.normalization import BatchNormalization\n",
    "from keras.layers.merge import Concatenate\n",
    "from keras.models import Model\n",
    "from keras.optimizers import Adam\n",
    "from keras.callbacks import ModelCheckpoint, Callback, EarlyStopping\n",
    "\n",
    "def get_callbacks(filepath, patience=2):\n",
    "    es = EarlyStopping('val_loss', patience=patience, mode=\"min\")\n",
    "    msave = ModelCheckpoint(filepath, save_best_only=True)\n",
    "    return [es, msave]\n",
    "    \n",
    "def get_model():\n",
    "    bn_model = 0\n",
    "    p_activation = \"elu\"\n",
    "    input_1 = Input(shape=(75, 75, 1), name=\"X_1\")\n",
    "    input_2 = Input(shape=[1], name=\"angle\")\n",
    "    \n",
    "    img_1 = Conv2D(16,3,3, activation=p_activation) (input_1)\n",
    "    img_1 = Conv2D(16,3,3, activation=p_activation) (img_1)\n",
    "    img_1 = MaxPooling2D((2,2)) (img_1)\n",
    "    img_1 = Dropout(0.2)(img_1)\n",
    "    img_1 = Conv2D(32, 3,3, activation=p_activation) (img_1)\n",
    "    img_1 = Conv2D(32, 3,3, activation=p_activation) (img_1)\n",
    "    img_1 = MaxPooling2D((2,2)) (img_1)\n",
    "    img_1 = Dropout(0.2)(img_1)\n",
    "    img_1 = Conv2D(64,3,3, activation=p_activation) (img_1)\n",
    "    img_1 = Conv2D(64,3,3, activation=p_activation) (img_1)\n",
    "    img_1 = MaxPooling2D((2,2)) (img_1)\n",
    "    img_1 = Dropout(0.2)(img_1)\n",
    "    img_1 = Conv2D(128, 3,3, activation=p_activation) (img_1)\n",
    "    img_1 = MaxPooling2D((2,2)) (img_1)\n",
    "    img_1 = Dropout(0.2)(img_1)\n",
    "    img_1 = GlobalMaxPooling2D() (img_1)\n",
    "    \n",
    "    \n",
    "    img_2 = Conv2D(128, 3,3, activation=p_activation) ((BatchNormalization(momentum=bn_model))(input_1))\n",
    "    img_2 = MaxPooling2D((2,2)) (img_2)\n",
    "    img_2 = Dropout(0.2)(img_2)\n",
    "    img_2 = GlobalMaxPooling2D() (img_2)\n",
    "    \n",
    "    img_concat =  (Concatenate()([img_1, img_2]))\n",
    "    \n",
    "    dense_ayer = Dropout(0.5) (BatchNormalization(momentum=bn_model) ( Dense(256, activation=p_activation)(img_concat) ))\n",
    "    dense_ayer = Dropout(0.5) (BatchNormalization(momentum=bn_model) ( Dense(64, activation=p_activation)(dense_ayer) ))\n",
    "    output = Dense(1, activation=\"sigmoid\")(dense_ayer)\n",
    "    \n",
    "    model = Model(input_1,  output)\n",
    "    optimizer = Adam(lr=0.001, beta_1=0.9, beta_2=0.999, epsilon=1e-08, decay=0.0)\n",
    "    model.compile(loss=\"binary_crossentropy\", optimizer=optimizer, metrics=[\"accuracy\"])\n",
    "    return model\n",
    "model = get_model()\n",
    "model.summary()"
   ]
  },
  {
   "cell_type": "code",
   "execution_count": 114,
   "metadata": {},
   "outputs": [],
   "source": [
    "import utils\n",
    "\n",
    "batch_size=32\n",
    "\n",
    "gen = ImageDataGenerator(vertical_flip = True)\n",
    "\n",
    "#gen = ImageDataGenerator(zoom_range = 0.1)\n",
    "\n",
    "\n",
    "#gen = ImageDataGenerator(horizontal_flip = True,\n",
    "#                         vertical_flip = True,\n",
    "#                         width_shift_range = 0.1,\n",
    "#                         height_shift_range = 0.1,\n",
    "#                         zoom_range = 0.1,\n",
    "#                         rotation_range = 40)\n",
    "\n",
    "\n",
    "# Finally create out generator\n",
    "#gen_flow = utils.gen_flow_for_two_inputs(X_train, X_angle_train, y_train, gen)\n",
    "\n",
    "genX1 = gen.flow(X_train,y_train,  batch_size=32,seed=666)"
   ]
  },
  {
   "cell_type": "code",
   "execution_count": 119,
   "metadata": {},
   "outputs": [
    {
     "name": "stderr",
     "output_type": "stream",
     "text": [
      "/home/user/tensorflow/lib/python2.7/site-packages/ipykernel_launcher.py:23: UserWarning: Update your `Conv2D` call to the Keras 2 API: `Conv2D(16, (3, 3), activation=\"elu\")`\n",
      "/home/user/tensorflow/lib/python2.7/site-packages/ipykernel_launcher.py:24: UserWarning: Update your `Conv2D` call to the Keras 2 API: `Conv2D(16, (3, 3), activation=\"elu\")`\n",
      "/home/user/tensorflow/lib/python2.7/site-packages/ipykernel_launcher.py:27: UserWarning: Update your `Conv2D` call to the Keras 2 API: `Conv2D(32, (3, 3), activation=\"elu\")`\n",
      "/home/user/tensorflow/lib/python2.7/site-packages/ipykernel_launcher.py:28: UserWarning: Update your `Conv2D` call to the Keras 2 API: `Conv2D(32, (3, 3), activation=\"elu\")`\n",
      "/home/user/tensorflow/lib/python2.7/site-packages/ipykernel_launcher.py:31: UserWarning: Update your `Conv2D` call to the Keras 2 API: `Conv2D(64, (3, 3), activation=\"elu\")`\n",
      "/home/user/tensorflow/lib/python2.7/site-packages/ipykernel_launcher.py:32: UserWarning: Update your `Conv2D` call to the Keras 2 API: `Conv2D(64, (3, 3), activation=\"elu\")`\n",
      "/home/user/tensorflow/lib/python2.7/site-packages/ipykernel_launcher.py:35: UserWarning: Update your `Conv2D` call to the Keras 2 API: `Conv2D(128, (3, 3), activation=\"elu\")`\n",
      "/home/user/tensorflow/lib/python2.7/site-packages/ipykernel_launcher.py:41: UserWarning: Update your `Conv2D` call to the Keras 2 API: `Conv2D(128, (3, 3), activation=\"elu\")`\n"
     ]
    },
    {
     "name": "stdout",
     "output_type": "stream",
     "text": [
      "Epoch 1/40\n",
      "18/18 [==============================] - 11s - loss: 0.9261 - acc: 0.5253 - val_loss: 0.6403 - val_acc: 0.5850\n",
      "Epoch 2/40\n",
      "18/18 [==============================] - 0s - loss: 0.9095 - acc: 0.5635 - val_loss: 0.6472 - val_acc: 0.5850\n",
      "Epoch 3/40\n",
      "18/18 [==============================] - 0s - loss: 0.8086 - acc: 0.6046 - val_loss: 0.7286 - val_acc: 0.5900\n",
      "Epoch 4/40\n",
      "18/18 [==============================] - 0s - loss: 0.8157 - acc: 0.5687 - val_loss: 0.7006 - val_acc: 0.6300\n",
      "Epoch 5/40\n",
      "18/18 [==============================] - 0s - loss: 0.7905 - acc: 0.5926 - val_loss: 0.6462 - val_acc: 0.6300\n",
      "Epoch 6/40\n",
      "18/18 [==============================] - 0s - loss: 0.7624 - acc: 0.6073 - val_loss: 0.8684 - val_acc: 0.6650\n",
      "Epoch 7/40\n",
      "18/18 [==============================] - 0s - loss: 0.7742 - acc: 0.5625 - val_loss: 0.7176 - val_acc: 0.6150\n",
      "Epoch 8/40\n",
      "18/18 [==============================] - 0s - loss: 0.7388 - acc: 0.5980 - val_loss: 0.7937 - val_acc: 0.6650\n",
      "Epoch 9/40\n",
      "18/18 [==============================] - 0s - loss: 0.7411 - acc: 0.6112 - val_loss: 0.8464 - val_acc: 0.6750\n",
      "Epoch 10/40\n",
      "18/18 [==============================] - 0s - loss: 0.7251 - acc: 0.6397 - val_loss: 1.0355 - val_acc: 0.6550\n",
      "Epoch 11/40\n",
      "18/18 [==============================] - 0s - loss: 0.6645 - acc: 0.6452 - val_loss: 0.5588 - val_acc: 0.6750\n",
      "Epoch 12/40\n",
      "18/18 [==============================] - 0s - loss: 0.6704 - acc: 0.6412 - val_loss: 1.1453 - val_acc: 0.6550\n",
      "Epoch 13/40\n",
      "18/18 [==============================] - 0s - loss: 0.6354 - acc: 0.6536 - val_loss: 0.5940 - val_acc: 0.6600\n",
      "Epoch 14/40\n",
      "18/18 [==============================] - 0s - loss: 0.6035 - acc: 0.6694 - val_loss: 0.5714 - val_acc: 0.6750\n",
      "Epoch 15/40\n",
      "18/18 [==============================] - 0s - loss: 0.5370 - acc: 0.7312 - val_loss: 0.6018 - val_acc: 0.6600\n",
      "Epoch 16/40\n",
      "18/18 [==============================] - 0s - loss: 0.5577 - acc: 0.7115 - val_loss: 0.4698 - val_acc: 0.7550\n",
      "Epoch 17/40\n",
      "18/18 [==============================] - 0s - loss: 0.5576 - acc: 0.7031 - val_loss: 0.6261 - val_acc: 0.6800\n",
      "Epoch 18/40\n",
      "18/18 [==============================] - 0s - loss: 0.5034 - acc: 0.7480 - val_loss: 0.5009 - val_acc: 0.6950\n",
      "Epoch 19/40\n",
      "18/18 [==============================] - 0s - loss: 0.4915 - acc: 0.7557 - val_loss: 0.4392 - val_acc: 0.7900\n",
      "Epoch 20/40\n",
      "18/18 [==============================] - 0s - loss: 0.4972 - acc: 0.7304 - val_loss: 0.4487 - val_acc: 0.7650\n",
      "Epoch 21/40\n",
      "18/18 [==============================] - 0s - loss: 0.4548 - acc: 0.7878 - val_loss: 0.4815 - val_acc: 0.7650\n",
      "Epoch 22/40\n",
      "18/18 [==============================] - 0s - loss: 0.4630 - acc: 0.7671 - val_loss: 0.3981 - val_acc: 0.8050\n",
      "Epoch 23/40\n",
      "18/18 [==============================] - 0s - loss: 0.4408 - acc: 0.7916 - val_loss: 0.4756 - val_acc: 0.7850\n",
      "Epoch 24/40\n",
      "18/18 [==============================] - 0s - loss: 0.4597 - acc: 0.7856 - val_loss: 0.4722 - val_acc: 0.7950\n",
      "Epoch 25/40\n",
      "18/18 [==============================] - 0s - loss: 0.3975 - acc: 0.8192 - val_loss: 0.4133 - val_acc: 0.8050\n",
      "Epoch 26/40\n",
      "18/18 [==============================] - 0s - loss: 0.4445 - acc: 0.7854 - val_loss: 0.3936 - val_acc: 0.8200\n",
      "Epoch 27/40\n",
      "18/18 [==============================] - 0s - loss: 0.3672 - acc: 0.8246 - val_loss: 0.3455 - val_acc: 0.8150\n",
      "Epoch 28/40\n",
      "18/18 [==============================] - 0s - loss: 0.3969 - acc: 0.8144 - val_loss: 0.4475 - val_acc: 0.7850\n",
      "Epoch 29/40\n",
      "18/18 [==============================] - 0s - loss: 0.3990 - acc: 0.8053 - val_loss: 0.3541 - val_acc: 0.8200\n",
      "Epoch 30/40\n",
      "18/18 [==============================] - 0s - loss: 0.3783 - acc: 0.8255 - val_loss: 0.4031 - val_acc: 0.8000\n",
      "Epoch 31/40\n",
      "18/18 [==============================] - 0s - loss: 0.3650 - acc: 0.8258 - val_loss: 0.3087 - val_acc: 0.8500\n",
      "Epoch 32/40\n",
      "18/18 [==============================] - 0s - loss: 0.3901 - acc: 0.7962 - val_loss: 0.4385 - val_acc: 0.8000\n",
      "Epoch 33/40\n",
      "18/18 [==============================] - 0s - loss: 0.3208 - acc: 0.8379 - val_loss: 0.4008 - val_acc: 0.8400\n",
      "Epoch 34/40\n",
      "18/18 [==============================] - 0s - loss: 0.3610 - acc: 0.8383 - val_loss: 0.4371 - val_acc: 0.8000\n",
      "Epoch 35/40\n",
      "18/18 [==============================] - 0s - loss: 0.3529 - acc: 0.8356 - val_loss: 0.3108 - val_acc: 0.8850\n",
      "Epoch 36/40\n",
      "18/18 [==============================] - 0s - loss: 0.3274 - acc: 0.8420 - val_loss: 0.3506 - val_acc: 0.8450\n",
      "Epoch 37/40\n",
      "18/18 [==============================] - 0s - loss: 0.3418 - acc: 0.8383 - val_loss: 0.3257 - val_acc: 0.8600\n",
      "Epoch 38/40\n",
      "18/18 [==============================] - 0s - loss: 0.3153 - acc: 0.8665 - val_loss: 0.3321 - val_acc: 0.8600\n",
      "Epoch 39/40\n",
      "18/18 [==============================] - 0s - loss: 0.2873 - acc: 0.8786 - val_loss: 0.4904 - val_acc: 0.8350\n",
      "Epoch 40/40\n",
      "18/18 [==============================] - 0s - loss: 0.2881 - acc: 0.8699 - val_loss: 0.2889 - val_acc: 0.8450\n"
     ]
    },
    {
     "data": {
      "text/plain": [
       "<keras.callbacks.History at 0x7f3526ff1cd0>"
      ]
     },
     "execution_count": 119,
     "metadata": {},
     "output_type": "execute_result"
    }
   ],
   "source": [
    "file_path = \"/mnt/extDisk/courses/data/statoil/data/data_aug/.model_weights.hdf5\"\n",
    "callbacks = get_callbacks(filepath=file_path, patience=30)\n",
    "\n",
    "model = get_model()\n",
    "model.fit_generator(genX1, validation_data=(X_valid, y_valid),\n",
    "                    steps_per_epoch=len(X_train) / 32, epochs=40, callbacks=callbacks)"
   ]
  },
  {
   "cell_type": "code",
   "execution_count": 120,
   "metadata": {},
   "outputs": [
    {
     "name": "stdout",
     "output_type": "stream",
     "text": [
      "Train evaluate:\n",
      "600/602 [============================>.] - ETA: 0s[0.24802597656078712, 0.88870432606567185]\n",
      "####################\n",
      "watch list evaluate:\n",
      "200/200 [==============================] - 0s\n",
      "[0.28891438245773315, 0.84499996900558472]\n"
     ]
    }
   ],
   "source": [
    "model.load_weights(filepath=file_path)\n",
    "\n",
    "print(\"Train evaluate:\")\n",
    "print(model.evaluate(X_train, y_train, verbose=1, batch_size=200))\n",
    "print(\"####################\")\n",
    "print(\"watch list evaluate:\")\n",
    "print(model.evaluate(X_valid, y_valid, verbose=1, batch_size=200))"
   ]
  },
  {
   "cell_type": "code",
   "execution_count": 121,
   "metadata": {},
   "outputs": [
    {
     "name": "stdout",
     "output_type": "stream",
     "text": [
      "8200/8424 [============================>.] - ETA: 0s"
     ]
    }
   ],
   "source": [
    "prediction = model.predict(X_test, verbose=1, batch_size=200)"
   ]
  },
  {
   "cell_type": "code",
   "execution_count": 122,
   "metadata": {},
   "outputs": [
    {
     "data": {
      "text/html": [
       "<div>\n",
       "<table border=\"1\" class=\"dataframe\">\n",
       "  <thead>\n",
       "    <tr style=\"text-align: right;\">\n",
       "      <th></th>\n",
       "      <th>id</th>\n",
       "      <th>is_iceberg</th>\n",
       "    </tr>\n",
       "  </thead>\n",
       "  <tbody>\n",
       "    <tr>\n",
       "      <th>0</th>\n",
       "      <td>5941774d</td>\n",
       "      <td>0.008860</td>\n",
       "    </tr>\n",
       "    <tr>\n",
       "      <th>1</th>\n",
       "      <td>4023181e</td>\n",
       "      <td>0.082705</td>\n",
       "    </tr>\n",
       "    <tr>\n",
       "      <th>2</th>\n",
       "      <td>b20200e4</td>\n",
       "      <td>0.543820</td>\n",
       "    </tr>\n",
       "    <tr>\n",
       "      <th>3</th>\n",
       "      <td>e7f018bb</td>\n",
       "      <td>0.998968</td>\n",
       "    </tr>\n",
       "    <tr>\n",
       "      <th>4</th>\n",
       "      <td>4371c8c3</td>\n",
       "      <td>0.107391</td>\n",
       "    </tr>\n",
       "    <tr>\n",
       "      <th>5</th>\n",
       "      <td>a8d9b1fd</td>\n",
       "      <td>0.999719</td>\n",
       "    </tr>\n",
       "    <tr>\n",
       "      <th>6</th>\n",
       "      <td>29e7727e</td>\n",
       "      <td>0.105111</td>\n",
       "    </tr>\n",
       "    <tr>\n",
       "      <th>7</th>\n",
       "      <td>92a51ffb</td>\n",
       "      <td>0.981857</td>\n",
       "    </tr>\n",
       "    <tr>\n",
       "      <th>8</th>\n",
       "      <td>c769ac97</td>\n",
       "      <td>0.014250</td>\n",
       "    </tr>\n",
       "    <tr>\n",
       "      <th>9</th>\n",
       "      <td>aee0547d</td>\n",
       "      <td>0.003939</td>\n",
       "    </tr>\n",
       "  </tbody>\n",
       "</table>\n",
       "</div>"
      ],
      "text/plain": [
       "         id  is_iceberg\n",
       "0  5941774d    0.008860\n",
       "1  4023181e    0.082705\n",
       "2  b20200e4    0.543820\n",
       "3  e7f018bb    0.998968\n",
       "4  4371c8c3    0.107391\n",
       "5  a8d9b1fd    0.999719\n",
       "6  29e7727e    0.105111\n",
       "7  92a51ffb    0.981857\n",
       "8  c769ac97    0.014250\n",
       "9  aee0547d    0.003939"
      ]
     },
     "execution_count": 122,
     "metadata": {},
     "output_type": "execute_result"
    }
   ],
   "source": [
    "submission = pd.DataFrame({'id': test[\"id\"], 'is_iceberg': prediction.reshape((prediction.shape[0]))})\n",
    "submission.head(10)"
   ]
  },
  {
   "cell_type": "code",
   "execution_count": 123,
   "metadata": {
    "collapsed": true
   },
   "outputs": [],
   "source": [
    "submission.to_csv(\"/mnt/extDisk/courses/data/statoil/data/data_aug/data_augmentation_band1.csv\", index=False)"
   ]
  },
  {
   "cell_type": "code",
   "execution_count": 109,
   "metadata": {},
   "outputs": [
    {
     "data": {
      "text/plain": [
       "(602, 75, 75, 1)"
      ]
     },
     "execution_count": 109,
     "metadata": {},
     "output_type": "execute_result"
    }
   ],
   "source": [
    "X_train.shape"
   ]
  },
  {
   "cell_type": "code",
   "execution_count": null,
   "metadata": {
    "collapsed": true
   },
   "outputs": [],
   "source": []
  }
 ],
 "metadata": {
  "kernelspec": {
   "display_name": "Python 2",
   "language": "python",
   "name": "python2"
  },
  "language_info": {
   "codemirror_mode": {
    "name": "ipython",
    "version": 2
   },
   "file_extension": ".py",
   "mimetype": "text/x-python",
   "name": "python",
   "nbconvert_exporter": "python",
   "pygments_lexer": "ipython2",
   "version": "2.7.12"
  }
 },
 "nbformat": 4,
 "nbformat_minor": 2
}
