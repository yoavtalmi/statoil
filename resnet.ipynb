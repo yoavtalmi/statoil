{
 "cells": [
  {
   "cell_type": "code",
   "execution_count": 1,
   "metadata": {
    "collapsed": true
   },
   "outputs": [],
   "source": [
    "import numpy as np # linear algebra\n",
    "np.random.seed(666)\n",
    "import pandas as pd # data processing, CSV file I/O (e.g. pd.read_csv)\n",
    "from sklearn.model_selection import train_test_split\n",
    "from subprocess import check_output"
   ]
  },
  {
   "cell_type": "code",
   "execution_count": 2,
   "metadata": {},
   "outputs": [
    {
     "name": "stdout",
     "output_type": "stream",
     "text": [
      "done!\n"
     ]
    }
   ],
   "source": [
    "#Load data\n",
    "train = pd.read_json(\"/mnt/extDisk/courses/data/statoil/data/train_half/train.json\")\n",
    "train_final = pd.read_json(\"/mnt/extDisk/courses/data/statoil/data/train_half/train_final.json\")\n",
    "valid = pd.read_json(\"/mnt/extDisk/courses/data/statoil/data/train_half/valid.json\")\n",
    "test = pd.read_json(\"/mnt/extDisk/courses/data/statoil/data/train/test.json\")\n",
    "\n",
    "train = pd.concat([train,train_final])\n",
    "\n",
    "train.inc_angle = train.inc_angle.replace('na', 0)\n",
    "train.inc_angle = train.inc_angle.astype(float).fillna(0.0)\n",
    "valid.inc_angle = valid.inc_angle.replace('na', 0)\n",
    "valid.inc_angle = valid.inc_angle.astype(float).fillna(0.0)\n",
    "print(\"done!\")"
   ]
  },
  {
   "cell_type": "code",
   "execution_count": 7,
   "metadata": {
    "collapsed": true
   },
   "outputs": [],
   "source": [
    "\n",
    "\n",
    "# Train data\n",
    "x_band1 = np.array([np.array(band).astype(np.float32).reshape(75, 75) for band in train[\"band_1\"]])\n",
    "x_band2 = np.array([np.array(band).astype(np.float32).reshape(75, 75) for band in train[\"band_2\"]])\n",
    "X_train = np.concatenate([x_band1[:, :, :, np.newaxis]\n",
    "                          , x_band2[:, :, :, np.newaxis]\n",
    "                         , (((x_band1+x_band1)/2))[:, :, :, np.newaxis]], axis=-1)\n",
    "X_angle_train = np.array(train.inc_angle)\n",
    "y_train = np.array(train[\"is_iceberg\"])\n",
    "\n",
    "# Valid data\n",
    "x_band1 = np.array([np.array(band).astype(np.float32).reshape(75, 75) for band in valid[\"band_1\"]])\n",
    "x_band2 = np.array([np.array(band).astype(np.float32).reshape(75, 75) for band in valid[\"band_2\"]])\n",
    "X_valid = np.concatenate([x_band1[:, :, :, np.newaxis]\n",
    "                          , x_band2[:, :, :, np.newaxis]\n",
    "                         , (((x_band1+x_band1)/2))[:, :, :, np.newaxis]], axis=-1)\n",
    "X_angle_valid = np.array(valid.inc_angle)\n",
    "y_valid = np.array(valid[\"is_iceberg\"])\n",
    "\n",
    "# Test data\n",
    "x_band1 = np.array([np.array(band).astype(np.float32).reshape(75, 75) for band in test[\"band_1\"]])\n",
    "x_band2 = np.array([np.array(band).astype(np.float32).reshape(75, 75) for band in test[\"band_2\"]])\n",
    "X_test = np.concatenate([x_band1[:, :, :, np.newaxis]\n",
    "                          , x_band2[:, :, :, np.newaxis]\n",
    "                         , ((x_band1+x_band1)/2)[:, :, :, np.newaxis]], axis=-1)\n",
    "X_angle_test = np.array(test.inc_angle)\n",
    "\n"
   ]
  },
  {
   "cell_type": "code",
   "execution_count": 4,
   "metadata": {},
   "outputs": [
    {
     "name": "stderr",
     "output_type": "stream",
     "text": [
      "Using TensorFlow backend.\n"
     ]
    },
    {
     "name": "stdout",
     "output_type": "stream",
     "text": [
      "Couldn't import dot_parser, loading of dot files will not be possible.\n"
     ]
    },
    {
     "name": "stderr",
     "output_type": "stream",
     "text": [
      "/home/user/tensorflow/lib/python2.7/site-packages/ipykernel_launcher.py:46: UserWarning: The `merge` function is deprecated and will be removed after 08/2017. Use instead layers from `keras.layers.merge`, e.g. `add`, `concatenate`, etc.\n",
      "/home/user/tensorflow/local/lib/python2.7/site-packages/keras/legacy/layers.py:458: UserWarning: The `Merge` layer is deprecated and will be removed after 08/2017. Use instead layers from `keras.layers.merge`, e.g. `add`, `concatenate`, etc.\n",
      "  name=name)\n"
     ]
    },
    {
     "name": "stdout",
     "output_type": "stream",
     "text": [
      "__________________________________________________________________________________________________\n",
      "Layer (type)                    Output Shape         Param #     Connected to                     \n",
      "==================================================================================================\n",
      "X_1 (InputLayer)                (None, 75, 75, 3)    0                                            \n",
      "__________________________________________________________________________________________________\n",
      "batch_normalization_1 (BatchNor (None, 75, 75, 3)    12          X_1[0][0]                        \n",
      "__________________________________________________________________________________________________\n",
      "conv2d_1 (Conv2D)               (None, 75, 75, 32)   2432        batch_normalization_1[0][0]      \n",
      "__________________________________________________________________________________________________\n",
      "batch_normalization_2 (BatchNor (None, 75, 75, 32)   128         conv2d_1[0][0]                   \n",
      "__________________________________________________________________________________________________\n",
      "max_pooling2d_1 (MaxPooling2D)  (None, 37, 37, 32)   0           batch_normalization_2[0][0]      \n",
      "__________________________________________________________________________________________________\n",
      "dropout_1 (Dropout)             (None, 37, 37, 32)   0           max_pooling2d_1[0][0]            \n",
      "__________________________________________________________________________________________________\n",
      "conv2d_2 (Conv2D)               (None, 37, 37, 64)   51264       dropout_1[0][0]                  \n",
      "__________________________________________________________________________________________________\n",
      "batch_normalization_3 (BatchNor (None, 37, 37, 64)   256         conv2d_2[0][0]                   \n",
      "__________________________________________________________________________________________________\n",
      "max_pooling2d_2 (MaxPooling2D)  (None, 18, 18, 64)   0           batch_normalization_3[0][0]      \n",
      "__________________________________________________________________________________________________\n",
      "dropout_2 (Dropout)             (None, 18, 18, 64)   0           max_pooling2d_2[0][0]            \n",
      "__________________________________________________________________________________________________\n",
      "batch_normalization_4 (BatchNor (None, 18, 18, 64)   256         dropout_2[0][0]                  \n",
      "__________________________________________________________________________________________________\n",
      "conv2d_3 (Conv2D)               (None, 18, 18, 128)  204928      batch_normalization_4[0][0]      \n",
      "__________________________________________________________________________________________________\n",
      "batch_normalization_5 (BatchNor (None, 18, 18, 128)  512         conv2d_3[0][0]                   \n",
      "__________________________________________________________________________________________________\n",
      "dropout_3 (Dropout)             (None, 18, 18, 128)  0           batch_normalization_5[0][0]      \n",
      "__________________________________________________________________________________________________\n",
      "conv2d_4 (Conv2D)               (None, 18, 18, 64)   204864      dropout_3[0][0]                  \n",
      "__________________________________________________________________________________________________\n",
      "batch_normalization_6 (BatchNor (None, 18, 18, 64)   256         conv2d_4[0][0]                   \n",
      "__________________________________________________________________________________________________\n",
      "merge_1 (Merge)                 (None, 18, 18, 64)   0           batch_normalization_6[0][0]      \n",
      "                                                                 dropout_2[0][0]                  \n",
      "__________________________________________________________________________________________________\n",
      "conv2d_5 (Conv2D)               (None, 18, 18, 128)  204928      merge_1[0][0]                    \n",
      "__________________________________________________________________________________________________\n",
      "batch_normalization_7 (BatchNor (None, 18, 18, 128)  512         conv2d_5[0][0]                   \n",
      "__________________________________________________________________________________________________\n",
      "max_pooling2d_3 (MaxPooling2D)  (None, 9, 9, 128)    0           batch_normalization_7[0][0]      \n",
      "__________________________________________________________________________________________________\n",
      "conv2d_6 (Conv2D)               (None, 9, 9, 256)    819456      max_pooling2d_3[0][0]            \n",
      "__________________________________________________________________________________________________\n",
      "batch_normalization_8 (BatchNor (None, 9, 9, 256)    1024        conv2d_6[0][0]                   \n",
      "__________________________________________________________________________________________________\n",
      "dropout_4 (Dropout)             (None, 9, 9, 256)    0           batch_normalization_8[0][0]      \n",
      "__________________________________________________________________________________________________\n",
      "max_pooling2d_4 (MaxPooling2D)  (None, 4, 4, 256)    0           dropout_4[0][0]                  \n",
      "__________________________________________________________________________________________________\n",
      "conv2d_7 (Conv2D)               (None, 4, 4, 512)    3277312     max_pooling2d_4[0][0]            \n",
      "__________________________________________________________________________________________________\n",
      "batch_normalization_9 (BatchNor (None, 4, 4, 512)    2048        conv2d_7[0][0]                   \n",
      "__________________________________________________________________________________________________\n",
      "dropout_5 (Dropout)             (None, 4, 4, 512)    0           batch_normalization_9[0][0]      \n",
      "__________________________________________________________________________________________________\n",
      "max_pooling2d_5 (MaxPooling2D)  (None, 2, 2, 512)    0           dropout_5[0][0]                  \n",
      "__________________________________________________________________________________________________\n",
      "global_max_pooling2d_1 (GlobalM (None, 512)          0           max_pooling2d_5[0][0]            \n",
      "__________________________________________________________________________________________________\n",
      "dense_1 (Dense)                 (None, 512)          262656      global_max_pooling2d_1[0][0]     \n",
      "__________________________________________________________________________________________________\n",
      "batch_normalization_10 (BatchNo (None, 512)          2048        dense_1[0][0]                    \n",
      "__________________________________________________________________________________________________\n",
      "dropout_6 (Dropout)             (None, 512)          0           batch_normalization_10[0][0]     \n",
      "__________________________________________________________________________________________________\n",
      "dense_2 (Dense)                 (None, 256)          131328      dropout_6[0][0]                  \n",
      "__________________________________________________________________________________________________\n",
      "batch_normalization_11 (BatchNo (None, 256)          1024        dense_2[0][0]                    \n",
      "__________________________________________________________________________________________________\n",
      "dropout_7 (Dropout)             (None, 256)          0           batch_normalization_11[0][0]     \n",
      "__________________________________________________________________________________________________\n",
      "dense_3 (Dense)                 (None, 1)            257         dropout_7[0][0]                  \n",
      "==================================================================================================\n",
      "Total params: 5,167,501\n",
      "Trainable params: 5,163,463\n",
      "Non-trainable params: 4,038\n",
      "__________________________________________________________________________________________________\n"
     ]
    }
   ],
   "source": [
    "from matplotlib import pyplot\n",
    "from keras.preprocessing.image import ImageDataGenerator\n",
    "from keras.models import Sequential\n",
    "from keras.layers import Conv2D, MaxPooling2D, Dense, Dropout, Input, Flatten, merge\n",
    "from keras.layers import GlobalMaxPooling2D\n",
    "from keras.layers.normalization import BatchNormalization\n",
    "from keras.layers.merge import Concatenate\n",
    "from keras.models import Model\n",
    "from keras.optimizers import Adam\n",
    "from keras.callbacks import ModelCheckpoint, Callback, EarlyStopping\n",
    "\n",
    "def get_callbacks(filepath, patience=2):\n",
    "    es = EarlyStopping('val_loss', patience=patience, mode=\"min\")\n",
    "    msave = ModelCheckpoint(filepath, save_best_only=True)\n",
    "    return [es, msave]\n",
    "    \n",
    "def get_model():\n",
    "    \n",
    "    \n",
    "    kernel_size = (5,5)\n",
    "    bn_model = 0\n",
    "    p_activation = \"elu\"\n",
    "    input_1 = Input(shape=(75, 75, 3), name=\"X_1\")\n",
    "    \n",
    "    ## input CNN\n",
    "    input_CNN  = BatchNormalization(momentum = 0.99)(input_1 )\n",
    "    input_CNN  = Conv2D(32,kernel_size, activation=p_activation, padding='same') (input_CNN )\n",
    "    input_CNN  = BatchNormalization(momentum = 0.99)(input_CNN )\n",
    "    input_CNN  = MaxPooling2D((2,2)) (input_CNN )\n",
    "    input_CNN  = Dropout(0.25)(input_CNN )\n",
    "    input_CNN  = Conv2D(64,kernel_size, activation=p_activation, padding='same') (input_CNN )\n",
    "    input_CNN  = BatchNormalization(momentum = 0.99)(input_CNN )\n",
    "    input_CNN  = MaxPooling2D((2,2)) (input_CNN )\n",
    "    input_CNN  = Dropout(0.25)(input_CNN )\n",
    "    \n",
    "\n",
    "    ## first residual\n",
    "    \n",
    "    input_CNN_residual  = BatchNormalization(momentum = 0.99)(input_CNN)\n",
    "    input_CNN_residual  = Conv2D(128,kernel_size, activation=p_activation, padding='same') (input_CNN_residual )\n",
    "    input_CNN_residual  = BatchNormalization(momentum = 0.99)(input_CNN_residual)\n",
    "    input_CNN_residual  = Dropout(0.25)(input_CNN_residual )\n",
    "    input_CNN_residual  = Conv2D(64,kernel_size, activation=p_activation, padding='same') (input_CNN_residual )\n",
    "    input_CNN_residual  = BatchNormalization(momentum = 0.99)(input_CNN_residual)\n",
    "    \n",
    "    input_CNN_residual = merge([input_CNN_residual,input_CNN], mode = 'sum')\n",
    "    \n",
    "    ## final CNN\n",
    "    \n",
    "    top_CNN  = Conv2D(128,kernel_size, activation=p_activation, padding='same') (input_CNN_residual )\n",
    "    top_CNN  = BatchNormalization(momentum = 0.99)(top_CNN)\n",
    "    top_CNN  = MaxPooling2D((2,2)) (top_CNN )\n",
    "    top_CNN  = Conv2D(256,kernel_size, activation=p_activation, padding='same') (top_CNN )\n",
    "    top_CNN  = BatchNormalization(momentum = 0.99)(top_CNN)\n",
    "    top_CNN  = Dropout(0.25)(top_CNN )\n",
    "    top_CNN  = MaxPooling2D((2,2)) (top_CNN )\n",
    "    top_CNN  = Conv2D(512,kernel_size, activation=p_activation, padding='same') (top_CNN )\n",
    "    top_CNN  = BatchNormalization(momentum = 0.99)(top_CNN)\n",
    "    top_CNN  = Dropout(0.25)(top_CNN )\n",
    "    top_CNN  = MaxPooling2D((2,2)) (top_CNN )\n",
    "    top_CNN  = GlobalMaxPooling2D() (top_CNN)\n",
    "    \n",
    "\n",
    "    \n",
    "    layer_dense = Dense(512)(top_CNN)\n",
    "    layer_dense  = BatchNormalization(momentum = 0.99)(layer_dense)\n",
    "    layer_dense  = Dropout(0.5)(layer_dense )\n",
    "    layer_dense = Dense(256)(layer_dense)\n",
    "    layer_dense  = BatchNormalization(momentum = 0.99)(layer_dense)\n",
    "    layer_dense  = Dropout(0.5)(layer_dense )\n",
    "    output = Dense(1, activation=\"sigmoid\")(layer_dense)\n",
    "    \n",
    "    \n",
    "    model = Model(input_1,  output)\n",
    "    optimizer = Adam(lr=0.001)\n",
    "    model.compile(loss=\"binary_crossentropy\", optimizer=optimizer, metrics=[\"accuracy\"])\n",
    "    return model\n",
    "\n",
    "model = get_model()\n",
    "model.summary()"
   ]
  },
  {
   "cell_type": "code",
   "execution_count": 5,
   "metadata": {},
   "outputs": [
    {
     "name": "stderr",
     "output_type": "stream",
     "text": [
      "/home/user/tensorflow/lib/python2.7/site-packages/ipykernel_launcher.py:46: UserWarning: The `merge` function is deprecated and will be removed after 08/2017. Use instead layers from `keras.layers.merge`, e.g. `add`, `concatenate`, etc.\n"
     ]
    },
    {
     "name": "stdout",
     "output_type": "stream",
     "text": [
      "Train on 1404 samples, validate on 200 samples\n",
      "Epoch 1/35\n",
      "1404/1404 [==============================] - 4s 3ms/step - loss: 0.8682 - acc: 0.5812 - val_loss: 7.2531 - val_acc: 0.5500\n",
      "Epoch 2/35\n",
      "1404/1404 [==============================] - 2s 2ms/step - loss: 0.5552 - acc: 0.7279 - val_loss: 2.3237 - val_acc: 0.5500\n",
      "Epoch 3/35\n",
      "1404/1404 [==============================] - 2s 1ms/step - loss: 0.5055 - acc: 0.7635 - val_loss: 1.4859 - val_acc: 0.5950\n",
      "Epoch 4/35\n",
      "1404/1404 [==============================] - 2s 1ms/step - loss: 0.4245 - acc: 0.8063 - val_loss: 0.6900 - val_acc: 0.6900\n",
      "Epoch 5/35\n",
      "1404/1404 [==============================] - 2s 1ms/step - loss: 0.3585 - acc: 0.8433 - val_loss: 0.2977 - val_acc: 0.8750\n",
      "Epoch 6/35\n",
      "1404/1404 [==============================] - 2s 1ms/step - loss: 0.3182 - acc: 0.8611 - val_loss: 0.6863 - val_acc: 0.7600\n",
      "Epoch 7/35\n",
      "1404/1404 [==============================] - 2s 1ms/step - loss: 0.2697 - acc: 0.8846 - val_loss: 0.6528 - val_acc: 0.7350\n",
      "Epoch 8/35\n",
      "1404/1404 [==============================] - 2s 1ms/step - loss: 0.2881 - acc: 0.8746 - val_loss: 0.2835 - val_acc: 0.9050\n",
      "Epoch 9/35\n",
      "1404/1404 [==============================] - 2s 1ms/step - loss: 0.2317 - acc: 0.9053 - val_loss: 0.3256 - val_acc: 0.8600\n",
      "Epoch 10/35\n",
      "1404/1404 [==============================] - 2s 1ms/step - loss: 0.2422 - acc: 0.9010 - val_loss: 0.4345 - val_acc: 0.8400\n",
      "Epoch 11/35\n",
      "1404/1404 [==============================] - 2s 1ms/step - loss: 0.1971 - acc: 0.9167 - val_loss: 0.4097 - val_acc: 0.8700\n",
      "Epoch 12/35\n",
      "1404/1404 [==============================] - 2s 1ms/step - loss: 0.1915 - acc: 0.9217 - val_loss: 0.2824 - val_acc: 0.8800\n",
      "Epoch 13/35\n",
      "1404/1404 [==============================] - 2s 1ms/step - loss: 0.1624 - acc: 0.9366 - val_loss: 0.2849 - val_acc: 0.8850\n",
      "Epoch 14/35\n",
      "1404/1404 [==============================] - 2s 1ms/step - loss: 0.1530 - acc: 0.9330 - val_loss: 0.2860 - val_acc: 0.8750\n",
      "Epoch 15/35\n",
      "1404/1404 [==============================] - 2s 1ms/step - loss: 0.1332 - acc: 0.9480 - val_loss: 0.2961 - val_acc: 0.8800\n",
      "Epoch 16/35\n",
      "1404/1404 [==============================] - 2s 1ms/step - loss: 0.1314 - acc: 0.9494 - val_loss: 0.4803 - val_acc: 0.8400\n",
      "Epoch 17/35\n",
      "1404/1404 [==============================] - 2s 1ms/step - loss: 0.1375 - acc: 0.9473 - val_loss: 0.3512 - val_acc: 0.9050\n",
      "Epoch 18/35\n",
      "1404/1404 [==============================] - 2s 1ms/step - loss: 0.0810 - acc: 0.9715 - val_loss: 0.3467 - val_acc: 0.8850\n",
      "Epoch 19/35\n",
      "1404/1404 [==============================] - 2s 1ms/step - loss: 0.1075 - acc: 0.9615 - val_loss: 0.4673 - val_acc: 0.8650\n",
      "Epoch 20/35\n",
      "1404/1404 [==============================] - 2s 1ms/step - loss: 0.0935 - acc: 0.9580 - val_loss: 0.5182 - val_acc: 0.8300\n",
      "Epoch 21/35\n",
      "1404/1404 [==============================] - 2s 1ms/step - loss: 0.0505 - acc: 0.9808 - val_loss: 0.3946 - val_acc: 0.8500\n",
      "Epoch 22/35\n",
      "1404/1404 [==============================] - 2s 1ms/step - loss: 0.0456 - acc: 0.9843 - val_loss: 1.0192 - val_acc: 0.7150\n"
     ]
    },
    {
     "data": {
      "text/plain": [
       "<keras.callbacks.History at 0x7f9521996590>"
      ]
     },
     "execution_count": 5,
     "metadata": {},
     "output_type": "execute_result"
    }
   ],
   "source": [
    "file_path = \"/mnt/extDisk/courses/data/statoil/data/models/.resnet.hdf5\"\n",
    "callbacks = get_callbacks(filepath=file_path, patience=10)\n",
    "\n",
    "model = get_model()\n",
    "model.fit(X_train, y_train, epochs=35\n",
    "          , validation_data=(X_valid, y_valid)\n",
    "         , batch_size=32\n",
    "         , callbacks=callbacks)\n"
   ]
  },
  {
   "cell_type": "code",
   "execution_count": 6,
   "metadata": {},
   "outputs": [
    {
     "name": "stdout",
     "output_type": "stream",
     "text": [
      "Train evaluate:\n",
      "1404/1404 [==============================] - 1s 383us/step\n",
      "[0.13577443256210059, 0.95085467979778926]\n",
      "####################\n",
      "watch list evaluate:\n",
      "200/200 [==============================] - 0s 256us/step\n",
      "[0.2824113667011261, 0.87999999523162842]\n"
     ]
    }
   ],
   "source": [
    "model.load_weights(filepath=file_path)\n",
    "\n",
    "print(\"Train evaluate:\")\n",
    "print(model.evaluate(X_train, y_train, verbose=1, batch_size=200))\n",
    "print(\"####################\")\n",
    "print(\"watch list evaluate:\")\n",
    "print(model.evaluate(X_valid, y_valid, verbose=1, batch_size=200))"
   ]
  },
  {
   "cell_type": "code",
   "execution_count": 8,
   "metadata": {},
   "outputs": [
    {
     "name": "stdout",
     "output_type": "stream",
     "text": [
      "8424/8424 [==============================] - 2s 292us/step\n"
     ]
    }
   ],
   "source": [
    "prediction = model.predict(X_test, verbose=1, batch_size=200)"
   ]
  },
  {
   "cell_type": "code",
   "execution_count": 9,
   "metadata": {},
   "outputs": [
    {
     "data": {
      "text/html": [
       "<div>\n",
       "<table border=\"1\" class=\"dataframe\">\n",
       "  <thead>\n",
       "    <tr style=\"text-align: right;\">\n",
       "      <th></th>\n",
       "      <th>id</th>\n",
       "      <th>is_iceberg</th>\n",
       "    </tr>\n",
       "  </thead>\n",
       "  <tbody>\n",
       "    <tr>\n",
       "      <th>0</th>\n",
       "      <td>5941774d</td>\n",
       "      <td>0.041207</td>\n",
       "    </tr>\n",
       "    <tr>\n",
       "      <th>1</th>\n",
       "      <td>4023181e</td>\n",
       "      <td>0.909202</td>\n",
       "    </tr>\n",
       "    <tr>\n",
       "      <th>2</th>\n",
       "      <td>b20200e4</td>\n",
       "      <td>0.125139</td>\n",
       "    </tr>\n",
       "    <tr>\n",
       "      <th>3</th>\n",
       "      <td>e7f018bb</td>\n",
       "      <td>0.999282</td>\n",
       "    </tr>\n",
       "    <tr>\n",
       "      <th>4</th>\n",
       "      <td>4371c8c3</td>\n",
       "      <td>0.389556</td>\n",
       "    </tr>\n",
       "    <tr>\n",
       "      <th>5</th>\n",
       "      <td>a8d9b1fd</td>\n",
       "      <td>0.814050</td>\n",
       "    </tr>\n",
       "    <tr>\n",
       "      <th>6</th>\n",
       "      <td>29e7727e</td>\n",
       "      <td>0.053633</td>\n",
       "    </tr>\n",
       "    <tr>\n",
       "      <th>7</th>\n",
       "      <td>92a51ffb</td>\n",
       "      <td>0.999693</td>\n",
       "    </tr>\n",
       "    <tr>\n",
       "      <th>8</th>\n",
       "      <td>c769ac97</td>\n",
       "      <td>0.021874</td>\n",
       "    </tr>\n",
       "    <tr>\n",
       "      <th>9</th>\n",
       "      <td>aee0547d</td>\n",
       "      <td>0.004081</td>\n",
       "    </tr>\n",
       "  </tbody>\n",
       "</table>\n",
       "</div>"
      ],
      "text/plain": [
       "         id  is_iceberg\n",
       "0  5941774d    0.041207\n",
       "1  4023181e    0.909202\n",
       "2  b20200e4    0.125139\n",
       "3  e7f018bb    0.999282\n",
       "4  4371c8c3    0.389556\n",
       "5  a8d9b1fd    0.814050\n",
       "6  29e7727e    0.053633\n",
       "7  92a51ffb    0.999693\n",
       "8  c769ac97    0.021874\n",
       "9  aee0547d    0.004081"
      ]
     },
     "execution_count": 9,
     "metadata": {},
     "output_type": "execute_result"
    }
   ],
   "source": [
    "submission = pd.DataFrame({'id': test[\"id\"], 'is_iceberg': prediction.reshape((prediction.shape[0]))})\n",
    "submission.head(10)"
   ]
  },
  {
   "cell_type": "code",
   "execution_count": 10,
   "metadata": {
    "collapsed": true
   },
   "outputs": [],
   "source": [
    "submission.to_csv(\"/mnt/extDisk/courses/data/statoil/data/resnet/resnet_full.csv\", index=False)"
   ]
  },
  {
   "cell_type": "code",
   "execution_count": null,
   "metadata": {
    "collapsed": true
   },
   "outputs": [],
   "source": []
  }
 ],
 "metadata": {
  "kernelspec": {
   "display_name": "Python 2",
   "language": "python",
   "name": "python2"
  },
  "language_info": {
   "codemirror_mode": {
    "name": "ipython",
    "version": 2
   },
   "file_extension": ".py",
   "mimetype": "text/x-python",
   "name": "python",
   "nbconvert_exporter": "python",
   "pygments_lexer": "ipython2",
   "version": "2.7.12"
  }
 },
 "nbformat": 4,
 "nbformat_minor": 2
}
