{
 "cells": [
  {
   "cell_type": "code",
   "execution_count": 1,
   "metadata": {
    "collapsed": true
   },
   "outputs": [],
   "source": [
    "import numpy as np # linear algebra\n",
    "np.random.seed(666)\n",
    "import pandas as pd # data processing, CSV file I/O (e.g. pd.read_csv)\n",
    "from sklearn.model_selection import train_test_split\n",
    "from subprocess import check_output"
   ]
  },
  {
   "cell_type": "code",
   "execution_count": 2,
   "metadata": {},
   "outputs": [
    {
     "name": "stdout",
     "output_type": "stream",
     "text": [
      "done!\n"
     ]
    }
   ],
   "source": [
    "#Load data\n",
    "train = pd.read_json(\"/mnt/extDisk/courses/data/statoil/data/train_half/train.json\")\n",
    "valid = pd.read_json(\"/mnt/extDisk/courses/data/statoil/data/train_half/valid.json\")\n",
    "test = pd.read_json(\"/mnt/extDisk/courses/data/statoil/data/train/test.json\")\n",
    "train.inc_angle = train.inc_angle.replace('na', 0)\n",
    "train.inc_angle = train.inc_angle.astype(float).fillna(0.0)\n",
    "valid.inc_angle = valid.inc_angle.replace('na', 0)\n",
    "valid.inc_angle = valid.inc_angle.astype(float).fillna(0.0)\n",
    "print(\"done!\")"
   ]
  },
  {
   "cell_type": "code",
   "execution_count": 3,
   "metadata": {
    "collapsed": true
   },
   "outputs": [],
   "source": [
    "\n",
    "\n",
    "# Train data\n",
    "x_band1 = np.array([np.array(band).astype(np.float32).reshape(75, 75) for band in train[\"band_1\"]])\n",
    "x_band2 = np.array([np.array(band).astype(np.float32).reshape(75, 75) for band in train[\"band_2\"]])\n",
    "X_train = np.concatenate([x_band1[:, :, :, np.newaxis]\n",
    "                          , x_band2[:, :, :, np.newaxis]\n",
    "                         , ((x_band1+x_band1)/2)[:, :, :, np.newaxis]], axis=-1)\n",
    "X_angle_train = np.array(train.inc_angle)\n",
    "y_train = np.array(train[\"is_iceberg\"])\n",
    "\n",
    "# Valid data\n",
    "x_band1 = np.array([np.array(band).astype(np.float32).reshape(75, 75) for band in valid[\"band_1\"]])\n",
    "x_band2 = np.array([np.array(band).astype(np.float32).reshape(75, 75) for band in valid[\"band_2\"]])\n",
    "X_valid = np.concatenate([x_band1[:, :, :, np.newaxis]\n",
    "                          , x_band2[:, :, :, np.newaxis]\n",
    "                         , ((x_band1+x_band1)/2)[:, :, :, np.newaxis]], axis=-1)\n",
    "X_angle_valid = np.array(valid.inc_angle)\n",
    "y_valid = np.array(valid[\"is_iceberg\"])\n",
    "\n",
    "# Test data\n",
    "x_band1 = np.array([np.array(band).astype(np.float32).reshape(75, 75) for band in test[\"band_1\"]])\n",
    "x_band2 = np.array([np.array(band).astype(np.float32).reshape(75, 75) for band in test[\"band_2\"]])\n",
    "X_test = np.concatenate([x_band1[:, :, :, np.newaxis]\n",
    "                          , x_band2[:, :, :, np.newaxis]\n",
    "                         , ((x_band1+x_band1)/2)[:, :, :, np.newaxis]], axis=-1)\n",
    "X_angle_test = np.array(test.inc_angle)\n",
    "\n"
   ]
  },
  {
   "cell_type": "code",
   "execution_count": 5,
   "metadata": {},
   "outputs": [
    {
     "name": "stderr",
     "output_type": "stream",
     "text": [
      "/home/user/tensorflow/lib/python2.7/site-packages/ipykernel_launcher.py:46: UserWarning: The `merge` function is deprecated and will be removed after 08/2017. Use instead layers from `keras.layers.merge`, e.g. `add`, `concatenate`, etc.\n"
     ]
    },
    {
     "name": "stdout",
     "output_type": "stream",
     "text": [
      "____________________________________________________________________________________________________\n",
      "Layer (type)                     Output Shape          Param #     Connected to                     \n",
      "====================================================================================================\n",
      "X_1 (InputLayer)                 (None, 75, 75, 3)     0                                            \n",
      "____________________________________________________________________________________________________\n",
      "batch_normalization_12 (BatchNor (None, 75, 75, 3)     12          X_1[0][0]                        \n",
      "____________________________________________________________________________________________________\n",
      "conv2d_8 (Conv2D)                (None, 75, 75, 32)    2432        batch_normalization_12[0][0]     \n",
      "____________________________________________________________________________________________________\n",
      "batch_normalization_13 (BatchNor (None, 75, 75, 32)    128         conv2d_8[0][0]                   \n",
      "____________________________________________________________________________________________________\n",
      "max_pooling2d_6 (MaxPooling2D)   (None, 37, 37, 32)    0           batch_normalization_13[0][0]     \n",
      "____________________________________________________________________________________________________\n",
      "dropout_8 (Dropout)              (None, 37, 37, 32)    0           max_pooling2d_6[0][0]            \n",
      "____________________________________________________________________________________________________\n",
      "conv2d_9 (Conv2D)                (None, 37, 37, 64)    51264       dropout_8[0][0]                  \n",
      "____________________________________________________________________________________________________\n",
      "batch_normalization_14 (BatchNor (None, 37, 37, 64)    256         conv2d_9[0][0]                   \n",
      "____________________________________________________________________________________________________\n",
      "max_pooling2d_7 (MaxPooling2D)   (None, 18, 18, 64)    0           batch_normalization_14[0][0]     \n",
      "____________________________________________________________________________________________________\n",
      "dropout_9 (Dropout)              (None, 18, 18, 64)    0           max_pooling2d_7[0][0]            \n",
      "____________________________________________________________________________________________________\n",
      "batch_normalization_15 (BatchNor (None, 18, 18, 64)    256         dropout_9[0][0]                  \n",
      "____________________________________________________________________________________________________\n",
      "conv2d_10 (Conv2D)               (None, 18, 18, 128)   204928      batch_normalization_15[0][0]     \n",
      "____________________________________________________________________________________________________\n",
      "batch_normalization_16 (BatchNor (None, 18, 18, 128)   512         conv2d_10[0][0]                  \n",
      "____________________________________________________________________________________________________\n",
      "dropout_10 (Dropout)             (None, 18, 18, 128)   0           batch_normalization_16[0][0]     \n",
      "____________________________________________________________________________________________________\n",
      "conv2d_11 (Conv2D)               (None, 18, 18, 64)    204864      dropout_10[0][0]                 \n",
      "____________________________________________________________________________________________________\n",
      "batch_normalization_17 (BatchNor (None, 18, 18, 64)    256         conv2d_11[0][0]                  \n",
      "____________________________________________________________________________________________________\n",
      "merge_2 (Merge)                  (None, 18, 18, 64)    0           batch_normalization_17[0][0]     \n",
      "                                                                   dropout_9[0][0]                  \n",
      "____________________________________________________________________________________________________\n",
      "conv2d_12 (Conv2D)               (None, 18, 18, 128)   204928      merge_2[0][0]                    \n",
      "____________________________________________________________________________________________________\n",
      "batch_normalization_18 (BatchNor (None, 18, 18, 128)   512         conv2d_12[0][0]                  \n",
      "____________________________________________________________________________________________________\n",
      "max_pooling2d_8 (MaxPooling2D)   (None, 9, 9, 128)     0           batch_normalization_18[0][0]     \n",
      "____________________________________________________________________________________________________\n",
      "conv2d_13 (Conv2D)               (None, 9, 9, 256)     819456      max_pooling2d_8[0][0]            \n",
      "____________________________________________________________________________________________________\n",
      "batch_normalization_19 (BatchNor (None, 9, 9, 256)     1024        conv2d_13[0][0]                  \n",
      "____________________________________________________________________________________________________\n",
      "dropout_11 (Dropout)             (None, 9, 9, 256)     0           batch_normalization_19[0][0]     \n",
      "____________________________________________________________________________________________________\n",
      "max_pooling2d_9 (MaxPooling2D)   (None, 4, 4, 256)     0           dropout_11[0][0]                 \n",
      "____________________________________________________________________________________________________\n",
      "conv2d_14 (Conv2D)               (None, 4, 4, 512)     3277312     max_pooling2d_9[0][0]            \n",
      "____________________________________________________________________________________________________\n",
      "batch_normalization_20 (BatchNor (None, 4, 4, 512)     2048        conv2d_14[0][0]                  \n",
      "____________________________________________________________________________________________________\n",
      "dropout_12 (Dropout)             (None, 4, 4, 512)     0           batch_normalization_20[0][0]     \n",
      "____________________________________________________________________________________________________\n",
      "max_pooling2d_10 (MaxPooling2D)  (None, 2, 2, 512)     0           dropout_12[0][0]                 \n",
      "____________________________________________________________________________________________________\n",
      "global_max_pooling2d_2 (GlobalMa (None, 512)           0           max_pooling2d_10[0][0]           \n",
      "____________________________________________________________________________________________________\n",
      "dense_4 (Dense)                  (None, 512)           262656      global_max_pooling2d_2[0][0]     \n",
      "____________________________________________________________________________________________________\n",
      "batch_normalization_21 (BatchNor (None, 512)           2048        dense_4[0][0]                    \n",
      "____________________________________________________________________________________________________\n",
      "dropout_13 (Dropout)             (None, 512)           0           batch_normalization_21[0][0]     \n",
      "____________________________________________________________________________________________________\n",
      "dense_5 (Dense)                  (None, 256)           131328      dropout_13[0][0]                 \n",
      "____________________________________________________________________________________________________\n",
      "batch_normalization_22 (BatchNor (None, 256)           1024        dense_5[0][0]                    \n",
      "____________________________________________________________________________________________________\n",
      "dropout_14 (Dropout)             (None, 256)           0           batch_normalization_22[0][0]     \n",
      "____________________________________________________________________________________________________\n",
      "dense_6 (Dense)                  (None, 1)             257         dropout_14[0][0]                 \n",
      "====================================================================================================\n",
      "Total params: 5,167,501\n",
      "Trainable params: 5,163,463\n",
      "Non-trainable params: 4,038\n",
      "____________________________________________________________________________________________________\n"
     ]
    }
   ],
   "source": [
    "from matplotlib import pyplot\n",
    "from keras.preprocessing.image import ImageDataGenerator\n",
    "from keras.models import Sequential\n",
    "from keras.layers import Conv2D, MaxPooling2D, Dense, Dropout, Input, Flatten, merge\n",
    "from keras.layers import GlobalMaxPooling2D\n",
    "from keras.layers.normalization import BatchNormalization\n",
    "from keras.layers.merge import Concatenate\n",
    "from keras.models import Model\n",
    "from keras.optimizers import Adam\n",
    "from keras.callbacks import ModelCheckpoint, Callback, EarlyStopping\n",
    "\n",
    "def get_callbacks(filepath, patience=2):\n",
    "    es = EarlyStopping('val_loss', patience=patience, mode=\"min\")\n",
    "    msave = ModelCheckpoint(filepath, save_best_only=True)\n",
    "    return [es, msave]\n",
    "    \n",
    "def get_model():\n",
    "    \n",
    "    \n",
    "    kernel_size = (5,5)\n",
    "    bn_model = 0\n",
    "    p_activation = \"elu\"\n",
    "    input_1 = Input(shape=(75, 75, 3), name=\"X_1\")\n",
    "    \n",
    "    ## input CNN\n",
    "    input_CNN  = BatchNormalization(momentum = 0.99)(input_1 )\n",
    "    input_CNN  = Conv2D(32,kernel_size, activation=p_activation, padding='same') (input_CNN )\n",
    "    input_CNN  = BatchNormalization(momentum = 0.99)(input_CNN )\n",
    "    input_CNN  = MaxPooling2D((2,2)) (input_CNN )\n",
    "    input_CNN  = Dropout(0.25)(input_CNN )\n",
    "    input_CNN  = Conv2D(64,kernel_size, activation=p_activation, padding='same') (input_CNN )\n",
    "    input_CNN  = BatchNormalization(momentum = 0.99)(input_CNN )\n",
    "    input_CNN  = MaxPooling2D((2,2)) (input_CNN )\n",
    "    input_CNN  = Dropout(0.25)(input_CNN )\n",
    "    \n",
    "\n",
    "    ## first residual\n",
    "    \n",
    "    input_CNN_residual  = BatchNormalization(momentum = 0.99)(input_CNN)\n",
    "    input_CNN_residual  = Conv2D(128,kernel_size, activation=p_activation, padding='same') (input_CNN_residual )\n",
    "    input_CNN_residual  = BatchNormalization(momentum = 0.99)(input_CNN_residual)\n",
    "    input_CNN_residual  = Dropout(0.25)(input_CNN_residual )\n",
    "    input_CNN_residual  = Conv2D(64,kernel_size, activation=p_activation, padding='same') (input_CNN_residual )\n",
    "    input_CNN_residual  = BatchNormalization(momentum = 0.99)(input_CNN_residual)\n",
    "    \n",
    "    input_CNN_residual = merge([input_CNN_residual,input_CNN], mode = 'sum')\n",
    "    \n",
    "    ## final CNN\n",
    "    \n",
    "    top_CNN  = Conv2D(128,kernel_size, activation=p_activation, padding='same') (input_CNN_residual )\n",
    "    top_CNN  = BatchNormalization(momentum = 0.99)(top_CNN)\n",
    "    top_CNN  = MaxPooling2D((2,2)) (top_CNN )\n",
    "    top_CNN  = Conv2D(256,kernel_size, activation=p_activation, padding='same') (top_CNN )\n",
    "    top_CNN  = BatchNormalization(momentum = 0.99)(top_CNN)\n",
    "    top_CNN  = Dropout(0.25)(top_CNN )\n",
    "    top_CNN  = MaxPooling2D((2,2)) (top_CNN )\n",
    "    top_CNN  = Conv2D(512,kernel_size, activation=p_activation, padding='same') (top_CNN )\n",
    "    top_CNN  = BatchNormalization(momentum = 0.99)(top_CNN)\n",
    "    top_CNN  = Dropout(0.25)(top_CNN )\n",
    "    top_CNN  = MaxPooling2D((2,2)) (top_CNN )\n",
    "    top_CNN  = GlobalMaxPooling2D() (top_CNN)\n",
    "    \n",
    "\n",
    "    \n",
    "    layer_dense = Dense(512)(top_CNN)\n",
    "    layer_dense  = BatchNormalization(momentum = 0.99)(layer_dense)\n",
    "    layer_dense  = Dropout(0.5)(layer_dense )\n",
    "    layer_dense = Dense(256)(layer_dense)\n",
    "    layer_dense  = BatchNormalization(momentum = 0.99)(layer_dense)\n",
    "    layer_dense  = Dropout(0.5)(layer_dense )\n",
    "    output = Dense(1, activation=\"sigmoid\")(layer_dense)\n",
    "    \n",
    "    \n",
    "    model = Model(input_1,  output)\n",
    "    optimizer = Adam(lr=0.001)\n",
    "    model.compile(loss=\"binary_crossentropy\", optimizer=optimizer, metrics=[\"accuracy\"])\n",
    "    return model\n",
    "\n",
    "model = get_model()\n",
    "model.summary()"
   ]
  },
  {
   "cell_type": "code",
   "execution_count": 13,
   "metadata": {},
   "outputs": [
    {
     "name": "stderr",
     "output_type": "stream",
     "text": [
      "/home/user/tensorflow/lib/python2.7/site-packages/ipykernel_launcher.py:46: UserWarning: The `merge` function is deprecated and will be removed after 08/2017. Use instead layers from `keras.layers.merge`, e.g. `add`, `concatenate`, etc.\n"
     ]
    },
    {
     "name": "stdout",
     "output_type": "stream",
     "text": [
      "Train on 602 samples, validate on 200 samples\n",
      "Epoch 1/35\n",
      "602/602 [==============================] - 3s - loss: 0.9129 - acc: 0.5864 - val_loss: 7.2531 - val_acc: 0.5500\n",
      "Epoch 2/35\n",
      "602/602 [==============================] - 0s - loss: 0.8690 - acc: 0.5714 - val_loss: 7.0645 - val_acc: 0.5500\n",
      "Epoch 3/35\n",
      "602/602 [==============================] - 0s - loss: 0.6844 - acc: 0.6628 - val_loss: 2.7599 - val_acc: 0.5700\n",
      "Epoch 4/35\n",
      "602/602 [==============================] - 0s - loss: 0.6274 - acc: 0.7043 - val_loss: 3.5569 - val_acc: 0.5500\n",
      "Epoch 5/35\n",
      "602/602 [==============================] - 0s - loss: 0.4937 - acc: 0.7525 - val_loss: 0.5653 - val_acc: 0.6700\n",
      "Epoch 6/35\n",
      "602/602 [==============================] - 0s - loss: 0.4304 - acc: 0.8007 - val_loss: 0.6431 - val_acc: 0.6950\n",
      "Epoch 7/35\n",
      "602/602 [==============================] - 0s - loss: 0.4412 - acc: 0.7874 - val_loss: 1.0102 - val_acc: 0.5700\n",
      "Epoch 8/35\n",
      "602/602 [==============================] - 0s - loss: 0.3809 - acc: 0.7990 - val_loss: 0.7965 - val_acc: 0.7400\n",
      "Epoch 9/35\n",
      "602/602 [==============================] - 0s - loss: 0.3481 - acc: 0.8488 - val_loss: 1.5158 - val_acc: 0.5900\n",
      "Epoch 10/35\n",
      "602/602 [==============================] - 0s - loss: 0.3005 - acc: 0.8638 - val_loss: 0.4563 - val_acc: 0.8250\n",
      "Epoch 11/35\n",
      "602/602 [==============================] - 0s - loss: 0.2381 - acc: 0.8887 - val_loss: 0.8483 - val_acc: 0.7450\n",
      "Epoch 12/35\n",
      "602/602 [==============================] - 0s - loss: 0.2469 - acc: 0.8987 - val_loss: 0.3341 - val_acc: 0.8850\n",
      "Epoch 13/35\n",
      "602/602 [==============================] - 0s - loss: 0.2451 - acc: 0.8854 - val_loss: 0.7312 - val_acc: 0.7400\n",
      "Epoch 14/35\n",
      "602/602 [==============================] - 0s - loss: 0.1817 - acc: 0.9286 - val_loss: 1.3698 - val_acc: 0.5700\n",
      "Epoch 15/35\n",
      "602/602 [==============================] - 0s - loss: 0.2396 - acc: 0.9070 - val_loss: 0.4588 - val_acc: 0.8650\n",
      "Epoch 16/35\n",
      "602/602 [==============================] - 0s - loss: 0.1759 - acc: 0.9236 - val_loss: 0.4603 - val_acc: 0.8250\n",
      "Epoch 17/35\n",
      "602/602 [==============================] - 0s - loss: 0.1321 - acc: 0.9452 - val_loss: 0.6290 - val_acc: 0.8100\n",
      "Epoch 18/35\n",
      "602/602 [==============================] - 0s - loss: 0.1301 - acc: 0.9435 - val_loss: 1.5951 - val_acc: 0.6000\n",
      "Epoch 19/35\n",
      "602/602 [==============================] - 0s - loss: 0.1538 - acc: 0.9352 - val_loss: 0.4142 - val_acc: 0.8200\n",
      "Epoch 20/35\n",
      "602/602 [==============================] - 0s - loss: 0.1158 - acc: 0.9551 - val_loss: 0.4279 - val_acc: 0.8750\n",
      "Epoch 21/35\n",
      "602/602 [==============================] - 0s - loss: 0.1004 - acc: 0.9684 - val_loss: 0.3088 - val_acc: 0.8900\n",
      "Epoch 22/35\n",
      "602/602 [==============================] - 0s - loss: 0.1388 - acc: 0.9402 - val_loss: 0.3632 - val_acc: 0.8750\n",
      "Epoch 23/35\n",
      "602/602 [==============================] - 0s - loss: 0.0682 - acc: 0.9767 - val_loss: 0.8859 - val_acc: 0.8250\n",
      "Epoch 24/35\n",
      "602/602 [==============================] - 0s - loss: 0.0827 - acc: 0.9718 - val_loss: 0.6815 - val_acc: 0.8300\n",
      "Epoch 25/35\n",
      "602/602 [==============================] - 0s - loss: 0.0721 - acc: 0.9684 - val_loss: 0.5179 - val_acc: 0.8750\n",
      "Epoch 26/35\n",
      "602/602 [==============================] - 0s - loss: 0.0536 - acc: 0.9767 - val_loss: 0.4205 - val_acc: 0.8900\n",
      "Epoch 27/35\n",
      "602/602 [==============================] - 0s - loss: 0.0883 - acc: 0.9668 - val_loss: 0.5772 - val_acc: 0.8500\n",
      "Epoch 28/35\n",
      "602/602 [==============================] - 0s - loss: 0.0728 - acc: 0.9801 - val_loss: 0.4344 - val_acc: 0.8800\n",
      "Epoch 29/35\n",
      "602/602 [==============================] - 0s - loss: 0.0473 - acc: 0.9867 - val_loss: 0.5961 - val_acc: 0.8500\n",
      "Epoch 30/35\n",
      "602/602 [==============================] - 0s - loss: 0.0604 - acc: 0.9767 - val_loss: 0.5341 - val_acc: 0.8650\n",
      "Epoch 31/35\n",
      "602/602 [==============================] - 0s - loss: 0.0612 - acc: 0.9767 - val_loss: 0.4739 - val_acc: 0.8550\n",
      "Epoch 32/35\n",
      "602/602 [==============================] - 0s - loss: 0.0408 - acc: 0.9884 - val_loss: 0.7519 - val_acc: 0.8350\n"
     ]
    },
    {
     "data": {
      "text/plain": [
       "<keras.callbacks.History at 0x7f4383ba6bd0>"
      ]
     },
     "execution_count": 13,
     "metadata": {},
     "output_type": "execute_result"
    }
   ],
   "source": [
    "file_path = \"/mnt/extDisk/courses/data/statoil/data/resnet/.model_weights.hdf5\"\n",
    "callbacks = get_callbacks(filepath=file_path, patience=10)\n",
    "\n",
    "model = get_model()\n",
    "model.fit(X_train, y_train, epochs=35\n",
    "          , validation_data=(X_valid, y_valid)\n",
    "         , batch_size=32\n",
    "         , callbacks=callbacks)\n"
   ]
  },
  {
   "cell_type": "code",
   "execution_count": 14,
   "metadata": {},
   "outputs": [
    {
     "name": "stdout",
     "output_type": "stream",
     "text": [
      "Train evaluate:\n",
      "600/602 [============================>.] - ETA: 0s[0.037168766757507382, 0.99169432047593631]\n",
      "####################\n",
      "watch list evaluate:\n",
      "200/200 [==============================] - 0s\n",
      "[0.30880281329154968, 0.89000004529953003]\n"
     ]
    }
   ],
   "source": [
    "model.load_weights(filepath=file_path)\n",
    "\n",
    "print(\"Train evaluate:\")\n",
    "print(model.evaluate(X_train, y_train, verbose=1, batch_size=200))\n",
    "print(\"####################\")\n",
    "print(\"watch list evaluate:\")\n",
    "print(model.evaluate(X_valid, y_valid, verbose=1, batch_size=200))"
   ]
  },
  {
   "cell_type": "code",
   "execution_count": 15,
   "metadata": {},
   "outputs": [
    {
     "name": "stdout",
     "output_type": "stream",
     "text": [
      "8400/8424 [============================>.] - ETA: 0s"
     ]
    }
   ],
   "source": [
    "prediction = model.predict(X_test, verbose=1, batch_size=200)"
   ]
  },
  {
   "cell_type": "code",
   "execution_count": 16,
   "metadata": {},
   "outputs": [
    {
     "data": {
      "text/html": [
       "<div>\n",
       "<table border=\"1\" class=\"dataframe\">\n",
       "  <thead>\n",
       "    <tr style=\"text-align: right;\">\n",
       "      <th></th>\n",
       "      <th>id</th>\n",
       "      <th>is_iceberg</th>\n",
       "    </tr>\n",
       "  </thead>\n",
       "  <tbody>\n",
       "    <tr>\n",
       "      <th>0</th>\n",
       "      <td>5941774d</td>\n",
       "      <td>0.007647</td>\n",
       "    </tr>\n",
       "    <tr>\n",
       "      <th>1</th>\n",
       "      <td>4023181e</td>\n",
       "      <td>0.529762</td>\n",
       "    </tr>\n",
       "    <tr>\n",
       "      <th>2</th>\n",
       "      <td>b20200e4</td>\n",
       "      <td>0.001207</td>\n",
       "    </tr>\n",
       "    <tr>\n",
       "      <th>3</th>\n",
       "      <td>e7f018bb</td>\n",
       "      <td>0.998508</td>\n",
       "    </tr>\n",
       "    <tr>\n",
       "      <th>4</th>\n",
       "      <td>4371c8c3</td>\n",
       "      <td>0.005407</td>\n",
       "    </tr>\n",
       "    <tr>\n",
       "      <th>5</th>\n",
       "      <td>a8d9b1fd</td>\n",
       "      <td>0.011531</td>\n",
       "    </tr>\n",
       "    <tr>\n",
       "      <th>6</th>\n",
       "      <td>29e7727e</td>\n",
       "      <td>0.015572</td>\n",
       "    </tr>\n",
       "    <tr>\n",
       "      <th>7</th>\n",
       "      <td>92a51ffb</td>\n",
       "      <td>0.999949</td>\n",
       "    </tr>\n",
       "    <tr>\n",
       "      <th>8</th>\n",
       "      <td>c769ac97</td>\n",
       "      <td>0.001354</td>\n",
       "    </tr>\n",
       "    <tr>\n",
       "      <th>9</th>\n",
       "      <td>aee0547d</td>\n",
       "      <td>0.000341</td>\n",
       "    </tr>\n",
       "  </tbody>\n",
       "</table>\n",
       "</div>"
      ],
      "text/plain": [
       "         id  is_iceberg\n",
       "0  5941774d    0.007647\n",
       "1  4023181e    0.529762\n",
       "2  b20200e4    0.001207\n",
       "3  e7f018bb    0.998508\n",
       "4  4371c8c3    0.005407\n",
       "5  a8d9b1fd    0.011531\n",
       "6  29e7727e    0.015572\n",
       "7  92a51ffb    0.999949\n",
       "8  c769ac97    0.001354\n",
       "9  aee0547d    0.000341"
      ]
     },
     "execution_count": 16,
     "metadata": {},
     "output_type": "execute_result"
    }
   ],
   "source": [
    "submission = pd.DataFrame({'id': test[\"id\"], 'is_iceberg': prediction.reshape((prediction.shape[0]))})\n",
    "submission.head(10)"
   ]
  },
  {
   "cell_type": "code",
   "execution_count": 17,
   "metadata": {
    "collapsed": true
   },
   "outputs": [],
   "source": [
    "submission.to_csv(\"/mnt/extDisk/courses/data/statoil/data/resnet/keras_baseline_clip.csv\", index=False)"
   ]
  },
  {
   "cell_type": "code",
   "execution_count": null,
   "metadata": {
    "collapsed": true
   },
   "outputs": [],
   "source": []
  }
 ],
 "metadata": {
  "kernelspec": {
   "display_name": "Python 2",
   "language": "python",
   "name": "python2"
  },
  "language_info": {
   "codemirror_mode": {
    "name": "ipython",
    "version": 2
   },
   "file_extension": ".py",
   "mimetype": "text/x-python",
   "name": "python",
   "nbconvert_exporter": "python",
   "pygments_lexer": "ipython2",
   "version": "2.7.12"
  }
 },
 "nbformat": 4,
 "nbformat_minor": 2
}
