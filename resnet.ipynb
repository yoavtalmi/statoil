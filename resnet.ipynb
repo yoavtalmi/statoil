{
 "cells": [
  {
   "cell_type": "code",
   "execution_count": 1,
   "metadata": {
    "collapsed": true
   },
   "outputs": [],
   "source": [
    "import numpy as np # linear algebra\n",
    "np.random.seed(666)\n",
    "import pandas as pd # data processing, CSV file I/O (e.g. pd.read_csv)\n",
    "from sklearn.model_selection import train_test_split\n",
    "from subprocess import check_output"
   ]
  },
  {
   "cell_type": "code",
   "execution_count": 2,
   "metadata": {},
   "outputs": [
    {
     "name": "stdout",
     "output_type": "stream",
     "text": [
      "done!\n"
     ]
    }
   ],
   "source": [
    "#Load data\n",
    "train = pd.read_json(\"/mnt/extDisk/courses/data/statoil/data/train_half/train.json\")\n",
    "valid = pd.read_json(\"/mnt/extDisk/courses/data/statoil/data/train_half/valid.json\")\n",
    "test = pd.read_json(\"/mnt/extDisk/courses/data/statoil/data/train/test.json\")\n",
    "train.inc_angle = train.inc_angle.replace('na', 0)\n",
    "train.inc_angle = train.inc_angle.astype(float).fillna(0.0)\n",
    "valid.inc_angle = valid.inc_angle.replace('na', 0)\n",
    "valid.inc_angle = valid.inc_angle.astype(float).fillna(0.0)\n",
    "print(\"done!\")"
   ]
  },
  {
   "cell_type": "code",
   "execution_count": 3,
   "metadata": {
    "collapsed": true
   },
   "outputs": [],
   "source": [
    "\n",
    "\n",
    "# Train data\n",
    "x_band1 = np.array([np.array(band).astype(np.float32).reshape(75, 75) for band in train[\"band_1\"]])\n",
    "x_band2 = np.array([np.array(band).astype(np.float32).reshape(75, 75) for band in train[\"band_2\"]])\n",
    "X_train = np.concatenate([x_band1[:, :, :, np.newaxis]\n",
    "                          , x_band2[:, :, :, np.newaxis]\n",
    "                         , ((x_band1/x_band2))[:, :, :, np.newaxis]], axis=-1)\n",
    "X_angle_train = np.array(train.inc_angle)\n",
    "y_train = np.array(train[\"is_iceberg\"])\n",
    "\n",
    "# Valid data\n",
    "x_band1 = np.array([np.array(band).astype(np.float32).reshape(75, 75) for band in valid[\"band_1\"]])\n",
    "x_band2 = np.array([np.array(band).astype(np.float32).reshape(75, 75) for band in valid[\"band_2\"]])\n",
    "X_valid = np.concatenate([x_band1[:, :, :, np.newaxis]\n",
    "                          , x_band2[:, :, :, np.newaxis]\n",
    "                         , ((x_band1/x_band2))[:, :, :, np.newaxis]], axis=-1)\n",
    "X_angle_valid = np.array(valid.inc_angle)\n",
    "y_valid = np.array(valid[\"is_iceberg\"])\n",
    "\n",
    "# Test data\n",
    "x_band1 = np.array([np.array(band).astype(np.float32).reshape(75, 75) for band in test[\"band_1\"]])\n",
    "x_band2 = np.array([np.array(band).astype(np.float32).reshape(75, 75) for band in test[\"band_2\"]])\n",
    "X_test = np.concatenate([x_band1[:, :, :, np.newaxis]\n",
    "                          , x_band2[:, :, :, np.newaxis]\n",
    "                         , ((x_band1/x_band2))[:, :, :, np.newaxis]], axis=-1)\n",
    "X_angle_test = np.array(test.inc_angle)\n",
    "\n"
   ]
  },
  {
   "cell_type": "code",
   "execution_count": 4,
   "metadata": {},
   "outputs": [
    {
     "name": "stderr",
     "output_type": "stream",
     "text": [
      "Using TensorFlow backend.\n"
     ]
    },
    {
     "name": "stdout",
     "output_type": "stream",
     "text": [
      "Couldn't import dot_parser, loading of dot files will not be possible.\n"
     ]
    },
    {
     "name": "stderr",
     "output_type": "stream",
     "text": [
      "/home/user/tensorflow/lib/python2.7/site-packages/ipykernel_launcher.py:46: UserWarning: The `merge` function is deprecated and will be removed after 08/2017. Use instead layers from `keras.layers.merge`, e.g. `add`, `concatenate`, etc.\n",
      "/home/user/tensorflow/local/lib/python2.7/site-packages/keras/legacy/layers.py:460: UserWarning: The `Merge` layer is deprecated and will be removed after 08/2017. Use instead layers from `keras.layers.merge`, e.g. `add`, `concatenate`, etc.\n",
      "  name=name)\n"
     ]
    },
    {
     "name": "stdout",
     "output_type": "stream",
     "text": [
      "____________________________________________________________________________________________________\n",
      "Layer (type)                     Output Shape          Param #     Connected to                     \n",
      "====================================================================================================\n",
      "X_1 (InputLayer)                 (None, 75, 75, 1)     0                                            \n",
      "____________________________________________________________________________________________________\n",
      "batch_normalization_1 (BatchNorm (None, 75, 75, 1)     4           X_1[0][0]                        \n",
      "____________________________________________________________________________________________________\n",
      "conv2d_1 (Conv2D)                (None, 75, 75, 32)    832         batch_normalization_1[0][0]      \n",
      "____________________________________________________________________________________________________\n",
      "batch_normalization_2 (BatchNorm (None, 75, 75, 32)    128         conv2d_1[0][0]                   \n",
      "____________________________________________________________________________________________________\n",
      "max_pooling2d_1 (MaxPooling2D)   (None, 37, 37, 32)    0           batch_normalization_2[0][0]      \n",
      "____________________________________________________________________________________________________\n",
      "dropout_1 (Dropout)              (None, 37, 37, 32)    0           max_pooling2d_1[0][0]            \n",
      "____________________________________________________________________________________________________\n",
      "conv2d_2 (Conv2D)                (None, 37, 37, 64)    51264       dropout_1[0][0]                  \n",
      "____________________________________________________________________________________________________\n",
      "batch_normalization_3 (BatchNorm (None, 37, 37, 64)    256         conv2d_2[0][0]                   \n",
      "____________________________________________________________________________________________________\n",
      "max_pooling2d_2 (MaxPooling2D)   (None, 18, 18, 64)    0           batch_normalization_3[0][0]      \n",
      "____________________________________________________________________________________________________\n",
      "dropout_2 (Dropout)              (None, 18, 18, 64)    0           max_pooling2d_2[0][0]            \n",
      "____________________________________________________________________________________________________\n",
      "batch_normalization_4 (BatchNorm (None, 18, 18, 64)    256         dropout_2[0][0]                  \n",
      "____________________________________________________________________________________________________\n",
      "conv2d_3 (Conv2D)                (None, 18, 18, 128)   204928      batch_normalization_4[0][0]      \n",
      "____________________________________________________________________________________________________\n",
      "batch_normalization_5 (BatchNorm (None, 18, 18, 128)   512         conv2d_3[0][0]                   \n",
      "____________________________________________________________________________________________________\n",
      "dropout_3 (Dropout)              (None, 18, 18, 128)   0           batch_normalization_5[0][0]      \n",
      "____________________________________________________________________________________________________\n",
      "conv2d_4 (Conv2D)                (None, 18, 18, 64)    204864      dropout_3[0][0]                  \n",
      "____________________________________________________________________________________________________\n",
      "batch_normalization_6 (BatchNorm (None, 18, 18, 64)    256         conv2d_4[0][0]                   \n",
      "____________________________________________________________________________________________________\n",
      "merge_1 (Merge)                  (None, 18, 18, 64)    0           batch_normalization_6[0][0]      \n",
      "                                                                   dropout_2[0][0]                  \n",
      "____________________________________________________________________________________________________\n",
      "conv2d_5 (Conv2D)                (None, 18, 18, 128)   204928      merge_1[0][0]                    \n",
      "____________________________________________________________________________________________________\n",
      "batch_normalization_7 (BatchNorm (None, 18, 18, 128)   512         conv2d_5[0][0]                   \n",
      "____________________________________________________________________________________________________\n",
      "max_pooling2d_3 (MaxPooling2D)   (None, 9, 9, 128)     0           batch_normalization_7[0][0]      \n",
      "____________________________________________________________________________________________________\n",
      "conv2d_6 (Conv2D)                (None, 9, 9, 256)     819456      max_pooling2d_3[0][0]            \n",
      "____________________________________________________________________________________________________\n",
      "batch_normalization_8 (BatchNorm (None, 9, 9, 256)     1024        conv2d_6[0][0]                   \n",
      "____________________________________________________________________________________________________\n",
      "dropout_4 (Dropout)              (None, 9, 9, 256)     0           batch_normalization_8[0][0]      \n",
      "____________________________________________________________________________________________________\n",
      "max_pooling2d_4 (MaxPooling2D)   (None, 4, 4, 256)     0           dropout_4[0][0]                  \n",
      "____________________________________________________________________________________________________\n",
      "conv2d_7 (Conv2D)                (None, 4, 4, 512)     3277312     max_pooling2d_4[0][0]            \n",
      "____________________________________________________________________________________________________\n",
      "batch_normalization_9 (BatchNorm (None, 4, 4, 512)     2048        conv2d_7[0][0]                   \n",
      "____________________________________________________________________________________________________\n",
      "dropout_5 (Dropout)              (None, 4, 4, 512)     0           batch_normalization_9[0][0]      \n",
      "____________________________________________________________________________________________________\n",
      "max_pooling2d_5 (MaxPooling2D)   (None, 2, 2, 512)     0           dropout_5[0][0]                  \n",
      "____________________________________________________________________________________________________\n",
      "global_max_pooling2d_1 (GlobalMa (None, 512)           0           max_pooling2d_5[0][0]            \n",
      "____________________________________________________________________________________________________\n",
      "dense_1 (Dense)                  (None, 512)           262656      global_max_pooling2d_1[0][0]     \n",
      "____________________________________________________________________________________________________\n",
      "batch_normalization_10 (BatchNor (None, 512)           2048        dense_1[0][0]                    \n",
      "____________________________________________________________________________________________________\n",
      "dropout_6 (Dropout)              (None, 512)           0           batch_normalization_10[0][0]     \n",
      "____________________________________________________________________________________________________\n",
      "dense_2 (Dense)                  (None, 256)           131328      dropout_6[0][0]                  \n",
      "____________________________________________________________________________________________________\n",
      "batch_normalization_11 (BatchNor (None, 256)           1024        dense_2[0][0]                    \n",
      "____________________________________________________________________________________________________\n",
      "dropout_7 (Dropout)              (None, 256)           0           batch_normalization_11[0][0]     \n",
      "____________________________________________________________________________________________________\n",
      "dense_3 (Dense)                  (None, 1)             257         dropout_7[0][0]                  \n",
      "====================================================================================================\n",
      "Total params: 5,165,893\n",
      "Trainable params: 5,161,859\n",
      "Non-trainable params: 4,034\n",
      "____________________________________________________________________________________________________\n"
     ]
    }
   ],
   "source": [
    "from matplotlib import pyplot\n",
    "from keras.preprocessing.image import ImageDataGenerator\n",
    "from keras.models import Sequential\n",
    "from keras.layers import Conv2D, MaxPooling2D, Dense, Dropout, Input, Flatten, merge\n",
    "from keras.layers import GlobalMaxPooling2D\n",
    "from keras.layers.normalization import BatchNormalization\n",
    "from keras.layers.merge import Concatenate\n",
    "from keras.models import Model\n",
    "from keras.optimizers import Adam\n",
    "from keras.callbacks import ModelCheckpoint, Callback, EarlyStopping\n",
    "\n",
    "def get_callbacks(filepath, patience=2):\n",
    "    es = EarlyStopping('val_loss', patience=patience, mode=\"min\")\n",
    "    msave = ModelCheckpoint(filepath, save_best_only=True)\n",
    "    return [es, msave]\n",
    "    \n",
    "def get_model():\n",
    "    \n",
    "    \n",
    "    kernel_size = (5,5)\n",
    "    bn_model = 0\n",
    "    p_activation = \"elu\"\n",
    "    input_1 = Input(shape=(75, 75, 3), name=\"X_1\")\n",
    "    \n",
    "    ## input CNN\n",
    "    input_CNN  = BatchNormalization(momentum = 0.99)(input_1 )\n",
    "    input_CNN  = Conv2D(32,kernel_size, activation=p_activation, padding='same') (input_CNN )\n",
    "    input_CNN  = BatchNormalization(momentum = 0.99)(input_CNN )\n",
    "    input_CNN  = MaxPooling2D((2,2)) (input_CNN )\n",
    "    input_CNN  = Dropout(0.25)(input_CNN )\n",
    "    input_CNN  = Conv2D(64,kernel_size, activation=p_activation, padding='same') (input_CNN )\n",
    "    input_CNN  = BatchNormalization(momentum = 0.99)(input_CNN )\n",
    "    input_CNN  = MaxPooling2D((2,2)) (input_CNN )\n",
    "    input_CNN  = Dropout(0.25)(input_CNN )\n",
    "    \n",
    "\n",
    "    ## first residual\n",
    "    \n",
    "    input_CNN_residual  = BatchNormalization(momentum = 0.99)(input_CNN)\n",
    "    input_CNN_residual  = Conv2D(128,kernel_size, activation=p_activation, padding='same') (input_CNN_residual )\n",
    "    input_CNN_residual  = BatchNormalization(momentum = 0.99)(input_CNN_residual)\n",
    "    input_CNN_residual  = Dropout(0.25)(input_CNN_residual )\n",
    "    input_CNN_residual  = Conv2D(64,kernel_size, activation=p_activation, padding='same') (input_CNN_residual )\n",
    "    input_CNN_residual  = BatchNormalization(momentum = 0.99)(input_CNN_residual)\n",
    "    \n",
    "    input_CNN_residual = merge([input_CNN_residual,input_CNN], mode = 'sum')\n",
    "    \n",
    "    ## final CNN\n",
    "    \n",
    "    top_CNN  = Conv2D(128,kernel_size, activation=p_activation, padding='same') (input_CNN_residual )\n",
    "    top_CNN  = BatchNormalization(momentum = 0.99)(top_CNN)\n",
    "    top_CNN  = MaxPooling2D((2,2)) (top_CNN )\n",
    "    top_CNN  = Conv2D(256,kernel_size, activation=p_activation, padding='same') (top_CNN )\n",
    "    top_CNN  = BatchNormalization(momentum = 0.99)(top_CNN)\n",
    "    top_CNN  = Dropout(0.25)(top_CNN )\n",
    "    top_CNN  = MaxPooling2D((2,2)) (top_CNN )\n",
    "    top_CNN  = Conv2D(512,kernel_size, activation=p_activation, padding='same') (top_CNN )\n",
    "    top_CNN  = BatchNormalization(momentum = 0.99)(top_CNN)\n",
    "    top_CNN  = Dropout(0.25)(top_CNN )\n",
    "    top_CNN  = MaxPooling2D((2,2)) (top_CNN )\n",
    "    top_CNN  = GlobalMaxPooling2D() (top_CNN)\n",
    "    \n",
    "\n",
    "    \n",
    "    layer_dense = Dense(512)(top_CNN)\n",
    "    layer_dense  = BatchNormalization(momentum = 0.99)(layer_dense)\n",
    "    layer_dense  = Dropout(0.5)(layer_dense )\n",
    "    layer_dense = Dense(256)(layer_dense)\n",
    "    layer_dense  = BatchNormalization(momentum = 0.99)(layer_dense)\n",
    "    layer_dense  = Dropout(0.5)(layer_dense )\n",
    "    output = Dense(1, activation=\"sigmoid\")(layer_dense)\n",
    "    \n",
    "    \n",
    "    model = Model(input_1,  output)\n",
    "    optimizer = Adam(lr=0.001)\n",
    "    model.compile(loss=\"binary_crossentropy\", optimizer=optimizer, metrics=[\"accuracy\"])\n",
    "    return model\n",
    "\n",
    "model = get_model()\n",
    "model.summary()"
   ]
  },
  {
   "cell_type": "code",
   "execution_count": 11,
   "metadata": {},
   "outputs": [
    {
     "name": "stderr",
     "output_type": "stream",
     "text": [
      "/home/user/tensorflow/lib/python2.7/site-packages/ipykernel_launcher.py:46: UserWarning: The `merge` function is deprecated and will be removed after 08/2017. Use instead layers from `keras.layers.merge`, e.g. `add`, `concatenate`, etc.\n"
     ]
    },
    {
     "name": "stdout",
     "output_type": "stream",
     "text": [
      "Train on 602 samples, validate on 200 samples\n",
      "Epoch 1/35\n",
      "602/602 [==============================] - 2s - loss: 1.0130 - acc: 0.5714 - val_loss: 7.2531 - val_acc: 0.5500\n",
      "Epoch 2/35\n",
      "602/602 [==============================] - 0s - loss: 0.7810 - acc: 0.6146 - val_loss: 7.2531 - val_acc: 0.5500\n",
      "Epoch 3/35\n",
      "602/602 [==============================] - 0s - loss: 0.7013 - acc: 0.6811 - val_loss: 6.9009 - val_acc: 0.5500\n",
      "Epoch 4/35\n",
      "602/602 [==============================] - 0s - loss: 0.5575 - acc: 0.7093 - val_loss: 1.2262 - val_acc: 0.5300\n",
      "Epoch 5/35\n",
      "602/602 [==============================] - 0s - loss: 0.5955 - acc: 0.7176 - val_loss: 0.9950 - val_acc: 0.5500\n",
      "Epoch 6/35\n",
      "602/602 [==============================] - 0s - loss: 0.5438 - acc: 0.7425 - val_loss: 2.7259 - val_acc: 0.5450\n",
      "Epoch 7/35\n",
      "602/602 [==============================] - 0s - loss: 0.4749 - acc: 0.7674 - val_loss: 1.4595 - val_acc: 0.5400\n",
      "Epoch 8/35\n",
      "602/602 [==============================] - 0s - loss: 0.4501 - acc: 0.7940 - val_loss: 3.3468 - val_acc: 0.5400\n",
      "Epoch 9/35\n",
      "602/602 [==============================] - 0s - loss: 0.4091 - acc: 0.8156 - val_loss: 2.5383 - val_acc: 0.5150\n",
      "Epoch 10/35\n",
      "602/602 [==============================] - 0s - loss: 0.3564 - acc: 0.8455 - val_loss: 1.0231 - val_acc: 0.5250\n",
      "Epoch 11/35\n",
      "602/602 [==============================] - 0s - loss: 0.2997 - acc: 0.8688 - val_loss: 1.0280 - val_acc: 0.5000\n",
      "Epoch 12/35\n",
      "602/602 [==============================] - 0s - loss: 0.3368 - acc: 0.8488 - val_loss: 0.8879 - val_acc: 0.5800\n",
      "Epoch 13/35\n",
      "602/602 [==============================] - 0s - loss: 0.2692 - acc: 0.8787 - val_loss: 0.5267 - val_acc: 0.7400\n",
      "Epoch 14/35\n",
      "602/602 [==============================] - 0s - loss: 0.2227 - acc: 0.9020 - val_loss: 1.0191 - val_acc: 0.5750\n",
      "Epoch 15/35\n",
      "602/602 [==============================] - 0s - loss: 0.2049 - acc: 0.9302 - val_loss: 1.1855 - val_acc: 0.5000\n",
      "Epoch 16/35\n",
      "602/602 [==============================] - 0s - loss: 0.1482 - acc: 0.9551 - val_loss: 0.9967 - val_acc: 0.5900\n",
      "Epoch 17/35\n",
      "602/602 [==============================] - 0s - loss: 0.1284 - acc: 0.9535 - val_loss: 0.7673 - val_acc: 0.6600\n",
      "Epoch 18/35\n",
      "602/602 [==============================] - 0s - loss: 0.1038 - acc: 0.9618 - val_loss: 0.9830 - val_acc: 0.6500\n",
      "Epoch 19/35\n",
      "602/602 [==============================] - 0s - loss: 0.1354 - acc: 0.9468 - val_loss: 0.9637 - val_acc: 0.7300\n",
      "Epoch 20/35\n",
      "602/602 [==============================] - 0s - loss: 0.1736 - acc: 0.9336 - val_loss: 0.4930 - val_acc: 0.8200\n",
      "Epoch 21/35\n",
      "602/602 [==============================] - 0s - loss: 0.1600 - acc: 0.9336 - val_loss: 0.9419 - val_acc: 0.6950\n",
      "Epoch 22/35\n",
      "602/602 [==============================] - 0s - loss: 0.1428 - acc: 0.9502 - val_loss: 0.4534 - val_acc: 0.8000\n",
      "Epoch 23/35\n",
      "602/602 [==============================] - 0s - loss: 0.0869 - acc: 0.9635 - val_loss: 0.5728 - val_acc: 0.7950\n",
      "Epoch 24/35\n",
      "602/602 [==============================] - 0s - loss: 0.0583 - acc: 0.9784 - val_loss: 0.7649 - val_acc: 0.7650\n",
      "Epoch 25/35\n",
      "602/602 [==============================] - 0s - loss: 0.0368 - acc: 0.9900 - val_loss: 0.9531 - val_acc: 0.7500\n",
      "Epoch 26/35\n",
      "602/602 [==============================] - 0s - loss: 0.0454 - acc: 0.9834 - val_loss: 0.5465 - val_acc: 0.8550\n",
      "Epoch 27/35\n",
      "602/602 [==============================] - 0s - loss: 0.0472 - acc: 0.9834 - val_loss: 1.4820 - val_acc: 0.6600\n",
      "Epoch 28/35\n",
      "602/602 [==============================] - 0s - loss: 0.0345 - acc: 0.9917 - val_loss: 0.8105 - val_acc: 0.8350\n",
      "Epoch 29/35\n",
      "602/602 [==============================] - 0s - loss: 0.0461 - acc: 0.9817 - val_loss: 0.9755 - val_acc: 0.7500\n",
      "Epoch 30/35\n",
      "602/602 [==============================] - 0s - loss: 0.0846 - acc: 0.9718 - val_loss: 0.8843 - val_acc: 0.7800\n",
      "Epoch 31/35\n",
      "602/602 [==============================] - 0s - loss: 0.0522 - acc: 0.9834 - val_loss: 0.5643 - val_acc: 0.8000\n",
      "Epoch 32/35\n",
      "602/602 [==============================] - 0s - loss: 0.0520 - acc: 0.9784 - val_loss: 0.7446 - val_acc: 0.7500\n",
      "Epoch 33/35\n",
      "602/602 [==============================] - 0s - loss: 0.0307 - acc: 0.9917 - val_loss: 0.6439 - val_acc: 0.8150\n"
     ]
    },
    {
     "data": {
      "text/plain": [
       "<keras.callbacks.History at 0x7f3d6dddda10>"
      ]
     },
     "execution_count": 11,
     "metadata": {},
     "output_type": "execute_result"
    }
   ],
   "source": [
    "file_path = \"/mnt/extDisk/courses/data/statoil/data/resnet/.model_weights.hdf5\"\n",
    "callbacks = get_callbacks(filepath=file_path, patience=10)\n",
    "\n",
    "model = get_model()\n",
    "model.fit(X_train, y_train, epochs=35\n",
    "          , validation_data=(X_valid, y_valid)\n",
    "         , batch_size=32\n",
    "         , callbacks=callbacks)\n"
   ]
  },
  {
   "cell_type": "code",
   "execution_count": 12,
   "metadata": {},
   "outputs": [
    {
     "name": "stdout",
     "output_type": "stream",
     "text": [
      "Train evaluate:\n",
      "600/602 [============================>.] - ETA: 0s[0.1431186030993232, 0.94352154953535217]\n",
      "####################\n",
      "watch list evaluate:\n",
      "200/200 [==============================] - 0s\n",
      "[0.45341736078262329, 0.80000001192092896]\n"
     ]
    }
   ],
   "source": [
    "model.load_weights(filepath=file_path)\n",
    "\n",
    "print(\"Train evaluate:\")\n",
    "print(model.evaluate(X_train, y_train, verbose=1, batch_size=200))\n",
    "print(\"####################\")\n",
    "print(\"watch list evaluate:\")\n",
    "print(model.evaluate(X_valid, y_valid, verbose=1, batch_size=200))"
   ]
  },
  {
   "cell_type": "code",
   "execution_count": 13,
   "metadata": {},
   "outputs": [
    {
     "name": "stdout",
     "output_type": "stream",
     "text": [
      "8424/8424 [==============================] - 2s     \n"
     ]
    }
   ],
   "source": [
    "prediction = model.predict(X_test, verbose=1, batch_size=200)"
   ]
  },
  {
   "cell_type": "code",
   "execution_count": 14,
   "metadata": {},
   "outputs": [
    {
     "data": {
      "text/html": [
       "<div>\n",
       "<table border=\"1\" class=\"dataframe\">\n",
       "  <thead>\n",
       "    <tr style=\"text-align: right;\">\n",
       "      <th></th>\n",
       "      <th>id</th>\n",
       "      <th>is_iceberg</th>\n",
       "    </tr>\n",
       "  </thead>\n",
       "  <tbody>\n",
       "    <tr>\n",
       "      <th>0</th>\n",
       "      <td>5941774d</td>\n",
       "      <td>0.848502</td>\n",
       "    </tr>\n",
       "    <tr>\n",
       "      <th>1</th>\n",
       "      <td>4023181e</td>\n",
       "      <td>0.740539</td>\n",
       "    </tr>\n",
       "    <tr>\n",
       "      <th>2</th>\n",
       "      <td>b20200e4</td>\n",
       "      <td>0.042916</td>\n",
       "    </tr>\n",
       "    <tr>\n",
       "      <th>3</th>\n",
       "      <td>e7f018bb</td>\n",
       "      <td>0.942880</td>\n",
       "    </tr>\n",
       "    <tr>\n",
       "      <th>4</th>\n",
       "      <td>4371c8c3</td>\n",
       "      <td>0.704379</td>\n",
       "    </tr>\n",
       "    <tr>\n",
       "      <th>5</th>\n",
       "      <td>a8d9b1fd</td>\n",
       "      <td>0.200821</td>\n",
       "    </tr>\n",
       "    <tr>\n",
       "      <th>6</th>\n",
       "      <td>29e7727e</td>\n",
       "      <td>0.009149</td>\n",
       "    </tr>\n",
       "    <tr>\n",
       "      <th>7</th>\n",
       "      <td>92a51ffb</td>\n",
       "      <td>0.990104</td>\n",
       "    </tr>\n",
       "    <tr>\n",
       "      <th>8</th>\n",
       "      <td>c769ac97</td>\n",
       "      <td>0.003340</td>\n",
       "    </tr>\n",
       "    <tr>\n",
       "      <th>9</th>\n",
       "      <td>aee0547d</td>\n",
       "      <td>0.000004</td>\n",
       "    </tr>\n",
       "  </tbody>\n",
       "</table>\n",
       "</div>"
      ],
      "text/plain": [
       "         id  is_iceberg\n",
       "0  5941774d    0.848502\n",
       "1  4023181e    0.740539\n",
       "2  b20200e4    0.042916\n",
       "3  e7f018bb    0.942880\n",
       "4  4371c8c3    0.704379\n",
       "5  a8d9b1fd    0.200821\n",
       "6  29e7727e    0.009149\n",
       "7  92a51ffb    0.990104\n",
       "8  c769ac97    0.003340\n",
       "9  aee0547d    0.000004"
      ]
     },
     "execution_count": 14,
     "metadata": {},
     "output_type": "execute_result"
    }
   ],
   "source": [
    "submission = pd.DataFrame({'id': test[\"id\"], 'is_iceberg': prediction.reshape((prediction.shape[0]))})\n",
    "submission.head(10)"
   ]
  },
  {
   "cell_type": "code",
   "execution_count": 15,
   "metadata": {
    "collapsed": true
   },
   "outputs": [],
   "source": [
    "submission.to_csv(\"/mnt/extDisk/courses/data/statoil/data/resnet/channel2.csv\", index=False)"
   ]
  },
  {
   "cell_type": "code",
   "execution_count": null,
   "metadata": {
    "collapsed": true
   },
   "outputs": [],
   "source": []
  }
 ],
 "metadata": {
  "kernelspec": {
   "display_name": "Python 2",
   "language": "python",
   "name": "python2"
  },
  "language_info": {
   "codemirror_mode": {
    "name": "ipython",
    "version": 2
   },
   "file_extension": ".py",
   "mimetype": "text/x-python",
   "name": "python",
   "nbconvert_exporter": "python",
   "pygments_lexer": "ipython2",
   "version": "2.7.12"
  }
 },
 "nbformat": 4,
 "nbformat_minor": 2
}
