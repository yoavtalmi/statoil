{
 "cells": [
  {
   "cell_type": "code",
   "execution_count": 1,
   "metadata": {
    "collapsed": true
   },
   "outputs": [],
   "source": [
    "import numpy as np # linear algebra\n",
    "np.random.seed(666)\n",
    "import pandas as pd # data processing, CSV file I/O (e.g. pd.read_csv)\n",
    "from sklearn.model_selection import train_test_split\n",
    "from subprocess import check_output"
   ]
  },
  {
   "cell_type": "code",
   "execution_count": 2,
   "metadata": {},
   "outputs": [
    {
     "name": "stdout",
     "output_type": "stream",
     "text": [
      "done!\n"
     ]
    }
   ],
   "source": [
    "#Load data\n",
    "train = pd.read_json(\"/mnt/extDisk/courses/data/statoil/data/train_half/train.json\")\n",
    "valid = pd.read_json(\"/mnt/extDisk/courses/data/statoil/data/train_half/valid.json\")\n",
    "test = pd.read_json(\"/mnt/extDisk/courses/data/statoil/data/train/test.json\")\n",
    "train.inc_angle = train.inc_angle.replace('na', 0)\n",
    "train.inc_angle = train.inc_angle.astype(float).fillna(0.0)\n",
    "valid.inc_angle = valid.inc_angle.replace('na', 0)\n",
    "valid.inc_angle = valid.inc_angle.astype(float).fillna(0.0)\n",
    "print(\"done!\")"
   ]
  },
  {
   "cell_type": "code",
   "execution_count": 7,
   "metadata": {
    "collapsed": true
   },
   "outputs": [],
   "source": [
    "\n",
    "\n",
    "# Train data\n",
    "x_band1 = np.array([np.array(band).astype(np.float32).reshape(75, 75) for band in train[\"band_1\"]])\n",
    "x_band2 = np.array([np.array(band).astype(np.float32).reshape(75, 75) for band in train[\"band_2\"]])\n",
    "X_train = np.concatenate([x_band1[:, :, :, np.newaxis]\n",
    "                          , x_band2[:, :, :, np.newaxis]\n",
    "                         , ((x_band1/x_band2))[:, :, :, np.newaxis]], axis=-1)\n",
    "X_angle_train = np.array(train.inc_angle)\n",
    "y_train = np.array(train[\"is_iceberg\"])\n",
    "\n",
    "# Valid data\n",
    "x_band1 = np.array([np.array(band).astype(np.float32).reshape(75, 75) for band in valid[\"band_1\"]])\n",
    "x_band2 = np.array([np.array(band).astype(np.float32).reshape(75, 75) for band in valid[\"band_2\"]])\n",
    "X_valid = np.concatenate([x_band1[:, :, :, np.newaxis]\n",
    "                          , x_band2[:, :, :, np.newaxis]\n",
    "                         , ((x_band1/x_band2))[:, :, :, np.newaxis]], axis=-1)\n",
    "X_angle_valid = np.array(valid.inc_angle)\n",
    "y_valid = np.array(valid[\"is_iceberg\"])\n",
    "\n",
    "# Test data\n",
    "x_band1 = np.array([np.array(band).astype(np.float32).reshape(75, 75) for band in test[\"band_1\"]])\n",
    "x_band2 = np.array([np.array(band).astype(np.float32).reshape(75, 75) for band in test[\"band_2\"]])\n",
    "X_test = np.concatenate([x_band1[:, :, :, np.newaxis]\n",
    "                          , x_band2[:, :, :, np.newaxis]\n",
    "                         , ((x_band1/x_band2))[:, :, :, np.newaxis]], axis=-1)\n",
    "X_angle_test = np.array(test.inc_angle)\n",
    "\n",
    "\n",
    "#X_train, X_valid, X_angle_train, X_angle_valid, y_train, y_valid = train_test_split(X_train\n",
    "#                    , X_angle_train, y_train, random_state=123, train_size=0.75)\n",
    "\n"
   ]
  },
  {
   "cell_type": "code",
   "execution_count": 8,
   "metadata": {},
   "outputs": [
    {
     "name": "stderr",
     "output_type": "stream",
     "text": [
      "/home/user/tensorflow/lib/python2.7/site-packages/ipykernel_launcher.py:26: UserWarning: Update your `Conv2D` call to the Keras 2 API: `Conv2D(16, (3, 3), activation=\"elu\")`\n",
      "/home/user/tensorflow/lib/python2.7/site-packages/ipykernel_launcher.py:27: UserWarning: Update your `Conv2D` call to the Keras 2 API: `Conv2D(16, (3, 3), activation=\"elu\")`\n",
      "/home/user/tensorflow/lib/python2.7/site-packages/ipykernel_launcher.py:30: UserWarning: Update your `Conv2D` call to the Keras 2 API: `Conv2D(32, (3, 3), activation=\"elu\")`\n",
      "/home/user/tensorflow/lib/python2.7/site-packages/ipykernel_launcher.py:31: UserWarning: Update your `Conv2D` call to the Keras 2 API: `Conv2D(32, (3, 3), activation=\"elu\")`\n",
      "/home/user/tensorflow/lib/python2.7/site-packages/ipykernel_launcher.py:34: UserWarning: Update your `Conv2D` call to the Keras 2 API: `Conv2D(64, (3, 3), activation=\"elu\")`\n",
      "/home/user/tensorflow/lib/python2.7/site-packages/ipykernel_launcher.py:35: UserWarning: Update your `Conv2D` call to the Keras 2 API: `Conv2D(64, (3, 3), activation=\"elu\")`\n",
      "/home/user/tensorflow/lib/python2.7/site-packages/ipykernel_launcher.py:38: UserWarning: Update your `Conv2D` call to the Keras 2 API: `Conv2D(128, (3, 3), activation=\"elu\")`\n",
      "/home/user/tensorflow/lib/python2.7/site-packages/ipykernel_launcher.py:44: UserWarning: Update your `Conv2D` call to the Keras 2 API: `Conv2D(128, (3, 3), activation=\"elu\")`\n"
     ]
    },
    {
     "name": "stdout",
     "output_type": "stream",
     "text": [
      "____________________________________________________________________________________________________\n",
      "Layer (type)                     Output Shape          Param #     Connected to                     \n",
      "====================================================================================================\n",
      "X_1 (InputLayer)                 (None, 75, 75, 3)     0                                            \n",
      "____________________________________________________________________________________________________\n",
      "conv2d_17 (Conv2D)               (None, 73, 73, 16)    448         X_1[0][0]                        \n",
      "____________________________________________________________________________________________________\n",
      "conv2d_18 (Conv2D)               (None, 71, 71, 16)    2320        conv2d_17[0][0]                  \n",
      "____________________________________________________________________________________________________\n",
      "max_pooling2d_11 (MaxPooling2D)  (None, 35, 35, 16)    0           conv2d_18[0][0]                  \n",
      "____________________________________________________________________________________________________\n",
      "dropout_15 (Dropout)             (None, 35, 35, 16)    0           max_pooling2d_11[0][0]           \n",
      "____________________________________________________________________________________________________\n",
      "conv2d_19 (Conv2D)               (None, 33, 33, 32)    4640        dropout_15[0][0]                 \n",
      "____________________________________________________________________________________________________\n",
      "conv2d_20 (Conv2D)               (None, 31, 31, 32)    9248        conv2d_19[0][0]                  \n",
      "____________________________________________________________________________________________________\n",
      "max_pooling2d_12 (MaxPooling2D)  (None, 15, 15, 32)    0           conv2d_20[0][0]                  \n",
      "____________________________________________________________________________________________________\n",
      "dropout_16 (Dropout)             (None, 15, 15, 32)    0           max_pooling2d_12[0][0]           \n",
      "____________________________________________________________________________________________________\n",
      "conv2d_21 (Conv2D)               (None, 13, 13, 64)    18496       dropout_16[0][0]                 \n",
      "____________________________________________________________________________________________________\n",
      "conv2d_22 (Conv2D)               (None, 11, 11, 64)    36928       conv2d_21[0][0]                  \n",
      "____________________________________________________________________________________________________\n",
      "max_pooling2d_13 (MaxPooling2D)  (None, 5, 5, 64)      0           conv2d_22[0][0]                  \n",
      "____________________________________________________________________________________________________\n",
      "dropout_17 (Dropout)             (None, 5, 5, 64)      0           max_pooling2d_13[0][0]           \n",
      "____________________________________________________________________________________________________\n",
      "batch_normalization_9 (BatchNorm (None, 75, 75, 3)     12          X_1[0][0]                        \n",
      "____________________________________________________________________________________________________\n",
      "conv2d_23 (Conv2D)               (None, 3, 3, 128)     73856       dropout_17[0][0]                 \n",
      "____________________________________________________________________________________________________\n",
      "conv2d_24 (Conv2D)               (None, 73, 73, 128)   3584        batch_normalization_9[0][0]      \n",
      "____________________________________________________________________________________________________\n",
      "max_pooling2d_14 (MaxPooling2D)  (None, 1, 1, 128)     0           conv2d_23[0][0]                  \n",
      "____________________________________________________________________________________________________\n",
      "max_pooling2d_15 (MaxPooling2D)  (None, 36, 36, 128)   0           conv2d_24[0][0]                  \n",
      "____________________________________________________________________________________________________\n",
      "dropout_18 (Dropout)             (None, 1, 1, 128)     0           max_pooling2d_14[0][0]           \n",
      "____________________________________________________________________________________________________\n",
      "dropout_19 (Dropout)             (None, 36, 36, 128)   0           max_pooling2d_15[0][0]           \n",
      "____________________________________________________________________________________________________\n",
      "angle (InputLayer)               (None, 1)             0                                            \n",
      "____________________________________________________________________________________________________\n",
      "global_max_pooling2d_5 (GlobalMa (None, 128)           0           dropout_18[0][0]                 \n",
      "____________________________________________________________________________________________________\n",
      "global_max_pooling2d_6 (GlobalMa (None, 128)           0           dropout_19[0][0]                 \n",
      "____________________________________________________________________________________________________\n",
      "batch_normalization_10 (BatchNor (None, 1)             4           angle[0][0]                      \n",
      "____________________________________________________________________________________________________\n",
      "concatenate_3 (Concatenate)      (None, 257)           0           global_max_pooling2d_5[0][0]     \n",
      "                                                                   global_max_pooling2d_6[0][0]     \n",
      "                                                                   batch_normalization_10[0][0]     \n",
      "____________________________________________________________________________________________________\n",
      "dense_7 (Dense)                  (None, 256)           66048       concatenate_3[0][0]              \n",
      "____________________________________________________________________________________________________\n",
      "batch_normalization_11 (BatchNor (None, 256)           1024        dense_7[0][0]                    \n",
      "____________________________________________________________________________________________________\n",
      "dropout_20 (Dropout)             (None, 256)           0           batch_normalization_11[0][0]     \n",
      "____________________________________________________________________________________________________\n",
      "dense_8 (Dense)                  (None, 64)            16448       dropout_20[0][0]                 \n",
      "____________________________________________________________________________________________________\n",
      "batch_normalization_12 (BatchNor (None, 64)            256         dense_8[0][0]                    \n",
      "____________________________________________________________________________________________________\n",
      "dropout_21 (Dropout)             (None, 64)            0           batch_normalization_12[0][0]     \n",
      "____________________________________________________________________________________________________\n",
      "dense_9 (Dense)                  (None, 1)             65          dropout_21[0][0]                 \n",
      "====================================================================================================\n",
      "Total params: 233,377\n",
      "Trainable params: 232,729\n",
      "Non-trainable params: 648\n",
      "____________________________________________________________________________________________________\n"
     ]
    }
   ],
   "source": [
    "from matplotlib import pyplot\n",
    "from keras.preprocessing.image import ImageDataGenerator\n",
    "from keras.models import Sequential\n",
    "from keras.layers import Conv2D, MaxPooling2D, Dense, Dropout, Input, Flatten\n",
    "from keras.layers import GlobalMaxPooling2D\n",
    "from keras.layers.normalization import BatchNormalization\n",
    "from keras.layers.merge import Concatenate\n",
    "from keras.models import Model\n",
    "from keras.optimizers import Adam\n",
    "from keras.callbacks import ModelCheckpoint, Callback, EarlyStopping\n",
    "\n",
    "\n",
    "def get_callbacks(filepath, patience=2):\n",
    "    es = EarlyStopping('val_loss', patience=patience, mode=\"min\")\n",
    "    msave = ModelCheckpoint(filepath, save_best_only=True)\n",
    "    return [es, msave]\n",
    "    \n",
    "def get_model():\n",
    "    bn_model = 0\n",
    "    p_activation = \"elu\"\n",
    "    p = 0.2\n",
    "    p_dense = 0.5\n",
    "    input_1 = Input(shape=(75, 75, 3), name=\"X_1\")\n",
    "    input_2 = Input(shape=[1], name=\"angle\")\n",
    "    \n",
    "    img_1 = Conv2D(16,3,3, activation=p_activation) (input_1)\n",
    "    img_1 = Conv2D(16,3,3, activation=p_activation) (img_1)\n",
    "    img_1 = MaxPooling2D((2,2)) (img_1)\n",
    "    img_1 = Dropout(p)(img_1)\n",
    "    img_1 = Conv2D(32, 3,3, activation=p_activation) (img_1)\n",
    "    img_1 = Conv2D(32, 3,3, activation=p_activation) (img_1)\n",
    "    img_1 = MaxPooling2D((2,2)) (img_1)\n",
    "    img_1 = Dropout(p)(img_1)\n",
    "    img_1 = Conv2D(64,3,3, activation=p_activation) (img_1)\n",
    "    img_1 = Conv2D(64,3,3, activation=p_activation) (img_1)\n",
    "    img_1 = MaxPooling2D((2,2)) (img_1)\n",
    "    img_1 = Dropout(p)(img_1)\n",
    "    img_1 = Conv2D(128, 3,3, activation=p_activation) (img_1)\n",
    "    img_1 = MaxPooling2D((2,2)) (img_1)\n",
    "    img_1 = Dropout(p)(img_1)\n",
    "    img_1 = GlobalMaxPooling2D() (img_1)\n",
    "    \n",
    "    \n",
    "    img_2 = Conv2D(128, 3,3, activation=p_activation) ((BatchNormalization(momentum=bn_model))(input_1))\n",
    "    img_2 = MaxPooling2D((2,2)) (img_2)\n",
    "    img_2 = Dropout(p)(img_2)\n",
    "    img_2 = GlobalMaxPooling2D() (img_2)\n",
    "    \n",
    "    img_3 = BatchNormalization(momentum=bn_model)(input_2)\n",
    "    \n",
    "    img_concat =  (Concatenate()([img_1, img_2, img_3]))\n",
    "    \n",
    "    dense_ayer = Dropout(p_dense) (BatchNormalization(momentum=bn_model) ( Dense(256, activation=p_activation)(img_concat) ))\n",
    "    dense_ayer = Dropout(p_dense) (BatchNormalization(momentum=bn_model) ( Dense(64, activation=p_activation)(dense_ayer) ))\n",
    "    output = Dense(1, activation=\"sigmoid\")(dense_ayer)\n",
    "    \n",
    "    model = Model([input_1,input_2],  output)\n",
    "    optimizer = Adam(lr=0.001, beta_1=0.9, beta_2=0.999, epsilon=1e-08, decay=0.0)\n",
    "    model.compile(loss=\"binary_crossentropy\", optimizer=optimizer, metrics=[\"accuracy\"])\n",
    "    return model\n",
    "model = get_model()\n",
    "model.summary()"
   ]
  },
  {
   "cell_type": "code",
   "execution_count": 9,
   "metadata": {},
   "outputs": [
    {
     "name": "stderr",
     "output_type": "stream",
     "text": [
      "/home/user/tensorflow/lib/python2.7/site-packages/ipykernel_launcher.py:26: UserWarning: Update your `Conv2D` call to the Keras 2 API: `Conv2D(16, (3, 3), activation=\"elu\")`\n",
      "/home/user/tensorflow/lib/python2.7/site-packages/ipykernel_launcher.py:27: UserWarning: Update your `Conv2D` call to the Keras 2 API: `Conv2D(16, (3, 3), activation=\"elu\")`\n",
      "/home/user/tensorflow/lib/python2.7/site-packages/ipykernel_launcher.py:30: UserWarning: Update your `Conv2D` call to the Keras 2 API: `Conv2D(32, (3, 3), activation=\"elu\")`\n",
      "/home/user/tensorflow/lib/python2.7/site-packages/ipykernel_launcher.py:31: UserWarning: Update your `Conv2D` call to the Keras 2 API: `Conv2D(32, (3, 3), activation=\"elu\")`\n",
      "/home/user/tensorflow/lib/python2.7/site-packages/ipykernel_launcher.py:34: UserWarning: Update your `Conv2D` call to the Keras 2 API: `Conv2D(64, (3, 3), activation=\"elu\")`\n",
      "/home/user/tensorflow/lib/python2.7/site-packages/ipykernel_launcher.py:35: UserWarning: Update your `Conv2D` call to the Keras 2 API: `Conv2D(64, (3, 3), activation=\"elu\")`\n",
      "/home/user/tensorflow/lib/python2.7/site-packages/ipykernel_launcher.py:38: UserWarning: Update your `Conv2D` call to the Keras 2 API: `Conv2D(128, (3, 3), activation=\"elu\")`\n",
      "/home/user/tensorflow/lib/python2.7/site-packages/ipykernel_launcher.py:44: UserWarning: Update your `Conv2D` call to the Keras 2 API: `Conv2D(128, (3, 3), activation=\"elu\")`\n"
     ]
    },
    {
     "name": "stdout",
     "output_type": "stream",
     "text": [
      "Train on 602 samples, validate on 200 samples\n",
      "Epoch 1/25\n",
      "602/602 [==============================] - 1s - loss: 0.8987 - acc: 0.5914 - val_loss: 0.5443 - val_acc: 0.7100\n",
      "Epoch 2/25\n",
      "602/602 [==============================] - 0s - loss: 0.7739 - acc: 0.6096 - val_loss: 0.5339 - val_acc: 0.7250\n",
      "Epoch 3/25\n",
      "602/602 [==============================] - 0s - loss: 0.7546 - acc: 0.6346 - val_loss: 0.5503 - val_acc: 0.7650\n",
      "Epoch 4/25\n",
      "602/602 [==============================] - 0s - loss: 0.6786 - acc: 0.6312 - val_loss: 0.5203 - val_acc: 0.6950\n",
      "Epoch 5/25\n",
      "602/602 [==============================] - 0s - loss: 0.6520 - acc: 0.6744 - val_loss: 0.5520 - val_acc: 0.7200\n",
      "Epoch 6/25\n",
      "602/602 [==============================] - 0s - loss: 0.5395 - acc: 0.7259 - val_loss: 0.4793 - val_acc: 0.7800\n",
      "Epoch 7/25\n",
      "602/602 [==============================] - 0s - loss: 0.4981 - acc: 0.7475 - val_loss: 0.6590 - val_acc: 0.6950\n",
      "Epoch 8/25\n",
      "602/602 [==============================] - 0s - loss: 0.4664 - acc: 0.7824 - val_loss: 0.3192 - val_acc: 0.8900\n",
      "Epoch 9/25\n",
      "602/602 [==============================] - 0s - loss: 0.4585 - acc: 0.7674 - val_loss: 0.3245 - val_acc: 0.8550\n",
      "Epoch 10/25\n",
      "602/602 [==============================] - 0s - loss: 0.4509 - acc: 0.7940 - val_loss: 0.3182 - val_acc: 0.8400\n",
      "Epoch 11/25\n",
      "602/602 [==============================] - 0s - loss: 0.4174 - acc: 0.8056 - val_loss: 0.4261 - val_acc: 0.8200\n",
      "Epoch 12/25\n",
      "602/602 [==============================] - 0s - loss: 0.4147 - acc: 0.8007 - val_loss: 0.2934 - val_acc: 0.8750\n",
      "Epoch 13/25\n",
      "602/602 [==============================] - 0s - loss: 0.3872 - acc: 0.8189 - val_loss: 0.5276 - val_acc: 0.7950\n",
      "Epoch 14/25\n",
      "602/602 [==============================] - 0s - loss: 0.3571 - acc: 0.8289 - val_loss: 0.3369 - val_acc: 0.8700\n",
      "Epoch 15/25\n",
      "602/602 [==============================] - 0s - loss: 0.4167 - acc: 0.7874 - val_loss: 0.3294 - val_acc: 0.8400\n",
      "Epoch 16/25\n",
      "602/602 [==============================] - 0s - loss: 0.3343 - acc: 0.8439 - val_loss: 0.4181 - val_acc: 0.8200\n",
      "Epoch 17/25\n",
      "602/602 [==============================] - 0s - loss: 0.3456 - acc: 0.8339 - val_loss: 0.2572 - val_acc: 0.8950\n",
      "Epoch 18/25\n",
      "602/602 [==============================] - 0s - loss: 0.3331 - acc: 0.8372 - val_loss: 0.2455 - val_acc: 0.9150\n",
      "Epoch 19/25\n",
      "602/602 [==============================] - 0s - loss: 0.2991 - acc: 0.8738 - val_loss: 0.3357 - val_acc: 0.8700\n",
      "Epoch 20/25\n",
      "602/602 [==============================] - 0s - loss: 0.3062 - acc: 0.8588 - val_loss: 0.3004 - val_acc: 0.8700\n",
      "Epoch 21/25\n",
      "602/602 [==============================] - 0s - loss: 0.3157 - acc: 0.8522 - val_loss: 0.2727 - val_acc: 0.8900\n",
      "Epoch 22/25\n",
      "602/602 [==============================] - 0s - loss: 0.2673 - acc: 0.8654 - val_loss: 0.2636 - val_acc: 0.9000\n",
      "Epoch 23/25\n",
      "602/602 [==============================] - 0s - loss: 0.3656 - acc: 0.8322 - val_loss: 0.3714 - val_acc: 0.8400\n",
      "Epoch 24/25\n",
      "602/602 [==============================] - 0s - loss: 0.2908 - acc: 0.8754 - val_loss: 0.5674 - val_acc: 0.8300\n"
     ]
    },
    {
     "data": {
      "text/plain": [
       "<keras.callbacks.History at 0x7f2e7b103890>"
      ]
     },
     "execution_count": 9,
     "metadata": {},
     "output_type": "execute_result"
    }
   ],
   "source": [
    "file_path = \"/mnt/extDisk/courses/data/statoil/data/train/.model_weights.hdf5\"\n",
    "callbacks = get_callbacks(filepath=file_path, patience=5)\n",
    "\n",
    "model = get_model()\n",
    "model.fit([X_train, X_angle_train], y_train, epochs=25\n",
    "          , validation_data=([X_valid, X_angle_valid], y_valid)\n",
    "         , batch_size=32\n",
    "         , callbacks=callbacks)\n",
    "\n"
   ]
  },
  {
   "cell_type": "code",
   "execution_count": 10,
   "metadata": {},
   "outputs": [
    {
     "name": "stdout",
     "output_type": "stream",
     "text": [
      "Train evaluate:\n",
      "600/602 [============================>.] - ETA: 0s[0.22470742152180784, 0.90697673388889855]\n",
      "####################\n",
      "watch list evaluate:\n",
      "200/200 [==============================] - 0s\n",
      "[0.24552175402641296, 0.91499996185302734]\n"
     ]
    }
   ],
   "source": [
    "model.load_weights(filepath=file_path)\n",
    "\n",
    "print(\"Train evaluate:\")\n",
    "print(model.evaluate([X_train, X_angle_train], y_train, verbose=1, batch_size=200))\n",
    "print(\"####################\")\n",
    "print(\"watch list evaluate:\")\n",
    "print(model.evaluate([X_valid, X_angle_valid], y_valid, verbose=1, batch_size=200))"
   ]
  },
  {
   "cell_type": "code",
   "execution_count": 11,
   "metadata": {},
   "outputs": [
    {
     "name": "stdout",
     "output_type": "stream",
     "text": [
      "8424/8424 [==============================] - 1s     \n"
     ]
    }
   ],
   "source": [
    "prediction = model.predict([X_test, X_angle_test], verbose=1, batch_size=200)"
   ]
  },
  {
   "cell_type": "code",
   "execution_count": 7,
   "metadata": {
    "collapsed": true
   },
   "outputs": [],
   "source": [
    "prediction = np.clip(prediction,0.05,0.95)"
   ]
  },
  {
   "cell_type": "code",
   "execution_count": 12,
   "metadata": {},
   "outputs": [
    {
     "data": {
      "text/html": [
       "<div>\n",
       "<table border=\"1\" class=\"dataframe\">\n",
       "  <thead>\n",
       "    <tr style=\"text-align: right;\">\n",
       "      <th></th>\n",
       "      <th>id</th>\n",
       "      <th>is_iceberg</th>\n",
       "    </tr>\n",
       "  </thead>\n",
       "  <tbody>\n",
       "    <tr>\n",
       "      <th>0</th>\n",
       "      <td>5941774d</td>\n",
       "      <td>0.039065</td>\n",
       "    </tr>\n",
       "    <tr>\n",
       "      <th>1</th>\n",
       "      <td>4023181e</td>\n",
       "      <td>0.043000</td>\n",
       "    </tr>\n",
       "    <tr>\n",
       "      <th>2</th>\n",
       "      <td>b20200e4</td>\n",
       "      <td>0.000000</td>\n",
       "    </tr>\n",
       "    <tr>\n",
       "      <th>3</th>\n",
       "      <td>e7f018bb</td>\n",
       "      <td>0.994852</td>\n",
       "    </tr>\n",
       "    <tr>\n",
       "      <th>4</th>\n",
       "      <td>4371c8c3</td>\n",
       "      <td>0.032645</td>\n",
       "    </tr>\n",
       "    <tr>\n",
       "      <th>5</th>\n",
       "      <td>a8d9b1fd</td>\n",
       "      <td>0.004165</td>\n",
       "    </tr>\n",
       "    <tr>\n",
       "      <th>6</th>\n",
       "      <td>29e7727e</td>\n",
       "      <td>0.370638</td>\n",
       "    </tr>\n",
       "    <tr>\n",
       "      <th>7</th>\n",
       "      <td>92a51ffb</td>\n",
       "      <td>0.960109</td>\n",
       "    </tr>\n",
       "    <tr>\n",
       "      <th>8</th>\n",
       "      <td>c769ac97</td>\n",
       "      <td>0.001730</td>\n",
       "    </tr>\n",
       "    <tr>\n",
       "      <th>9</th>\n",
       "      <td>aee0547d</td>\n",
       "      <td>0.000210</td>\n",
       "    </tr>\n",
       "  </tbody>\n",
       "</table>\n",
       "</div>"
      ],
      "text/plain": [
       "         id  is_iceberg\n",
       "0  5941774d    0.039065\n",
       "1  4023181e    0.043000\n",
       "2  b20200e4    0.000000\n",
       "3  e7f018bb    0.994852\n",
       "4  4371c8c3    0.032645\n",
       "5  a8d9b1fd    0.004165\n",
       "6  29e7727e    0.370638\n",
       "7  92a51ffb    0.960109\n",
       "8  c769ac97    0.001730\n",
       "9  aee0547d    0.000210"
      ]
     },
     "execution_count": 12,
     "metadata": {},
     "output_type": "execute_result"
    }
   ],
   "source": [
    "submission = pd.DataFrame({'id': test[\"id\"], 'is_iceberg': prediction.reshape((prediction.shape[0]))})\n",
    "submission.head(10)"
   ]
  },
  {
   "cell_type": "code",
   "execution_count": 13,
   "metadata": {},
   "outputs": [],
   "source": [
    "submission.to_csv(\"/mnt/extDisk/courses/data/statoil/data/train/keras_baseline_fixeddata.csv\", index=False)"
   ]
  },
  {
   "cell_type": "code",
   "execution_count": null,
   "metadata": {
    "collapsed": true
   },
   "outputs": [],
   "source": []
  }
 ],
 "metadata": {
  "kernelspec": {
   "display_name": "Python 2",
   "language": "python",
   "name": "python2"
  },
  "language_info": {
   "codemirror_mode": {
    "name": "ipython",
    "version": 2
   },
   "file_extension": ".py",
   "mimetype": "text/x-python",
   "name": "python",
   "nbconvert_exporter": "python",
   "pygments_lexer": "ipython2",
   "version": "2.7.12"
  }
 },
 "nbformat": 4,
 "nbformat_minor": 2
}
