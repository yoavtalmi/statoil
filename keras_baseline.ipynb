{
 "cells": [
  {
   "cell_type": "code",
   "execution_count": 1,
   "metadata": {
    "collapsed": true
   },
   "outputs": [],
   "source": [
    "import numpy as np # linear algebra\n",
    "np.random.seed(666)\n",
    "import pandas as pd # data processing, CSV file I/O (e.g. pd.read_csv)\n",
    "from sklearn.model_selection import train_test_split\n",
    "from subprocess import check_output"
   ]
  },
  {
   "cell_type": "code",
   "execution_count": 2,
   "metadata": {},
   "outputs": [
    {
     "name": "stdout",
     "output_type": "stream",
     "text": [
      "done!\n"
     ]
    }
   ],
   "source": [
    "#Load data\n",
    "train = pd.read_json(\"/mnt/extDisk/courses/data/statoil/data/train_half/train.json\")\n",
    "valid = pd.read_json(\"/mnt/extDisk/courses/data/statoil/data/train_half/valid.json\")\n",
    "test = pd.read_json(\"/mnt/extDisk/courses/data/statoil/data/train/test.json\")\n",
    "train.inc_angle = train.inc_angle.replace('na', 0)\n",
    "train.inc_angle = train.inc_angle.astype(float).fillna(0.0)\n",
    "valid.inc_angle = valid.inc_angle.replace('na', 0)\n",
    "valid.inc_angle = valid.inc_angle.astype(float).fillna(0.0)\n",
    "print(\"done!\")"
   ]
  },
  {
   "cell_type": "code",
   "execution_count": 3,
   "metadata": {
    "collapsed": true
   },
   "outputs": [],
   "source": [
    "\n",
    "\n",
    "# Train data\n",
    "x_band1 = np.array([np.array(band).astype(np.float32).reshape(75, 75) for band in train[\"band_1\"]])\n",
    "x_band2 = np.array([np.array(band).astype(np.float32).reshape(75, 75) for band in train[\"band_2\"]])\n",
    "X_train = np.concatenate([x_band1[:, :, :, np.newaxis]\n",
    "                          , x_band2[:, :, :, np.newaxis]\n",
    "                         , ((x_band1+x_band1)/2)[:, :, :, np.newaxis]], axis=-1)\n",
    "X_angle_train = np.array(train.inc_angle)\n",
    "y_train = np.array(train[\"is_iceberg\"])\n",
    "\n",
    "# Valid data\n",
    "x_band1 = np.array([np.array(band).astype(np.float32).reshape(75, 75) for band in valid[\"band_1\"]])\n",
    "x_band2 = np.array([np.array(band).astype(np.float32).reshape(75, 75) for band in valid[\"band_2\"]])\n",
    "X_valid = np.concatenate([x_band1[:, :, :, np.newaxis]\n",
    "                          , x_band2[:, :, :, np.newaxis]\n",
    "                         , ((x_band1+x_band1)/2)[:, :, :, np.newaxis]], axis=-1)\n",
    "X_angle_valid = np.array(valid.inc_angle)\n",
    "y_valid = np.array(valid[\"is_iceberg\"])\n",
    "\n",
    "# Test data\n",
    "x_band1 = np.array([np.array(band).astype(np.float32).reshape(75, 75) for band in test[\"band_1\"]])\n",
    "x_band2 = np.array([np.array(band).astype(np.float32).reshape(75, 75) for band in test[\"band_2\"]])\n",
    "X_test = np.concatenate([x_band1[:, :, :, np.newaxis]\n",
    "                          , x_band2[:, :, :, np.newaxis]\n",
    "                         , ((x_band1+x_band1)/2)[:, :, :, np.newaxis]], axis=-1)\n",
    "X_angle_test = np.array(test.inc_angle)\n",
    "\n",
    "\n",
    "#X_train, X_valid, X_angle_train, X_angle_valid, y_train, y_valid = train_test_split(X_train\n",
    "#                    , X_angle_train, y_train, random_state=123, train_size=0.75)\n",
    "\n"
   ]
  },
  {
   "cell_type": "code",
   "execution_count": 45,
   "metadata": {},
   "outputs": [
    {
     "name": "stderr",
     "output_type": "stream",
     "text": [
      "/home/user/tensorflow/lib/python2.7/site-packages/ipykernel_launcher.py:25: UserWarning: Update your `Conv2D` call to the Keras 2 API: `Conv2D(16, (2, 2), activation=\"elu\")`\n",
      "/home/user/tensorflow/lib/python2.7/site-packages/ipykernel_launcher.py:26: UserWarning: Update your `Conv2D` call to the Keras 2 API: `Conv2D(16, (2, 2), activation=\"elu\")`\n",
      "/home/user/tensorflow/lib/python2.7/site-packages/ipykernel_launcher.py:29: UserWarning: Update your `Conv2D` call to the Keras 2 API: `Conv2D(32, (2, 2), activation=\"elu\")`\n",
      "/home/user/tensorflow/lib/python2.7/site-packages/ipykernel_launcher.py:30: UserWarning: Update your `Conv2D` call to the Keras 2 API: `Conv2D(32, (2, 2), activation=\"elu\")`\n",
      "/home/user/tensorflow/lib/python2.7/site-packages/ipykernel_launcher.py:33: UserWarning: Update your `Conv2D` call to the Keras 2 API: `Conv2D(64, (2, 2), activation=\"elu\")`\n",
      "/home/user/tensorflow/lib/python2.7/site-packages/ipykernel_launcher.py:34: UserWarning: Update your `Conv2D` call to the Keras 2 API: `Conv2D(64, (2, 2), activation=\"elu\")`\n",
      "/home/user/tensorflow/lib/python2.7/site-packages/ipykernel_launcher.py:37: UserWarning: Update your `Conv2D` call to the Keras 2 API: `Conv2D(128, (2, 2), activation=\"elu\")`\n",
      "/home/user/tensorflow/lib/python2.7/site-packages/ipykernel_launcher.py:43: UserWarning: Update your `Conv2D` call to the Keras 2 API: `Conv2D(128, (2, 2), activation=\"elu\")`\n"
     ]
    },
    {
     "name": "stdout",
     "output_type": "stream",
     "text": [
      "____________________________________________________________________________________________________\n",
      "Layer (type)                     Output Shape          Param #     Connected to                     \n",
      "====================================================================================================\n",
      "X_1 (InputLayer)                 (None, 75, 75, 3)     0                                            \n",
      "____________________________________________________________________________________________________\n",
      "conv2d_191 (Conv2D)              (None, 74, 74, 16)    208         X_1[0][0]                        \n",
      "____________________________________________________________________________________________________\n",
      "conv2d_192 (Conv2D)              (None, 73, 73, 16)    1040        conv2d_191[0][0]                 \n",
      "____________________________________________________________________________________________________\n",
      "max_pooling2d_124 (MaxPooling2D) (None, 36, 36, 16)    0           conv2d_192[0][0]                 \n",
      "____________________________________________________________________________________________________\n",
      "dropout_174 (Dropout)            (None, 36, 36, 16)    0           max_pooling2d_124[0][0]          \n",
      "____________________________________________________________________________________________________\n",
      "conv2d_193 (Conv2D)              (None, 35, 35, 32)    2080        dropout_174[0][0]                \n",
      "____________________________________________________________________________________________________\n",
      "conv2d_194 (Conv2D)              (None, 34, 34, 32)    4128        conv2d_193[0][0]                 \n",
      "____________________________________________________________________________________________________\n",
      "max_pooling2d_125 (MaxPooling2D) (None, 17, 17, 32)    0           conv2d_194[0][0]                 \n",
      "____________________________________________________________________________________________________\n",
      "dropout_175 (Dropout)            (None, 17, 17, 32)    0           max_pooling2d_125[0][0]          \n",
      "____________________________________________________________________________________________________\n",
      "conv2d_195 (Conv2D)              (None, 16, 16, 64)    8256        dropout_175[0][0]                \n",
      "____________________________________________________________________________________________________\n",
      "conv2d_196 (Conv2D)              (None, 15, 15, 64)    16448       conv2d_195[0][0]                 \n",
      "____________________________________________________________________________________________________\n",
      "max_pooling2d_126 (MaxPooling2D) (None, 7, 7, 64)      0           conv2d_196[0][0]                 \n",
      "____________________________________________________________________________________________________\n",
      "dropout_176 (Dropout)            (None, 7, 7, 64)      0           max_pooling2d_126[0][0]          \n",
      "____________________________________________________________________________________________________\n",
      "batch_normalization_105 (BatchNo (None, 75, 75, 3)     12          X_1[0][0]                        \n",
      "____________________________________________________________________________________________________\n",
      "conv2d_197 (Conv2D)              (None, 6, 6, 128)     32896       dropout_176[0][0]                \n",
      "____________________________________________________________________________________________________\n",
      "conv2d_198 (Conv2D)              (None, 74, 74, 128)   1664        batch_normalization_105[0][0]    \n",
      "____________________________________________________________________________________________________\n",
      "max_pooling2d_127 (MaxPooling2D) (None, 3, 3, 128)     0           conv2d_197[0][0]                 \n",
      "____________________________________________________________________________________________________\n",
      "max_pooling2d_128 (MaxPooling2D) (None, 37, 37, 128)   0           conv2d_198[0][0]                 \n",
      "____________________________________________________________________________________________________\n",
      "dropout_177 (Dropout)            (None, 3, 3, 128)     0           max_pooling2d_127[0][0]          \n",
      "____________________________________________________________________________________________________\n",
      "dropout_178 (Dropout)            (None, 37, 37, 128)   0           max_pooling2d_128[0][0]          \n",
      "____________________________________________________________________________________________________\n",
      "angle (InputLayer)               (None, 1)             0                                            \n",
      "____________________________________________________________________________________________________\n",
      "global_max_pooling2d_51 (GlobalM (None, 128)           0           dropout_177[0][0]                \n",
      "____________________________________________________________________________________________________\n",
      "global_max_pooling2d_52 (GlobalM (None, 128)           0           dropout_178[0][0]                \n",
      "____________________________________________________________________________________________________\n",
      "batch_normalization_106 (BatchNo (None, 1)             4           angle[0][0]                      \n",
      "____________________________________________________________________________________________________\n",
      "concatenate_26 (Concatenate)     (None, 257)           0           global_max_pooling2d_51[0][0]    \n",
      "                                                                   global_max_pooling2d_52[0][0]    \n",
      "                                                                   batch_normalization_106[0][0]    \n",
      "____________________________________________________________________________________________________\n",
      "dense_76 (Dense)                 (None, 256)           66048       concatenate_26[0][0]             \n",
      "____________________________________________________________________________________________________\n",
      "batch_normalization_107 (BatchNo (None, 256)           1024        dense_76[0][0]                   \n",
      "____________________________________________________________________________________________________\n",
      "dropout_179 (Dropout)            (None, 256)           0           batch_normalization_107[0][0]    \n",
      "____________________________________________________________________________________________________\n",
      "dense_77 (Dense)                 (None, 64)            16448       dropout_179[0][0]                \n",
      "____________________________________________________________________________________________________\n",
      "batch_normalization_108 (BatchNo (None, 64)            256         dense_77[0][0]                   \n",
      "____________________________________________________________________________________________________\n",
      "dropout_180 (Dropout)            (None, 64)            0           batch_normalization_108[0][0]    \n",
      "____________________________________________________________________________________________________\n",
      "dense_78 (Dense)                 (None, 1)             65          dropout_180[0][0]                \n",
      "====================================================================================================\n",
      "Total params: 150,577\n",
      "Trainable params: 149,929\n",
      "Non-trainable params: 648\n",
      "____________________________________________________________________________________________________\n"
     ]
    }
   ],
   "source": [
    "from matplotlib import pyplot\n",
    "from keras.preprocessing.image import ImageDataGenerator\n",
    "from keras.models import Sequential\n",
    "from keras.layers import Conv2D, MaxPooling2D, Dense, Dropout, Input, Flatten\n",
    "from keras.layers import GlobalMaxPooling2D\n",
    "from keras.layers.normalization import BatchNormalization\n",
    "from keras.layers.merge import Concatenate\n",
    "from keras.models import Model\n",
    "from keras.optimizers import Adam\n",
    "from keras.callbacks import ModelCheckpoint, Callback, EarlyStopping\n",
    "\n",
    "def get_callbacks(filepath, patience=2):\n",
    "    es = EarlyStopping('val_loss', patience=patience, mode=\"min\")\n",
    "    msave = ModelCheckpoint(filepath, save_best_only=True)\n",
    "    return [es, msave]\n",
    "    \n",
    "def get_model():\n",
    "    bn_model = 0\n",
    "    p_activation = \"elu\"\n",
    "    p = 0.2\n",
    "    p_dense = 0.6\n",
    "    input_1 = Input(shape=(75, 75, 3), name=\"X_1\")\n",
    "    input_2 = Input(shape=[1], name=\"angle\")\n",
    "    \n",
    "    img_1 = Conv2D(16,3,3, activation=p_activation) (input_1)\n",
    "    img_1 = Conv2D(16,3,3, activation=p_activation) (img_1)\n",
    "    img_1 = MaxPooling2D((2,2)) (img_1)\n",
    "    img_1 = Dropout(p)(img_1)\n",
    "    img_1 = Conv2D(32, 3,3, activation=p_activation) (img_1)\n",
    "    img_1 = Conv2D(32, 3,3, activation=p_activation) (img_1)\n",
    "    img_1 = MaxPooling2D((2,2)) (img_1)\n",
    "    img_1 = Dropout(p)(img_1)\n",
    "    img_1 = Conv2D(64,3,3, activation=p_activation) (img_1)\n",
    "    img_1 = Conv2D(64,3,3, activation=p_activation) (img_1)\n",
    "    img_1 = MaxPooling2D((2,2)) (img_1)\n",
    "    img_1 = Dropout(p)(img_1)\n",
    "    img_1 = Conv2D(128, 3,3, activation=p_activation) (img_1)\n",
    "    img_1 = MaxPooling2D((2,2)) (img_1)\n",
    "    img_1 = Dropout(p)(img_1)\n",
    "    img_1 = GlobalMaxPooling2D() (img_1)\n",
    "    \n",
    "    \n",
    "    img_2 = Conv2D(128, 3,3, activation=p_activation) ((BatchNormalization(momentum=bn_model))(input_1))\n",
    "    img_2 = MaxPooling2D((2,2)) (img_2)\n",
    "    img_2 = Dropout(p)(img_2)\n",
    "    img_2 = GlobalMaxPooling2D() (img_2)\n",
    "    \n",
    "    img_3 = BatchNormalization(momentum=bn_model)(input_2)\n",
    "    \n",
    "    img_concat =  (Concatenate()([img_1, img_2, img_3]))\n",
    "    \n",
    "    dense_ayer = Dropout(p_dense) (BatchNormalization(momentum=bn_model) ( Dense(256, activation=p_activation)(img_concat) ))\n",
    "    dense_ayer = Dropout(p_dense) (BatchNormalization(momentum=bn_model) ( Dense(64, activation=p_activation)(dense_ayer) ))\n",
    "    output = Dense(1, activation=\"sigmoid\")(dense_ayer)\n",
    "    \n",
    "    model = Model([input_1,input_2],  output)\n",
    "    optimizer = Adam(lr=0.001, beta_1=0.9, beta_2=0.999, epsilon=1e-08, decay=0.0)\n",
    "    model.compile(loss=\"binary_crossentropy\", optimizer=optimizer, metrics=[\"accuracy\"])\n",
    "    return model\n",
    "model = get_model()\n",
    "model.summary()"
   ]
  },
  {
   "cell_type": "code",
   "execution_count": 46,
   "metadata": {},
   "outputs": [
    {
     "name": "stderr",
     "output_type": "stream",
     "text": [
      "/home/user/tensorflow/lib/python2.7/site-packages/ipykernel_launcher.py:25: UserWarning: Update your `Conv2D` call to the Keras 2 API: `Conv2D(16, (2, 2), activation=\"elu\")`\n",
      "/home/user/tensorflow/lib/python2.7/site-packages/ipykernel_launcher.py:26: UserWarning: Update your `Conv2D` call to the Keras 2 API: `Conv2D(16, (2, 2), activation=\"elu\")`\n",
      "/home/user/tensorflow/lib/python2.7/site-packages/ipykernel_launcher.py:29: UserWarning: Update your `Conv2D` call to the Keras 2 API: `Conv2D(32, (2, 2), activation=\"elu\")`\n",
      "/home/user/tensorflow/lib/python2.7/site-packages/ipykernel_launcher.py:30: UserWarning: Update your `Conv2D` call to the Keras 2 API: `Conv2D(32, (2, 2), activation=\"elu\")`\n",
      "/home/user/tensorflow/lib/python2.7/site-packages/ipykernel_launcher.py:33: UserWarning: Update your `Conv2D` call to the Keras 2 API: `Conv2D(64, (2, 2), activation=\"elu\")`\n",
      "/home/user/tensorflow/lib/python2.7/site-packages/ipykernel_launcher.py:34: UserWarning: Update your `Conv2D` call to the Keras 2 API: `Conv2D(64, (2, 2), activation=\"elu\")`\n",
      "/home/user/tensorflow/lib/python2.7/site-packages/ipykernel_launcher.py:37: UserWarning: Update your `Conv2D` call to the Keras 2 API: `Conv2D(128, (2, 2), activation=\"elu\")`\n",
      "/home/user/tensorflow/lib/python2.7/site-packages/ipykernel_launcher.py:43: UserWarning: Update your `Conv2D` call to the Keras 2 API: `Conv2D(128, (2, 2), activation=\"elu\")`\n"
     ]
    },
    {
     "name": "stdout",
     "output_type": "stream",
     "text": [
      "Train on 602 samples, validate on 200 samples\n",
      "Epoch 1/25\n",
      "602/602 [==============================] - 5s - loss: 0.9727 - acc: 0.6013 - val_loss: 0.8972 - val_acc: 0.6550\n",
      "Epoch 2/25\n",
      "602/602 [==============================] - 0s - loss: 0.8556 - acc: 0.5980 - val_loss: 1.1202 - val_acc: 0.6400\n",
      "Epoch 3/25\n",
      "602/602 [==============================] - 0s - loss: 0.7551 - acc: 0.6545 - val_loss: 1.8569 - val_acc: 0.6900\n",
      "Epoch 4/25\n",
      "602/602 [==============================] - 0s - loss: 0.8086 - acc: 0.6296 - val_loss: 2.1616 - val_acc: 0.5900\n",
      "Epoch 5/25\n",
      "602/602 [==============================] - 0s - loss: 0.7580 - acc: 0.6528 - val_loss: 1.7221 - val_acc: 0.6000\n",
      "Epoch 6/25\n",
      "602/602 [==============================] - 0s - loss: 0.7193 - acc: 0.6478 - val_loss: 1.9411 - val_acc: 0.6150\n",
      "Epoch 7/25\n",
      "602/602 [==============================] - 0s - loss: 0.6739 - acc: 0.6827 - val_loss: 2.1364 - val_acc: 0.6600\n"
     ]
    },
    {
     "data": {
      "text/plain": [
       "<keras.callbacks.History at 0x7fe49725f750>"
      ]
     },
     "execution_count": 46,
     "metadata": {},
     "output_type": "execute_result"
    }
   ],
   "source": [
    "file_path = \"/mnt/extDisk/courses/data/statoil/data/train/.model_weights.hdf5\"\n",
    "callbacks = get_callbacks(filepath=file_path, patience=5)\n",
    "\n",
    "model = get_model()\n",
    "model.fit([X_train, X_angle_train], y_train, epochs=25\n",
    "          , validation_data=([X_valid, X_angle_valid], y_valid)\n",
    "         , batch_size=32\n",
    "         , callbacks=callbacks)\n",
    "\n"
   ]
  },
  {
   "cell_type": "code",
   "execution_count": 47,
   "metadata": {},
   "outputs": [
    {
     "name": "stdout",
     "output_type": "stream",
     "text": [
      "Train evaluate:\n",
      "600/602 [============================>.] - ETA: 0s[0.90748327495251779, 0.67441859831445639]\n",
      "####################\n",
      "watch list evaluate:\n",
      "200/200 [==============================] - 0s\n",
      "[0.89721262454986572, 0.65499997138977051]\n"
     ]
    }
   ],
   "source": [
    "model.load_weights(filepath=file_path)\n",
    "\n",
    "print(\"Train evaluate:\")\n",
    "print(model.evaluate([X_train, X_angle_train], y_train, verbose=1, batch_size=200))\n",
    "print(\"####################\")\n",
    "print(\"watch list evaluate:\")\n",
    "print(model.evaluate([X_valid, X_angle_valid], y_valid, verbose=1, batch_size=200))"
   ]
  },
  {
   "cell_type": "code",
   "execution_count": 6,
   "metadata": {},
   "outputs": [
    {
     "name": "stdout",
     "output_type": "stream",
     "text": [
      "8424/8424 [==============================] - 1s     \n"
     ]
    }
   ],
   "source": [
    "prediction = model.predict([X_test, X_angle_test], verbose=1, batch_size=200)"
   ]
  },
  {
   "cell_type": "code",
   "execution_count": 7,
   "metadata": {
    "collapsed": true
   },
   "outputs": [],
   "source": [
    "prediction = np.clip(prediction,0.05,0.95)"
   ]
  },
  {
   "cell_type": "code",
   "execution_count": 8,
   "metadata": {},
   "outputs": [
    {
     "data": {
      "text/html": [
       "<div>\n",
       "<table border=\"1\" class=\"dataframe\">\n",
       "  <thead>\n",
       "    <tr style=\"text-align: right;\">\n",
       "      <th></th>\n",
       "      <th>id</th>\n",
       "      <th>is_iceberg</th>\n",
       "    </tr>\n",
       "  </thead>\n",
       "  <tbody>\n",
       "    <tr>\n",
       "      <th>0</th>\n",
       "      <td>5941774d</td>\n",
       "      <td>0.084889</td>\n",
       "    </tr>\n",
       "    <tr>\n",
       "      <th>1</th>\n",
       "      <td>4023181e</td>\n",
       "      <td>0.074619</td>\n",
       "    </tr>\n",
       "    <tr>\n",
       "      <th>2</th>\n",
       "      <td>b20200e4</td>\n",
       "      <td>0.050000</td>\n",
       "    </tr>\n",
       "    <tr>\n",
       "      <th>3</th>\n",
       "      <td>e7f018bb</td>\n",
       "      <td>0.950000</td>\n",
       "    </tr>\n",
       "    <tr>\n",
       "      <th>4</th>\n",
       "      <td>4371c8c3</td>\n",
       "      <td>0.093100</td>\n",
       "    </tr>\n",
       "    <tr>\n",
       "      <th>5</th>\n",
       "      <td>a8d9b1fd</td>\n",
       "      <td>0.288849</td>\n",
       "    </tr>\n",
       "    <tr>\n",
       "      <th>6</th>\n",
       "      <td>29e7727e</td>\n",
       "      <td>0.314339</td>\n",
       "    </tr>\n",
       "    <tr>\n",
       "      <th>7</th>\n",
       "      <td>92a51ffb</td>\n",
       "      <td>0.950000</td>\n",
       "    </tr>\n",
       "    <tr>\n",
       "      <th>8</th>\n",
       "      <td>c769ac97</td>\n",
       "      <td>0.091143</td>\n",
       "    </tr>\n",
       "    <tr>\n",
       "      <th>9</th>\n",
       "      <td>aee0547d</td>\n",
       "      <td>0.050000</td>\n",
       "    </tr>\n",
       "  </tbody>\n",
       "</table>\n",
       "</div>"
      ],
      "text/plain": [
       "         id  is_iceberg\n",
       "0  5941774d    0.084889\n",
       "1  4023181e    0.074619\n",
       "2  b20200e4    0.050000\n",
       "3  e7f018bb    0.950000\n",
       "4  4371c8c3    0.093100\n",
       "5  a8d9b1fd    0.288849\n",
       "6  29e7727e    0.314339\n",
       "7  92a51ffb    0.950000\n",
       "8  c769ac97    0.091143\n",
       "9  aee0547d    0.050000"
      ]
     },
     "execution_count": 8,
     "metadata": {},
     "output_type": "execute_result"
    }
   ],
   "source": [
    "submission = pd.DataFrame({'id': test[\"id\"], 'is_iceberg': prediction.reshape((prediction.shape[0]))})\n",
    "submission.head(10)"
   ]
  },
  {
   "cell_type": "code",
   "execution_count": 9,
   "metadata": {
    "collapsed": true
   },
   "outputs": [],
   "source": [
    "submission.to_csv(\"/mnt/extDisk/courses/data/statoil/data/train/keras_baseline_clip.csv\", index=False)"
   ]
  },
  {
   "cell_type": "code",
   "execution_count": null,
   "metadata": {
    "collapsed": true
   },
   "outputs": [],
   "source": []
  }
 ],
 "metadata": {
  "kernelspec": {
   "display_name": "Python 2",
   "language": "python",
   "name": "python2"
  },
  "language_info": {
   "codemirror_mode": {
    "name": "ipython",
    "version": 2
   },
   "file_extension": ".py",
   "mimetype": "text/x-python",
   "name": "python",
   "nbconvert_exporter": "python",
   "pygments_lexer": "ipython2",
   "version": "2.7.12"
  }
 },
 "nbformat": 4,
 "nbformat_minor": 2
}
