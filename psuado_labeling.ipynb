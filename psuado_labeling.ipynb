{
 "cells": [
  {
   "cell_type": "code",
   "execution_count": 127,
   "metadata": {
    "collapsed": true
   },
   "outputs": [],
   "source": [
    "import numpy as np # linear algebra\n",
    "np.random.seed(666)\n",
    "import pandas as pd # data processing, CSV file I/O (e.g. pd.read_csv)\n",
    "from sklearn.model_selection import train_test_split\n",
    "from subprocess import check_output\n",
    "import utils\n",
    "from utils import keras_baselilne\n",
    "from utils import resnet"
   ]
  },
  {
   "cell_type": "code",
   "execution_count": 32,
   "metadata": {},
   "outputs": [
    {
     "name": "stdout",
     "output_type": "stream",
     "text": [
      "done!\n"
     ]
    }
   ],
   "source": [
    "#Load data\n",
    "train = pd.read_json(\"/mnt/extDisk/courses/data/statoil/data/train_half/train.json\")\n",
    "valid = pd.read_json(\"/mnt/extDisk/courses/data/statoil/data/train_half/valid.json\")\n",
    "test = pd.read_json(\"/mnt/extDisk/courses/data/statoil/data/train/test.json\")\n",
    "train.inc_angle = train.inc_angle.replace('na', 0)\n",
    "train.inc_angle = train.inc_angle.astype(float).fillna(0.0)\n",
    "valid.inc_angle = valid.inc_angle.replace('na', 0)\n",
    "valid.inc_angle = valid.inc_angle.astype(float).fillna(0.0)\n",
    "print(\"done!\")"
   ]
  },
  {
   "cell_type": "code",
   "execution_count": 30,
   "metadata": {
    "collapsed": true
   },
   "outputs": [],
   "source": [
    "# Train data\n",
    "x_band1 = np.array([np.array(band).astype(np.float32).reshape(75, 75) for band in train[\"band_1\"]])\n",
    "x_band2 = np.array([np.array(band).astype(np.float32).reshape(75, 75) for band in train[\"band_2\"]])\n",
    "X_train = np.concatenate([x_band1[:, :, :, np.newaxis]\n",
    "                          , x_band2[:, :, :, np.newaxis]\n",
    "                         , ((x_band1+x_band1)/2)[:, :, :, np.newaxis]], axis=-1)\n",
    "X_angle_train = np.array(train.inc_angle)\n",
    "y_train = np.array(train[\"is_iceberg\"])\n",
    "\n",
    "# Valid data\n",
    "x_band1 = np.array([np.array(band).astype(np.float32).reshape(75, 75) for band in valid[\"band_1\"]])\n",
    "x_band2 = np.array([np.array(band).astype(np.float32).reshape(75, 75) for band in valid[\"band_2\"]])\n",
    "X_valid = np.concatenate([x_band1[:, :, :, np.newaxis]\n",
    "                          , x_band2[:, :, :, np.newaxis]\n",
    "                         , ((x_band1+x_band1)/2)[:, :, :, np.newaxis]], axis=-1)\n",
    "X_angle_valid = np.array(valid.inc_angle)\n",
    "y_valid = np.array(valid[\"is_iceberg\"])\n",
    "\n",
    "# Test data\n",
    "x_band1 = np.array([np.array(band).astype(np.float32).reshape(75, 75) for band in test[\"band_1\"]])\n",
    "x_band2 = np.array([np.array(band).astype(np.float32).reshape(75, 75) for band in test[\"band_2\"]])\n",
    "X_test = np.concatenate([x_band1[:, :, :, np.newaxis]\n",
    "                          , x_band2[:, :, :, np.newaxis]\n",
    "                         , ((x_band1+x_band1)/2)[:, :, :, np.newaxis]], axis=-1)\n",
    "X_angle_test = np.array(test.inc_angle)"
   ]
  },
  {
   "cell_type": "code",
   "execution_count": 118,
   "metadata": {},
   "outputs": [
    {
     "name": "stderr",
     "output_type": "stream",
     "text": [
      "utils.py:32: UserWarning: Update your `Conv2D` call to the Keras 2 API: `Conv2D(16, (3, 3), activation=\"elu\")`\n",
      "  img_1 = Conv2D(16,3,3, activation=p_activation) (input_1)\n",
      "utils.py:33: UserWarning: Update your `Conv2D` call to the Keras 2 API: `Conv2D(16, (3, 3), activation=\"elu\")`\n",
      "  img_1 = Conv2D(16,3,3, activation=p_activation) (img_1)\n",
      "utils.py:36: UserWarning: Update your `Conv2D` call to the Keras 2 API: `Conv2D(32, (3, 3), activation=\"elu\")`\n",
      "  img_1 = Conv2D(32, 3,3, activation=p_activation) (img_1)\n",
      "utils.py:37: UserWarning: Update your `Conv2D` call to the Keras 2 API: `Conv2D(32, (3, 3), activation=\"elu\")`\n",
      "  img_1 = Conv2D(32, 3,3, activation=p_activation) (img_1)\n",
      "utils.py:40: UserWarning: Update your `Conv2D` call to the Keras 2 API: `Conv2D(64, (3, 3), activation=\"elu\")`\n",
      "  img_1 = Conv2D(64,3,3, activation=p_activation) (img_1)\n",
      "utils.py:41: UserWarning: Update your `Conv2D` call to the Keras 2 API: `Conv2D(64, (3, 3), activation=\"elu\")`\n",
      "  img_1 = Conv2D(64,3,3, activation=p_activation) (img_1)\n",
      "utils.py:44: UserWarning: Update your `Conv2D` call to the Keras 2 API: `Conv2D(128, (3, 3), activation=\"elu\")`\n",
      "  img_1 = Conv2D(128, 3,3, activation=p_activation) (img_1)\n",
      "utils.py:50: UserWarning: Update your `Conv2D` call to the Keras 2 API: `Conv2D(128, (3, 3), activation=\"elu\")`\n",
      "  img_2 = Conv2D(128, 3,3, activation=p_activation) ((BatchNormalization(momentum=bn_model))(input_1))\n"
     ]
    },
    {
     "name": "stdout",
     "output_type": "stream",
     "text": [
      "____________________________________________________________________________________________________\n",
      "Layer (type)                     Output Shape          Param #     Connected to                     \n",
      "====================================================================================================\n",
      "X_1 (InputLayer)                 (None, 75, 75, 3)     0                                            \n",
      "____________________________________________________________________________________________________\n",
      "conv2d_169 (Conv2D)              (None, 73, 73, 16)    448         X_1[0][0]                        \n",
      "____________________________________________________________________________________________________\n",
      "conv2d_170 (Conv2D)              (None, 71, 71, 16)    2320        conv2d_169[0][0]                 \n",
      "____________________________________________________________________________________________________\n",
      "max_pooling2d_106 (MaxPooling2D) (None, 35, 35, 16)    0           conv2d_170[0][0]                 \n",
      "____________________________________________________________________________________________________\n",
      "dropout_148 (Dropout)            (None, 35, 35, 16)    0           max_pooling2d_106[0][0]          \n",
      "____________________________________________________________________________________________________\n",
      "conv2d_171 (Conv2D)              (None, 33, 33, 32)    4640        dropout_148[0][0]                \n",
      "____________________________________________________________________________________________________\n",
      "conv2d_172 (Conv2D)              (None, 31, 31, 32)    9248        conv2d_171[0][0]                 \n",
      "____________________________________________________________________________________________________\n",
      "max_pooling2d_107 (MaxPooling2D) (None, 15, 15, 32)    0           conv2d_172[0][0]                 \n",
      "____________________________________________________________________________________________________\n",
      "dropout_149 (Dropout)            (None, 15, 15, 32)    0           max_pooling2d_107[0][0]          \n",
      "____________________________________________________________________________________________________\n",
      "conv2d_173 (Conv2D)              (None, 13, 13, 64)    18496       dropout_149[0][0]                \n",
      "____________________________________________________________________________________________________\n",
      "conv2d_174 (Conv2D)              (None, 11, 11, 64)    36928       conv2d_173[0][0]                 \n",
      "____________________________________________________________________________________________________\n",
      "max_pooling2d_108 (MaxPooling2D) (None, 5, 5, 64)      0           conv2d_174[0][0]                 \n",
      "____________________________________________________________________________________________________\n",
      "dropout_150 (Dropout)            (None, 5, 5, 64)      0           max_pooling2d_108[0][0]          \n",
      "____________________________________________________________________________________________________\n",
      "batch_normalization_85 (BatchNor (None, 75, 75, 3)     12          X_1[0][0]                        \n",
      "____________________________________________________________________________________________________\n",
      "conv2d_175 (Conv2D)              (None, 3, 3, 128)     73856       dropout_150[0][0]                \n",
      "____________________________________________________________________________________________________\n",
      "conv2d_176 (Conv2D)              (None, 73, 73, 128)   3584        batch_normalization_85[0][0]     \n",
      "____________________________________________________________________________________________________\n",
      "max_pooling2d_109 (MaxPooling2D) (None, 1, 1, 128)     0           conv2d_175[0][0]                 \n",
      "____________________________________________________________________________________________________\n",
      "max_pooling2d_110 (MaxPooling2D) (None, 36, 36, 128)   0           conv2d_176[0][0]                 \n",
      "____________________________________________________________________________________________________\n",
      "dropout_151 (Dropout)            (None, 1, 1, 128)     0           max_pooling2d_109[0][0]          \n",
      "____________________________________________________________________________________________________\n",
      "dropout_152 (Dropout)            (None, 36, 36, 128)   0           max_pooling2d_110[0][0]          \n",
      "____________________________________________________________________________________________________\n",
      "angle (InputLayer)               (None, 1)             0                                            \n",
      "____________________________________________________________________________________________________\n",
      "global_max_pooling2d_43 (GlobalM (None, 128)           0           dropout_151[0][0]                \n",
      "____________________________________________________________________________________________________\n",
      "global_max_pooling2d_44 (GlobalM (None, 128)           0           dropout_152[0][0]                \n",
      "____________________________________________________________________________________________________\n",
      "batch_normalization_86 (BatchNor (None, 1)             4           angle[0][0]                      \n",
      "____________________________________________________________________________________________________\n",
      "concatenate_22 (Concatenate)     (None, 257)           0           global_max_pooling2d_43[0][0]    \n",
      "                                                                   global_max_pooling2d_44[0][0]    \n",
      "                                                                   batch_normalization_86[0][0]     \n",
      "____________________________________________________________________________________________________\n",
      "dense_64 (Dense)                 (None, 256)           66048       concatenate_22[0][0]             \n",
      "____________________________________________________________________________________________________\n",
      "batch_normalization_87 (BatchNor (None, 256)           1024        dense_64[0][0]                   \n",
      "____________________________________________________________________________________________________\n",
      "dropout_153 (Dropout)            (None, 256)           0           batch_normalization_87[0][0]     \n",
      "____________________________________________________________________________________________________\n",
      "dense_65 (Dense)                 (None, 64)            16448       dropout_153[0][0]                \n",
      "____________________________________________________________________________________________________\n",
      "batch_normalization_88 (BatchNor (None, 64)            256         dense_65[0][0]                   \n",
      "____________________________________________________________________________________________________\n",
      "dropout_154 (Dropout)            (None, 64)            0           batch_normalization_88[0][0]     \n",
      "____________________________________________________________________________________________________\n",
      "dense_66 (Dense)                 (None, 1)             65          dropout_154[0][0]                \n",
      "====================================================================================================\n",
      "Total params: 233,377\n",
      "Trainable params: 232,729\n",
      "Non-trainable params: 648\n",
      "____________________________________________________________________________________________________\n"
     ]
    }
   ],
   "source": [
    "from matplotlib import pyplot\n",
    "from keras.preprocessing.image import ImageDataGenerator\n",
    "from keras.models import Sequential\n",
    "from keras.layers import Conv2D, MaxPooling2D, Dense, Dropout, Input, Flatten\n",
    "from keras.layers import GlobalMaxPooling2D\n",
    "from keras.layers.normalization import BatchNormalization\n",
    "from keras.layers.merge import Concatenate\n",
    "from keras.models import Model\n",
    "from keras.optimizers import Adam\n",
    "from keras.callbacks import ModelCheckpoint, Callback, EarlyStopping\n",
    "\n",
    "def get_callbacks(filepath, patience=2):\n",
    "    es = EarlyStopping('val_loss', patience=patience, mode=\"min\")\n",
    "    msave = ModelCheckpoint(filepath, save_best_only=True)\n",
    "    return [es, msave]\n",
    "    \n",
    "\n",
    "model = keras_baselilne()\n",
    "model.summary()"
   ]
  },
  {
   "cell_type": "code",
   "execution_count": 21,
   "metadata": {},
   "outputs": [
    {
     "name": "stdout",
     "output_type": "stream",
     "text": [
      "Train evaluate:\n",
      "600/602 [============================>.] - ETA: 0s[0.23146934386503656, 0.88372094211388263]\n",
      "####################\n",
      "watch list evaluate:\n",
      "200/200 [==============================] - 0s\n",
      "[0.25437977910041809, 0.89500004053115845]\n"
     ]
    }
   ],
   "source": [
    "model.load_weights(filepath=\"/mnt/extDisk/courses/data/statoil/data/keras_baseline/.model_weights.hdf5\")\n",
    "\n",
    "print(\"Train evaluate:\")\n",
    "print(model.evaluate([X_train, X_angle_train], y_train, verbose=1, batch_size=200))\n",
    "print(\"####################\")\n",
    "print(\"watch list evaluate:\")\n",
    "print(model.evaluate([X_valid, X_angle_valid], y_valid, verbose=1, batch_size=200))"
   ]
  },
  {
   "cell_type": "code",
   "execution_count": 6,
   "metadata": {},
   "outputs": [
    {
     "name": "stdout",
     "output_type": "stream",
     "text": [
      "8424/8424 [==============================] - 1s     \n"
     ]
    }
   ],
   "source": [
    "prediction = model.predict([X_test, X_angle_test], verbose=1, batch_size=200)"
   ]
  },
  {
   "cell_type": "code",
   "execution_count": 107,
   "metadata": {},
   "outputs": [],
   "source": [
    "prediction = pd.read_csv('/mnt/extDisk/courses/data/statoil/data/ensamble/ensamble_0211.csv')"
   ]
  },
  {
   "cell_type": "code",
   "execution_count": 140,
   "metadata": {},
   "outputs": [
    {
     "name": "stdout",
     "output_type": "stream",
     "text": [
      "         id  is_iceberg\n",
      "0  000c65d7    0.840560\n",
      "1  001680af    0.209411\n",
      "2  00193999    0.883449\n",
      "3  00247e48    0.990012\n",
      "4  00503faa    0.000414\n",
      "8424\n",
      "8424\n",
      "1663\n"
     ]
    }
   ],
   "source": [
    "print(prediction.head())\n",
    "print(len(test))\n",
    "test_label = pd.merge(test,prediction,on=['id'])\n",
    "print(len(test_label))\n",
    "print(len(test_label[(test_label.is_iceberg < 0.01) | (test_label.is_iceberg >0.99)]))\n",
    "test_label = test_label[(test_label.is_iceberg < 0.01) | (test_label.is_iceberg >0.99)]\n",
    "\n",
    "x_band1 = np.array([np.array(band).astype(np.float32).reshape(75, 75) for band in test_label[\"band_1\"]])\n",
    "x_band2 = np.array([np.array(band).astype(np.float32).reshape(75, 75) for band in test_label[\"band_2\"]])\n",
    "X_test_label = np.concatenate([x_band1[:, :, :, np.newaxis]\n",
    "                          , x_band2[:, :, :, np.newaxis]\n",
    "                         , ((x_band1+x_band1)/2)[:, :, :, np.newaxis]], axis=-1)\n",
    "X_angle_test_label = np.array(test_label.inc_angle)\n",
    "test_y = np.array(test_label[\"is_iceberg\"])"
   ]
  },
  {
   "cell_type": "code",
   "execution_count": 141,
   "metadata": {
    "collapsed": true
   },
   "outputs": [],
   "source": [
    "X_mix = np.concatenate([X_train,X_test_label])\n",
    "X_angle_mix = np.concatenate([X_angle_train,X_angle_test_label])\n",
    "y_mix = np.concatenate([y_train,test_y])"
   ]
  },
  {
   "cell_type": "code",
   "execution_count": 142,
   "metadata": {
    "collapsed": true
   },
   "outputs": [],
   "source": [
    "#layers = model.layers\n",
    "# Get the index of the first dense layer...\n",
    "#first_dense_idx = [index for index,layer in enumerate(layers) if type(layer) is Dense][0]\n",
    "# ...and set this and all subsequent layers to trainable\n",
    "#for layer in layers[first_dense_idx:]: layer.trainable=True"
   ]
  },
  {
   "cell_type": "code",
   "execution_count": 145,
   "metadata": {},
   "outputs": [
    {
     "name": "stdout",
     "output_type": "stream",
     "text": [
      "Train on 2265 samples, validate on 200 samples\n",
      "Epoch 1/25\n",
      "2265/2265 [==============================] - 16s - loss: 0.6796 - acc: 0.1585 - val_loss: 7.2531 - val_acc: 0.5500\n",
      "Epoch 2/25\n",
      "2265/2265 [==============================] - 3s - loss: 0.3533 - acc: 0.1806 - val_loss: 1.0514 - val_acc: 0.6800\n",
      "Epoch 3/25\n",
      "2265/2265 [==============================] - 3s - loss: 0.2092 - acc: 0.2009 - val_loss: 0.6251 - val_acc: 0.7200\n",
      "Epoch 4/25\n",
      "2265/2265 [==============================] - 3s - loss: 0.1581 - acc: 0.2150 - val_loss: 0.7459 - val_acc: 0.7200\n",
      "Epoch 5/25\n",
      "2265/2265 [==============================] - 3s - loss: 0.1407 - acc: 0.2203 - val_loss: 0.5440 - val_acc: 0.8300\n",
      "Epoch 6/25\n",
      "2265/2265 [==============================] - 3s - loss: 0.1180 - acc: 0.2256 - val_loss: 1.0412 - val_acc: 0.7450\n",
      "Epoch 7/25\n",
      "2265/2265 [==============================] - 3s - loss: 0.1317 - acc: 0.2265 - val_loss: 0.2780 - val_acc: 0.8950\n",
      "Epoch 8/25\n",
      "2265/2265 [==============================] - 3s - loss: 0.0859 - acc: 0.2389 - val_loss: 0.7736 - val_acc: 0.7850\n",
      "Epoch 9/25\n",
      "2265/2265 [==============================] - 3s - loss: 0.0955 - acc: 0.2344 - val_loss: 0.3187 - val_acc: 0.8600\n",
      "Epoch 10/25\n",
      "2265/2265 [==============================] - 3s - loss: 0.0956 - acc: 0.2371 - val_loss: 0.4414 - val_acc: 0.8600\n",
      "Epoch 11/25\n",
      "2265/2265 [==============================] - 3s - loss: 0.0827 - acc: 0.2419 - val_loss: 0.2947 - val_acc: 0.8700\n",
      "Epoch 12/25\n",
      "2265/2265 [==============================] - 3s - loss: 0.0712 - acc: 0.2446 - val_loss: 0.5648 - val_acc: 0.8200\n",
      "Epoch 13/25\n",
      "2265/2265 [==============================] - 3s - loss: 0.0757 - acc: 0.2455 - val_loss: 1.0314 - val_acc: 0.7400\n"
     ]
    },
    {
     "data": {
      "text/plain": [
       "<keras.callbacks.History at 0x7ff661f20f50>"
      ]
     },
     "execution_count": 145,
     "metadata": {},
     "output_type": "execute_result"
    }
   ],
   "source": [
    "file_path = \"/mnt/extDisk/courses/data/statoil/data/pseudo_labeling/.model_weights.hdf5\"\n",
    "callbacks = get_callbacks(filepath=file_path, patience=5)\n",
    "\n",
    "model = utils.resnet()\n",
    "model.fit([X_mix], y_mix, epochs=25\n",
    "          , validation_data=([X_valid], y_valid)\n",
    "         , batch_size=32\n",
    "         , callbacks=callbacks)"
   ]
  },
  {
   "cell_type": "code",
   "execution_count": 146,
   "metadata": {},
   "outputs": [
    {
     "name": "stdout",
     "output_type": "stream",
     "text": [
      "Train evaluate:\n",
      "2200/2265 [============================>.] - ETA: 0s[0.066116784845230064, 0.2481236213419348]\n",
      "####################\n",
      "watch list evaluate:\n",
      "200/200 [==============================] - 0s\n",
      "[0.27802926301956177, 0.89500004053115845]\n"
     ]
    }
   ],
   "source": [
    "model.load_weights(filepath=file_path)\n",
    "\n",
    "print(\"Train evaluate:\")\n",
    "print(model.evaluate(X_mix, y_mix, verbose=1, batch_size=200))\n",
    "print(\"####################\")\n",
    "print(\"watch list evaluate:\")\n",
    "print(model.evaluate(X_valid, y_valid, verbose=1, batch_size=200))"
   ]
  },
  {
   "cell_type": "code",
   "execution_count": 147,
   "metadata": {},
   "outputs": [
    {
     "name": "stdout",
     "output_type": "stream",
     "text": [
      "8400/8424 [============================>.] - ETA: 0s"
     ]
    }
   ],
   "source": [
    "prediction = model.predict(X_test, verbose=1, batch_size=200)"
   ]
  },
  {
   "cell_type": "code",
   "execution_count": 148,
   "metadata": {},
   "outputs": [
    {
     "data": {
      "text/html": [
       "<div>\n",
       "<table border=\"1\" class=\"dataframe\">\n",
       "  <thead>\n",
       "    <tr style=\"text-align: right;\">\n",
       "      <th></th>\n",
       "      <th>id</th>\n",
       "      <th>is_iceberg</th>\n",
       "    </tr>\n",
       "  </thead>\n",
       "  <tbody>\n",
       "    <tr>\n",
       "      <th>0</th>\n",
       "      <td>5941774d</td>\n",
       "      <td>0.050204</td>\n",
       "    </tr>\n",
       "    <tr>\n",
       "      <th>1</th>\n",
       "      <td>4023181e</td>\n",
       "      <td>0.557825</td>\n",
       "    </tr>\n",
       "    <tr>\n",
       "      <th>2</th>\n",
       "      <td>b20200e4</td>\n",
       "      <td>0.007555</td>\n",
       "    </tr>\n",
       "    <tr>\n",
       "      <th>3</th>\n",
       "      <td>e7f018bb</td>\n",
       "      <td>0.999854</td>\n",
       "    </tr>\n",
       "    <tr>\n",
       "      <th>4</th>\n",
       "      <td>4371c8c3</td>\n",
       "      <td>0.110107</td>\n",
       "    </tr>\n",
       "    <tr>\n",
       "      <th>5</th>\n",
       "      <td>a8d9b1fd</td>\n",
       "      <td>0.175879</td>\n",
       "    </tr>\n",
       "    <tr>\n",
       "      <th>6</th>\n",
       "      <td>29e7727e</td>\n",
       "      <td>0.053483</td>\n",
       "    </tr>\n",
       "    <tr>\n",
       "      <th>7</th>\n",
       "      <td>92a51ffb</td>\n",
       "      <td>0.999565</td>\n",
       "    </tr>\n",
       "    <tr>\n",
       "      <th>8</th>\n",
       "      <td>c769ac97</td>\n",
       "      <td>0.062707</td>\n",
       "    </tr>\n",
       "    <tr>\n",
       "      <th>9</th>\n",
       "      <td>aee0547d</td>\n",
       "      <td>0.022476</td>\n",
       "    </tr>\n",
       "  </tbody>\n",
       "</table>\n",
       "</div>"
      ],
      "text/plain": [
       "         id  is_iceberg\n",
       "0  5941774d    0.050204\n",
       "1  4023181e    0.557825\n",
       "2  b20200e4    0.007555\n",
       "3  e7f018bb    0.999854\n",
       "4  4371c8c3    0.110107\n",
       "5  a8d9b1fd    0.175879\n",
       "6  29e7727e    0.053483\n",
       "7  92a51ffb    0.999565\n",
       "8  c769ac97    0.062707\n",
       "9  aee0547d    0.022476"
      ]
     },
     "execution_count": 148,
     "metadata": {},
     "output_type": "execute_result"
    }
   ],
   "source": [
    "submission = pd.DataFrame({'id': test[\"id\"], 'is_iceberg': prediction.reshape((prediction.shape[0]))})\n",
    "submission.head(10)"
   ]
  },
  {
   "cell_type": "code",
   "execution_count": 149,
   "metadata": {
    "collapsed": true
   },
   "outputs": [],
   "source": [
    "submission.to_csv(\"/mnt/extDisk/courses/data/statoil/data/train/pseudo_labeling_sure_resnet.csv\", index=False)"
   ]
  },
  {
   "cell_type": "code",
   "execution_count": 131,
   "metadata": {},
   "outputs": [
    {
     "data": {
      "text/plain": [
       "<module 'utils' from 'utils.py'>"
      ]
     },
     "execution_count": 131,
     "metadata": {},
     "output_type": "execute_result"
    }
   ],
   "source": []
  },
  {
   "cell_type": "code",
   "execution_count": null,
   "metadata": {
    "collapsed": true
   },
   "outputs": [],
   "source": []
  }
 ],
 "metadata": {
  "kernelspec": {
   "display_name": "Python 2",
   "language": "python",
   "name": "python2"
  },
  "language_info": {
   "codemirror_mode": {
    "name": "ipython",
    "version": 2
   },
   "file_extension": ".py",
   "mimetype": "text/x-python",
   "name": "python",
   "nbconvert_exporter": "python",
   "pygments_lexer": "ipython2",
   "version": "2.7.12"
  }
 },
 "nbformat": 4,
 "nbformat_minor": 2
}
